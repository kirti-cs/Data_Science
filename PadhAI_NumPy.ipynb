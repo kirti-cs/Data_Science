{
  "nbformat": 4,
  "nbformat_minor": 0,
  "metadata": {
    "colab": {
      "name": "PadhAI_NumPy.ipynb",
      "provenance": [],
      "collapsed_sections": [
        "STulsUtXbjQ6",
        "w1lOG-uCe0AO",
        "Xh3lZAAqDa3R",
        "Kmc54WnoHZAb",
        "pv_yEQS1MVMt",
        "cR6XSjU6C0Iu",
        "k-T6qAAeIgH2"
      ],
      "authorship_tag": "ABX9TyN+SNxYjUF11h5Bb4nJ+suM"
    },
    "kernelspec": {
      "display_name": "Python 3",
      "name": "python3"
    },
    "language_info": {
      "name": "python"
    }
  },
  "cells": [
    {
      "cell_type": "markdown",
      "metadata": {
        "id": "tfl-WCRVVkqQ"
      },
      "source": [
        "#NumPy\n",
        "\n",
        "**--> We know lists, sets, tuples, dictionaries.**\n",
        "\n",
        "a. Very inefficient, 10x to 100x slower.\n",
        "\n",
        "b. Designed to store heterogenous data.\n",
        "\n",
        "c. No low-level h/w mechanisms to accelerate operations on lists.\n",
        "\n",
        "\n",
        "\n",
        "**--> Intended to bring performance and functionality improvements.**\n",
        "\n",
        "1. NumPy at user (programming) level:\n",
        "\n",
        "  1. Provide implementations of many functions across linear algebra, statistics,...\n",
        "  2. Efficiently broadcast operations across dimensions.\n",
        "\n",
        "2. NumPy at programming languages level:\n",
        "\n",
        "  1.   Enable other packages to use numpy arrays as an efficient data interface. (written in C)\n",
        "  2.   Efficiently process data without type-checking overhead.\n",
        "\n",
        "\n",
        "3. NumPy at hardware and interface level:\n",
        "\n",
        "  1. Enable easy file save and load of n-d arrays.\n",
        "  2. Efficiently store n-d arrays in vectorised form to benifit from DRAM locality."
      ]
    },
    {
      "cell_type": "code",
      "metadata": {
        "id": "0B3163nfdVwk"
      },
      "source": [
        "import numpy as np"
      ],
      "execution_count": null,
      "outputs": []
    },
    {
      "cell_type": "markdown",
      "metadata": {
        "id": "STulsUtXbjQ6"
      },
      "source": [
        "##Comparing performance of Lists, etc."
      ]
    },
    {
      "cell_type": "code",
      "metadata": {
        "id": "DvQPSOjITJyT"
      },
      "source": [
        "N = 10000000"
      ],
      "execution_count": null,
      "outputs": []
    },
    {
      "cell_type": "code",
      "metadata": {
        "colab": {
          "base_uri": "https://localhost:8080/"
        },
        "id": "g9l-dPTAbqeF",
        "outputId": "4eb072b2-353a-49c4-b0de-bea88d0549bc"
      },
      "source": [
        "%%time\n",
        "list_ = list(range(N))\n",
        "for i in range(N):\n",
        "  list_[i] = list_[i] * list_[i]"
      ],
      "execution_count": null,
      "outputs": [
        {
          "output_type": "stream",
          "text": [
            "CPU times: user 3.02 s, sys: 178 ms, total: 3.2 s\n",
            "Wall time: 3.21 s\n"
          ],
          "name": "stdout"
        }
      ]
    },
    {
      "cell_type": "code",
      "metadata": {
        "colab": {
          "base_uri": "https://localhost:8080/"
        },
        "id": "yp_zDeZub3v4",
        "outputId": "cfcf1eb1-0de3-4300-e75f-9623280a3d33"
      },
      "source": [
        "%%time\n",
        "list_ = list(range(N))\n",
        "list_ = [item * item for item in list_]    #It is 33% faster than previous"
      ],
      "execution_count": null,
      "outputs": [
        {
          "output_type": "stream",
          "text": [
            "CPU times: user 1.14 s, sys: 356 ms, total: 1.5 s\n",
            "Wall time: 1.5 s\n"
          ],
          "name": "stdout"
        }
      ]
    },
    {
      "cell_type": "code",
      "metadata": {
        "colab": {
          "base_uri": "https://localhost:8080/"
        },
        "id": "JwU2FGeJcYMA",
        "outputId": "a2b5a497-6ec4-4e7a-ea68-ed3f844b6e22"
      },
      "source": [
        "%%time\n",
        "list_ = list(range(N))\n",
        "list_= map(lambda x: x * x, list_)    #Map() applies to every argument of list, and with lambda we can send any inline function\n",
        "#Use for large datasets, gives 5x better improvement than original."
      ],
      "execution_count": null,
      "outputs": [
        {
          "output_type": "stream",
          "text": [
            "CPU times: user 265 ms, sys: 163 ms, total: 428 ms\n",
            "Wall time: 430 ms\n"
          ],
          "name": "stdout"
        }
      ]
    },
    {
      "cell_type": "code",
      "metadata": {
        "colab": {
          "base_uri": "https://localhost:8080/"
        },
        "id": "3LIi7pTJcu-r",
        "outputId": "0383eacd-3bcc-417b-e6bc-680fa13ffc4f"
      },
      "source": [
        "%%time\n",
        "list_ = list(range(N))\n",
        "list_sum = 0\n",
        "for item in list_:\n",
        "  list_sum += item"
      ],
      "execution_count": null,
      "outputs": [
        {
          "output_type": "stream",
          "text": [
            "CPU times: user 1.45 s, sys: 158 ms, total: 1.61 s\n",
            "Wall time: 1.61 s\n"
          ],
          "name": "stdout"
        }
      ]
    },
    {
      "cell_type": "code",
      "metadata": {
        "colab": {
          "base_uri": "https://localhost:8080/"
        },
        "id": "52yOc_0MdN0Z",
        "outputId": "65aa2f0f-eff6-4c60-d483-73b44a073dcd"
      },
      "source": [
        "%%time\n",
        "list_ = list(range(N))\n",
        "list_sum = sum(list_)   #predefined functions are way faster"
      ],
      "execution_count": null,
      "outputs": [
        {
          "output_type": "stream",
          "text": [
            "CPU times: user 325 ms, sys: 163 ms, total: 488 ms\n",
            "Wall time: 487 ms\n"
          ],
          "name": "stdout"
        }
      ]
    },
    {
      "cell_type": "code",
      "metadata": {
        "colab": {
          "base_uri": "https://localhost:8080/"
        },
        "id": "R-PV9Ux8dm-r",
        "outputId": "d15e5f5a-e001-40ac-ddf5-89ea52604262"
      },
      "source": [
        "%%time\n",
        "arr = np.arange(N)\n",
        "arr = arr * arr          #Multiply item wise for any dimensions"
      ],
      "execution_count": null,
      "outputs": [
        {
          "output_type": "stream",
          "text": [
            "CPU times: user 46.2 ms, sys: 2.89 ms, total: 49.1 ms\n",
            "Wall time: 54.2 ms\n"
          ],
          "name": "stdout"
        }
      ]
    },
    {
      "cell_type": "code",
      "metadata": {
        "colab": {
          "base_uri": "https://localhost:8080/"
        },
        "id": "G87PaXxSd39F",
        "outputId": "4bef24ca-cd6f-437b-e2b8-e30e3161eeee"
      },
      "source": [
        "%%time\n",
        "arr = np.arange(N)\n",
        "arr_sum = np.sum(arr)"
      ],
      "execution_count": null,
      "outputs": [
        {
          "output_type": "stream",
          "text": [
            "CPU times: user 31.1 ms, sys: 3.88 ms, total: 35 ms\n",
            "Wall time: 36.7 ms\n"
          ],
          "name": "stdout"
        }
      ]
    },
    {
      "cell_type": "markdown",
      "metadata": {
        "id": "w1lOG-uCe0AO"
      },
      "source": [
        "##High Dimensional Array\n",
        "\n",
        "We index dimensions backwards in the order we added them.\n",
        "\n",
        "**For 3-d array:**\n",
        "\n",
        "Dim 2 -> x-axis\n",
        "\n",
        "Dim 1 -> y-axis (downwards)\n",
        "\n",
        "Dim 0 -> z-axis (along which we get multiple matrix)\n",
        "\n",
        "Shape of array = Size of array"
      ]
    },
    {
      "cell_type": "code",
      "metadata": {
        "colab": {
          "base_uri": "https://localhost:8080/"
        },
        "id": "oBeJnzzneFMu",
        "outputId": "fb789624-95a2-4ddc-809a-3a221494b130"
      },
      "source": [
        "arr = np.arange(5)\n",
        "print(arr, type (arr))"
      ],
      "execution_count": null,
      "outputs": [
        {
          "output_type": "stream",
          "text": [
            "[0 1 2 3 4] <class 'numpy.ndarray'>\n"
          ],
          "name": "stdout"
        }
      ]
    },
    {
      "cell_type": "code",
      "metadata": {
        "colab": {
          "base_uri": "https://localhost:8080/"
        },
        "id": "JjmjS-evlZgt",
        "outputId": "8c8aaf44-d32f-4e4b-fe30-1ced0f1d8701"
      },
      "source": [
        "arr = np.array([0, 2, 4, 6, 8])\n",
        "arr"
      ],
      "execution_count": null,
      "outputs": [
        {
          "output_type": "execute_result",
          "data": {
            "text/plain": [
              "array([0, 2, 4, 6, 8])"
            ]
          },
          "metadata": {
            "tags": []
          },
          "execution_count": 11
        }
      ]
    },
    {
      "cell_type": "code",
      "metadata": {
        "colab": {
          "base_uri": "https://localhost:8080/"
        },
        "id": "P0hhiwdBliOf",
        "outputId": "8d8fe715-0ecf-4e46-87d7-c08263b3457c"
      },
      "source": [
        "arr.dtype  #If arr has any one element as float, then whole array is of type float64"
      ],
      "execution_count": null,
      "outputs": [
        {
          "output_type": "execute_result",
          "data": {
            "text/plain": [
              "dtype('int64')"
            ]
          },
          "metadata": {
            "tags": []
          },
          "execution_count": 12
        }
      ]
    },
    {
      "cell_type": "code",
      "metadata": {
        "colab": {
          "base_uri": "https://localhost:8080/"
        },
        "id": "fdNp-hCblqMB",
        "outputId": "2dc74921-de6f-4362-a974-8e3a2ba41cfe"
      },
      "source": [
        "arr.ndim"
      ],
      "execution_count": null,
      "outputs": [
        {
          "output_type": "execute_result",
          "data": {
            "text/plain": [
              "1"
            ]
          },
          "metadata": {
            "tags": []
          },
          "execution_count": 13
        }
      ]
    },
    {
      "cell_type": "code",
      "metadata": {
        "colab": {
          "base_uri": "https://localhost:8080/"
        },
        "id": "SR0V-Uf2lsn0",
        "outputId": "45f2e032-a472-4128-d942-7a4abbe82bb0"
      },
      "source": [
        "arr.shape"
      ],
      "execution_count": null,
      "outputs": [
        {
          "output_type": "execute_result",
          "data": {
            "text/plain": [
              "(5,)"
            ]
          },
          "metadata": {
            "tags": []
          },
          "execution_count": 14
        }
      ]
    },
    {
      "cell_type": "code",
      "metadata": {
        "colab": {
          "base_uri": "https://localhost:8080/"
        },
        "id": "2xm-2vWGluhO",
        "outputId": "a20ba1ba-ffe5-489e-b2b5-a5dca0634802"
      },
      "source": [
        "arr.size"
      ],
      "execution_count": null,
      "outputs": [
        {
          "output_type": "execute_result",
          "data": {
            "text/plain": [
              "5"
            ]
          },
          "metadata": {
            "tags": []
          },
          "execution_count": 15
        }
      ]
    },
    {
      "cell_type": "code",
      "metadata": {
        "colab": {
          "base_uri": "https://localhost:8080/"
        },
        "id": "Z1mpjqvdlygD",
        "outputId": "818081aa-4100-4fd6-fd75-669e427a273a"
      },
      "source": [
        "arr.itemsize"
      ],
      "execution_count": null,
      "outputs": [
        {
          "output_type": "execute_result",
          "data": {
            "text/plain": [
              "8"
            ]
          },
          "metadata": {
            "tags": []
          },
          "execution_count": 16
        }
      ]
    },
    {
      "cell_type": "code",
      "metadata": {
        "colab": {
          "base_uri": "https://localhost:8080/"
        },
        "id": "LgjCnF4Al1il",
        "outputId": "115190bf-de79-4ab2-dacc-b5252846ac24"
      },
      "source": [
        "arr2d = np.array([\n",
        "                  [1, 2, 3],\n",
        "                  [4, 5, 6]\n",
        "])\n",
        "arr2d"
      ],
      "execution_count": null,
      "outputs": [
        {
          "output_type": "execute_result",
          "data": {
            "text/plain": [
              "array([[1, 2, 3],\n",
              "       [4, 5, 6]])"
            ]
          },
          "metadata": {
            "tags": []
          },
          "execution_count": 17
        }
      ]
    },
    {
      "cell_type": "code",
      "metadata": {
        "colab": {
          "base_uri": "https://localhost:8080/"
        },
        "id": "pY-yb-CqmXwJ",
        "outputId": "f6fb8f89-b066-485e-af78-b05d008dfbb4"
      },
      "source": [
        "arr2d.ndim"
      ],
      "execution_count": null,
      "outputs": [
        {
          "output_type": "execute_result",
          "data": {
            "text/plain": [
              "2"
            ]
          },
          "metadata": {
            "tags": []
          },
          "execution_count": 18
        }
      ]
    },
    {
      "cell_type": "code",
      "metadata": {
        "colab": {
          "base_uri": "https://localhost:8080/"
        },
        "id": "e_08ALGQmb3e",
        "outputId": "b6622869-9852-494c-be74-1bfa96e4d4be"
      },
      "source": [
        "arr2d.shape"
      ],
      "execution_count": null,
      "outputs": [
        {
          "output_type": "execute_result",
          "data": {
            "text/plain": [
              "(2, 3)"
            ]
          },
          "metadata": {
            "tags": []
          },
          "execution_count": 19
        }
      ]
    },
    {
      "cell_type": "code",
      "metadata": {
        "colab": {
          "base_uri": "https://localhost:8080/"
        },
        "id": "LP3jAvXzmezF",
        "outputId": "147204b9-c898-4919-f20e-801759495081"
      },
      "source": [
        "arr2d.size"
      ],
      "execution_count": null,
      "outputs": [
        {
          "output_type": "execute_result",
          "data": {
            "text/plain": [
              "6"
            ]
          },
          "metadata": {
            "tags": []
          },
          "execution_count": 20
        }
      ]
    },
    {
      "cell_type": "code",
      "metadata": {
        "colab": {
          "base_uri": "https://localhost:8080/"
        },
        "id": "s6-wv4nxmgli",
        "outputId": "ba6757e5-9f64-4535-941c-d5258ab1ba54"
      },
      "source": [
        "arr3d = np.array([\n",
        "                  [\n",
        "                   [1, 2, 3],\n",
        "                   [4, 5, 6]\n",
        "                  ],\n",
        "                  [\n",
        "                   [7, 8, 9],\n",
        "                   [10, 11, 12]\n",
        "                  ]\n",
        "])\n",
        "arr3d"
      ],
      "execution_count": null,
      "outputs": [
        {
          "output_type": "execute_result",
          "data": {
            "text/plain": [
              "array([[[ 1,  2,  3],\n",
              "        [ 4,  5,  6]],\n",
              "\n",
              "       [[ 7,  8,  9],\n",
              "        [10, 11, 12]]])"
            ]
          },
          "metadata": {
            "tags": []
          },
          "execution_count": 21
        }
      ]
    },
    {
      "cell_type": "code",
      "metadata": {
        "colab": {
          "base_uri": "https://localhost:8080/"
        },
        "id": "GDVKvLwEm2qm",
        "outputId": "efaa287a-8c6f-4205-a6b2-c86a73d04976"
      },
      "source": [
        "arr3d.ndim"
      ],
      "execution_count": null,
      "outputs": [
        {
          "output_type": "execute_result",
          "data": {
            "text/plain": [
              "3"
            ]
          },
          "metadata": {
            "tags": []
          },
          "execution_count": 23
        }
      ]
    },
    {
      "cell_type": "code",
      "metadata": {
        "colab": {
          "base_uri": "https://localhost:8080/"
        },
        "id": "0WKZK5-9m6Uu",
        "outputId": "1cb6caf5-9f86-46ee-9e4b-c98a30b7391d"
      },
      "source": [
        "arr3d.size"
      ],
      "execution_count": null,
      "outputs": [
        {
          "output_type": "execute_result",
          "data": {
            "text/plain": [
              "12"
            ]
          },
          "metadata": {
            "tags": []
          },
          "execution_count": 24
        }
      ]
    },
    {
      "cell_type": "code",
      "metadata": {
        "colab": {
          "base_uri": "https://localhost:8080/"
        },
        "id": "FKM4akZXnAfk",
        "outputId": "29b11747-cc96-4b61-b0c2-3a5c0a1d4944"
      },
      "source": [
        "arr3d.shape"
      ],
      "execution_count": null,
      "outputs": [
        {
          "output_type": "execute_result",
          "data": {
            "text/plain": [
              "(2, 2, 3)"
            ]
          },
          "metadata": {
            "tags": []
          },
          "execution_count": 25
        }
      ]
    },
    {
      "cell_type": "code",
      "metadata": {
        "colab": {
          "base_uri": "https://localhost:8080/"
        },
        "id": "GbuCusIynDDA",
        "outputId": "bc4eafaa-0e74-4557-d8e6-28b67e49cafa"
      },
      "source": [
        "np.ones((2, 3, 4))"
      ],
      "execution_count": null,
      "outputs": [
        {
          "output_type": "execute_result",
          "data": {
            "text/plain": [
              "array([[[1., 1., 1., 1.],\n",
              "        [1., 1., 1., 1.],\n",
              "        [1., 1., 1., 1.]],\n",
              "\n",
              "       [[1., 1., 1., 1.],\n",
              "        [1., 1., 1., 1.],\n",
              "        [1., 1., 1., 1.]]])"
            ]
          },
          "metadata": {
            "tags": []
          },
          "execution_count": 26
        }
      ]
    },
    {
      "cell_type": "code",
      "metadata": {
        "colab": {
          "base_uri": "https://localhost:8080/"
        },
        "id": "RmFvHwnQnIMp",
        "outputId": "44c50644-8f71-4d08-f7fb-6f80c1154c51"
      },
      "source": [
        "172 * np.ones((2, 3))   #multiply by broadcasting"
      ],
      "execution_count": null,
      "outputs": [
        {
          "output_type": "execute_result",
          "data": {
            "text/plain": [
              "array([[172., 172., 172.],\n",
              "       [172., 172., 172.]])"
            ]
          },
          "metadata": {
            "tags": []
          },
          "execution_count": 27
        }
      ]
    },
    {
      "cell_type": "code",
      "metadata": {
        "colab": {
          "base_uri": "https://localhost:8080/"
        },
        "id": "BQIgnsPynQTa",
        "outputId": "5d047613-9684-4bf0-c51a-29dfb1a8acf7"
      },
      "source": [
        "np.zeros((2, 3))"
      ],
      "execution_count": null,
      "outputs": [
        {
          "output_type": "execute_result",
          "data": {
            "text/plain": [
              "array([[0., 0., 0.],\n",
              "       [0., 0., 0.]])"
            ]
          },
          "metadata": {
            "tags": []
          },
          "execution_count": 28
        }
      ]
    },
    {
      "cell_type": "code",
      "metadata": {
        "colab": {
          "base_uri": "https://localhost:8080/"
        },
        "id": "kcuzmMg8nTV-",
        "outputId": "a02f843c-27e2-439a-a122-08d8b292462a"
      },
      "source": [
        "np.random.randn(2, 3)   #random number of normal distribution with mean = 0 and sd = 1"
      ],
      "execution_count": null,
      "outputs": [
        {
          "output_type": "execute_result",
          "data": {
            "text/plain": [
              "array([[-0.8298848 , -0.23685863,  1.77352052],\n",
              "       [-1.01977864,  1.02954827, -1.59436032]])"
            ]
          },
          "metadata": {
            "tags": []
          },
          "execution_count": 29
        }
      ]
    },
    {
      "cell_type": "code",
      "metadata": {
        "colab": {
          "base_uri": "https://localhost:8080/"
        },
        "id": "nXtGXW68niaU",
        "outputId": "021ddd3f-bf34-46eb-ddee-87d2ef6a1e6d"
      },
      "source": [
        "np.random.rand(2, 3)   #num between 0 to 1 of uniform distributiton"
      ],
      "execution_count": null,
      "outputs": [
        {
          "output_type": "execute_result",
          "data": {
            "text/plain": [
              "array([[0.9515171 , 0.15094756, 0.09665455],\n",
              "       [0.63606107, 0.14670837, 0.17702847]])"
            ]
          },
          "metadata": {
            "tags": []
          },
          "execution_count": 30
        }
      ]
    },
    {
      "cell_type": "code",
      "metadata": {
        "colab": {
          "base_uri": "https://localhost:8080/"
        },
        "id": "T_L7XzdMnv5v",
        "outputId": "bcd6276b-cf09-4f08-cdcd-271562f9f889"
      },
      "source": [
        "np.random.randint(0, 100, (2, 3))  #gives random int b/w 0 to 100, with shape (2,3)"
      ],
      "execution_count": null,
      "outputs": [
        {
          "output_type": "execute_result",
          "data": {
            "text/plain": [
              "array([[78, 79, 71],\n",
              "       [30, 33,  0]])"
            ]
          },
          "metadata": {
            "tags": []
          },
          "execution_count": 31
        }
      ]
    },
    {
      "cell_type": "code",
      "metadata": {
        "colab": {
          "base_uri": "https://localhost:8080/"
        },
        "id": "UVuF9X5zoH1m",
        "outputId": "72295048-4e34-4ef4-ce91-d25983c09be8"
      },
      "source": [
        "np.arange(7, 71, 10)   #get10 nums in range 7-70"
      ],
      "execution_count": null,
      "outputs": [
        {
          "output_type": "execute_result",
          "data": {
            "text/plain": [
              "array([ 7, 17, 27, 37, 47, 57, 67])"
            ]
          },
          "metadata": {
            "tags": []
          },
          "execution_count": 33
        }
      ]
    },
    {
      "cell_type": "code",
      "metadata": {
        "colab": {
          "base_uri": "https://localhost:8080/"
        },
        "id": "lv4zILMh4kA3",
        "outputId": "60a6d7cb-5ec6-47f8-e0f8-d9023e967b11"
      },
      "source": [
        "np.linspace(7, 70, 10)  #gives float no. from range 7-70 distributed equally"
      ],
      "execution_count": null,
      "outputs": [
        {
          "output_type": "execute_result",
          "data": {
            "text/plain": [
              "array([ 7., 14., 21., 28., 35., 42., 49., 56., 63., 70.])"
            ]
          },
          "metadata": {
            "tags": []
          },
          "execution_count": 36
        }
      ]
    },
    {
      "cell_type": "code",
      "metadata": {
        "colab": {
          "base_uri": "https://localhost:8080/"
        },
        "id": "DdlARHAzBB8Z",
        "outputId": "7f671531-a8f4-4198-d8c7-6142121ae10c"
      },
      "source": [
        "np.array([True, False, True])   #np arrays can have bool too"
      ],
      "execution_count": null,
      "outputs": [
        {
          "output_type": "execute_result",
          "data": {
            "text/plain": [
              "array([ True, False,  True])"
            ]
          },
          "metadata": {
            "tags": []
          },
          "execution_count": 39
        }
      ]
    },
    {
      "cell_type": "code",
      "metadata": {
        "id": "zkzWT2oLBrqS"
      },
      "source": [
        "str_arr = np.array(['1.4', '2.1', '1.1'])    #np array of strings of 3 unit length"
      ],
      "execution_count": null,
      "outputs": []
    },
    {
      "cell_type": "code",
      "metadata": {
        "id": "offKTmgzB0aE"
      },
      "source": [
        "arr = np.array(str_arr, dtype = 'float')  #converting str arr to float arr"
      ],
      "execution_count": null,
      "outputs": []
    },
    {
      "cell_type": "code",
      "metadata": {
        "colab": {
          "base_uri": "https://localhost:8080/"
        },
        "id": "fwz503sKC-g5",
        "outputId": "b1caf972-cce2-4b62-9236-49274169fdfc"
      },
      "source": [
        "arr"
      ],
      "execution_count": null,
      "outputs": [
        {
          "output_type": "execute_result",
          "data": {
            "text/plain": [
              "array([1.4, 2.1, 1.1])"
            ]
          },
          "metadata": {
            "tags": []
          },
          "execution_count": 42
        }
      ]
    },
    {
      "cell_type": "markdown",
      "metadata": {
        "id": "Xh3lZAAqDa3R"
      },
      "source": [
        "##Indexing"
      ]
    },
    {
      "cell_type": "code",
      "metadata": {
        "colab": {
          "base_uri": "https://localhost:8080/"
        },
        "id": "gz5liCuJC_Sf",
        "outputId": "d2fec72a-e880-4cd2-df08-637be5a2a361"
      },
      "source": [
        "print(arr3d)"
      ],
      "execution_count": null,
      "outputs": [
        {
          "output_type": "stream",
          "text": [
            "[[[ 1  2  3]\n",
            "  [ 4  5  6]]\n",
            "\n",
            " [[ 7  8  9]\n",
            "  [10 11 12]]]\n"
          ],
          "name": "stdout"
        }
      ]
    },
    {
      "cell_type": "code",
      "metadata": {
        "colab": {
          "base_uri": "https://localhost:8080/"
        },
        "id": "_ZJHSdUvDfF0",
        "outputId": "ce68d013-cec2-44ad-a8da-164c5a4a5a65"
      },
      "source": [
        "arr3d[0, 1, 2]"
      ],
      "execution_count": null,
      "outputs": [
        {
          "output_type": "execute_result",
          "data": {
            "text/plain": [
              "6"
            ]
          },
          "metadata": {
            "tags": []
          },
          "execution_count": 44
        }
      ]
    },
    {
      "cell_type": "code",
      "metadata": {
        "colab": {
          "base_uri": "https://localhost:8080/"
        },
        "id": "6e0XZQZ9DmkI",
        "outputId": "f56d2c17-1629-4815-bd6c-259f38474761"
      },
      "source": [
        "i = 1\n",
        "j = 0\n",
        "k = 2\n",
        "arr3d[i, j, k]"
      ],
      "execution_count": null,
      "outputs": [
        {
          "output_type": "execute_result",
          "data": {
            "text/plain": [
              "9"
            ]
          },
          "metadata": {
            "tags": []
          },
          "execution_count": 45
        }
      ]
    },
    {
      "cell_type": "code",
      "metadata": {
        "colab": {
          "base_uri": "https://localhost:8080/"
        },
        "id": "Fev5B1rCDvw2",
        "outputId": "9c849765-3943-4102-8378-bcf35332acc7"
      },
      "source": [
        "arr3d[1, :, :]"
      ],
      "execution_count": null,
      "outputs": [
        {
          "output_type": "execute_result",
          "data": {
            "text/plain": [
              "array([[ 7,  8,  9],\n",
              "       [10, 11, 12]])"
            ]
          },
          "metadata": {
            "tags": []
          },
          "execution_count": 46
        }
      ]
    },
    {
      "cell_type": "code",
      "metadata": {
        "colab": {
          "base_uri": "https://localhost:8080/"
        },
        "id": "X6Pg22YFDz1h",
        "outputId": "7b9ab3b6-f61f-4b5c-fbec-f53adb8fb869"
      },
      "source": [
        "arr3d[:, 1, :]"
      ],
      "execution_count": null,
      "outputs": [
        {
          "output_type": "execute_result",
          "data": {
            "text/plain": [
              "array([[ 4,  5,  6],\n",
              "       [10, 11, 12]])"
            ]
          },
          "metadata": {
            "tags": []
          },
          "execution_count": 47
        }
      ]
    },
    {
      "cell_type": "code",
      "metadata": {
        "colab": {
          "base_uri": "https://localhost:8080/"
        },
        "id": "LLNn4_jZD3tJ",
        "outputId": "a501947f-829c-4522-e5c3-6e5988e027d9"
      },
      "source": [
        "arr3d[:, :, 0:2]"
      ],
      "execution_count": null,
      "outputs": [
        {
          "output_type": "execute_result",
          "data": {
            "text/plain": [
              "array([[[ 1,  2],\n",
              "        [ 4,  5]],\n",
              "\n",
              "       [[ 7,  8],\n",
              "        [10, 11]]])"
            ]
          },
          "metadata": {
            "tags": []
          },
          "execution_count": 48
        }
      ]
    },
    {
      "cell_type": "code",
      "metadata": {
        "colab": {
          "base_uri": "https://localhost:8080/"
        },
        "id": "7N6if_OTD8Bj",
        "outputId": "c93ae3a8-291e-4515-af0a-75c39fe4f50c"
      },
      "source": [
        "arr3d % 2 == 0"
      ],
      "execution_count": null,
      "outputs": [
        {
          "output_type": "execute_result",
          "data": {
            "text/plain": [
              "array([[[False,  True, False],\n",
              "        [ True, False,  True]],\n",
              "\n",
              "       [[False,  True, False],\n",
              "        [ True, False,  True]]])"
            ]
          },
          "metadata": {
            "tags": []
          },
          "execution_count": 49
        }
      ]
    },
    {
      "cell_type": "code",
      "metadata": {
        "colab": {
          "base_uri": "https://localhost:8080/"
        },
        "id": "GNpsY15CERhN",
        "outputId": "e797c658-b0d5-4e9d-a3da-08448b671fc1"
      },
      "source": [
        "arr3d[arr3d % 2 == 0]"
      ],
      "execution_count": null,
      "outputs": [
        {
          "output_type": "execute_result",
          "data": {
            "text/plain": [
              "array([ 2,  4,  6,  8, 10, 12])"
            ]
          },
          "metadata": {
            "tags": []
          },
          "execution_count": 51
        }
      ]
    },
    {
      "cell_type": "code",
      "metadata": {
        "colab": {
          "base_uri": "https://localhost:8080/"
        },
        "id": "idtspr2gEa-5",
        "outputId": "0d1cb13e-693d-44f4-adbd-13417784cc95"
      },
      "source": [
        "arr3d[(arr3d % 2 == 1) & (arr3d > 3)]"
      ],
      "execution_count": null,
      "outputs": [
        {
          "output_type": "execute_result",
          "data": {
            "text/plain": [
              "array([ 5,  7,  9, 11])"
            ]
          },
          "metadata": {
            "tags": []
          },
          "execution_count": 52
        }
      ]
    },
    {
      "cell_type": "code",
      "metadata": {
        "id": "hC4jUE5UEsPH"
      },
      "source": [
        "arr_slice = arr3d[:,:,0:2]"
      ],
      "execution_count": null,
      "outputs": []
    },
    {
      "cell_type": "code",
      "metadata": {
        "colab": {
          "base_uri": "https://localhost:8080/"
        },
        "id": "dDPFUw0ZE8qT",
        "outputId": "586000f7-fc68-4ad7-9a5e-5015fe624922"
      },
      "source": [
        "print(type(arr_slice))  #but it is not a deep copy, but just the reference copy. So any change to it will be shown in original."
      ],
      "execution_count": null,
      "outputs": [
        {
          "output_type": "stream",
          "text": [
            "<class 'numpy.ndarray'>\n"
          ],
          "name": "stdout"
        }
      ]
    },
    {
      "cell_type": "code",
      "metadata": {
        "colab": {
          "base_uri": "https://localhost:8080/"
        },
        "id": "y-vnzCUQFYvg",
        "outputId": "dbac677f-3ecb-4e19-d8a5-1d016022956f"
      },
      "source": [
        "arr_slice.ndim"
      ],
      "execution_count": null,
      "outputs": [
        {
          "output_type": "execute_result",
          "data": {
            "text/plain": [
              "3"
            ]
          },
          "metadata": {
            "tags": []
          },
          "execution_count": 55
        }
      ]
    },
    {
      "cell_type": "code",
      "metadata": {
        "colab": {
          "base_uri": "https://localhost:8080/"
        },
        "id": "3797rBcIFbD8",
        "outputId": "2214ac66-b184-4f30-80b1-548053b54a24"
      },
      "source": [
        "arr_slice.shape"
      ],
      "execution_count": null,
      "outputs": [
        {
          "output_type": "execute_result",
          "data": {
            "text/plain": [
              "(2, 2, 2)"
            ]
          },
          "metadata": {
            "tags": []
          },
          "execution_count": 56
        }
      ]
    },
    {
      "cell_type": "code",
      "metadata": {
        "id": "8sxP5RoyFd1W"
      },
      "source": [
        "arr_slice[0, 0, 1] = 69"
      ],
      "execution_count": null,
      "outputs": []
    },
    {
      "cell_type": "code",
      "metadata": {
        "colab": {
          "base_uri": "https://localhost:8080/"
        },
        "id": "IQ5DEZ3zFiGS",
        "outputId": "f3648b7e-849f-4e9e-b78d-fc6e39efa0a4"
      },
      "source": [
        "arr_slice"
      ],
      "execution_count": null,
      "outputs": [
        {
          "output_type": "execute_result",
          "data": {
            "text/plain": [
              "array([[[ 1, 69],\n",
              "        [ 4,  5]],\n",
              "\n",
              "       [[ 7,  8],\n",
              "        [10, 11]]])"
            ]
          },
          "metadata": {
            "tags": []
          },
          "execution_count": 58
        }
      ]
    },
    {
      "cell_type": "code",
      "metadata": {
        "colab": {
          "base_uri": "https://localhost:8080/"
        },
        "id": "WXnAtsOcFmB4",
        "outputId": "4d174afc-5449-457a-8768-f29de81dc008"
      },
      "source": [
        "arr3d"
      ],
      "execution_count": null,
      "outputs": [
        {
          "output_type": "execute_result",
          "data": {
            "text/plain": [
              "array([[[ 1, 69,  3],\n",
              "        [ 4,  5,  6]],\n",
              "\n",
              "       [[ 7,  8,  9],\n",
              "        [10, 11, 12]]])"
            ]
          },
          "metadata": {
            "tags": []
          },
          "execution_count": 59
        }
      ]
    },
    {
      "cell_type": "code",
      "metadata": {
        "id": "JAvrqwsrFo26"
      },
      "source": [
        "arr_slice = np.copy(arr3d[:,:,0:2])"
      ],
      "execution_count": null,
      "outputs": []
    },
    {
      "cell_type": "code",
      "metadata": {
        "colab": {
          "base_uri": "https://localhost:8080/"
        },
        "id": "Sw84ABhlF-EG",
        "outputId": "675976e7-fffc-42d2-dd6a-550f50f574bb"
      },
      "source": [
        "arr_slice"
      ],
      "execution_count": null,
      "outputs": [
        {
          "output_type": "execute_result",
          "data": {
            "text/plain": [
              "array([[[ 1, 69],\n",
              "        [ 4,  5]],\n",
              "\n",
              "       [[ 7,  8],\n",
              "        [10, 11]]])"
            ]
          },
          "metadata": {
            "tags": []
          },
          "execution_count": 62
        }
      ]
    },
    {
      "cell_type": "code",
      "metadata": {
        "colab": {
          "base_uri": "https://localhost:8080/"
        },
        "id": "K0MAor8qGHY6",
        "outputId": "cc0afc68-a3d4-4f3d-8165-618766859d65"
      },
      "source": [
        "arr_slice[0, 0, 1] = 2\n",
        "arr_slice"
      ],
      "execution_count": null,
      "outputs": [
        {
          "output_type": "execute_result",
          "data": {
            "text/plain": [
              "array([[[ 1,  2],\n",
              "        [ 4,  5]],\n",
              "\n",
              "       [[ 7,  8],\n",
              "        [10, 11]]])"
            ]
          },
          "metadata": {
            "tags": []
          },
          "execution_count": 63
        }
      ]
    },
    {
      "cell_type": "code",
      "metadata": {
        "colab": {
          "base_uri": "https://localhost:8080/"
        },
        "id": "r5iYqdL-GVyD",
        "outputId": "c33c1205-c831-4df6-e6b2-0b264e365f54"
      },
      "source": [
        "arr3d"
      ],
      "execution_count": null,
      "outputs": [
        {
          "output_type": "execute_result",
          "data": {
            "text/plain": [
              "array([[[ 1, 69,  3],\n",
              "        [ 4,  5,  6]],\n",
              "\n",
              "       [[ 7,  8,  9],\n",
              "        [10, 11, 12]]])"
            ]
          },
          "metadata": {
            "tags": []
          },
          "execution_count": 64
        }
      ]
    },
    {
      "cell_type": "code",
      "metadata": {
        "colab": {
          "base_uri": "https://localhost:8080/"
        },
        "id": "r6SxRkQ4GW1C",
        "outputId": "22b35c09-0829-4766-da6a-2a39359b8a3f"
      },
      "source": [
        "arr = np.random.randint(0, 10, 5)\n",
        "arr"
      ],
      "execution_count": null,
      "outputs": [
        {
          "output_type": "execute_result",
          "data": {
            "text/plain": [
              "array([8, 2, 6, 4, 1])"
            ]
          },
          "metadata": {
            "tags": []
          },
          "execution_count": 65
        }
      ]
    },
    {
      "cell_type": "code",
      "metadata": {
        "id": "nkR8Dq7iGi3W"
      },
      "source": [
        "my_indices = [1, 3, 4]"
      ],
      "execution_count": null,
      "outputs": []
    },
    {
      "cell_type": "code",
      "metadata": {
        "colab": {
          "base_uri": "https://localhost:8080/"
        },
        "id": "eL3tBY_DGr7t",
        "outputId": "1c8534e7-4e67-4d28-8cc2-6a03e6567369"
      },
      "source": [
        "arr[my_indices]"
      ],
      "execution_count": null,
      "outputs": [
        {
          "output_type": "execute_result",
          "data": {
            "text/plain": [
              "array([2, 4, 1])"
            ]
          },
          "metadata": {
            "tags": []
          },
          "execution_count": 67
        }
      ]
    },
    {
      "cell_type": "markdown",
      "metadata": {
        "id": "Kmc54WnoHZAb"
      },
      "source": [
        "##NumPy Operations"
      ]
    },
    {
      "cell_type": "code",
      "metadata": {
        "id": "4byt7G-gGu0J"
      },
      "source": [
        "arr1 = np.random.rand(3, 4)\n",
        "arr2 = np.random.rand(3, 4)"
      ],
      "execution_count": null,
      "outputs": []
    },
    {
      "cell_type": "code",
      "metadata": {
        "colab": {
          "base_uri": "https://localhost:8080/"
        },
        "id": "t7XRxAMxHmM9",
        "outputId": "53806599-c61f-4816-ee9e-45c2cf9dfd8e"
      },
      "source": [
        "arr1"
      ],
      "execution_count": null,
      "outputs": [
        {
          "output_type": "execute_result",
          "data": {
            "text/plain": [
              "array([[0.45735825, 0.5497882 , 0.77187229, 0.46436311],\n",
              "       [0.70994811, 0.14399094, 0.97481363, 0.95949001],\n",
              "       [0.0752398 , 0.2914936 , 0.34935899, 0.69111993]])"
            ]
          },
          "metadata": {
            "tags": []
          },
          "execution_count": 69
        }
      ]
    },
    {
      "cell_type": "code",
      "metadata": {
        "colab": {
          "base_uri": "https://localhost:8080/"
        },
        "id": "t8A15RkOHnZL",
        "outputId": "8ccdb01c-5612-4955-ea2a-8b9e75420403"
      },
      "source": [
        "arr2"
      ],
      "execution_count": null,
      "outputs": [
        {
          "output_type": "execute_result",
          "data": {
            "text/plain": [
              "array([[0.69990227, 0.62011333, 0.33815225, 0.84714904],\n",
              "       [0.63718533, 0.49396816, 0.82513979, 0.14634831],\n",
              "       [0.5191014 , 0.37023482, 0.88292126, 0.15783079]])"
            ]
          },
          "metadata": {
            "tags": []
          },
          "execution_count": 70
        }
      ]
    },
    {
      "cell_type": "code",
      "metadata": {
        "colab": {
          "base_uri": "https://localhost:8080/"
        },
        "id": "CVHD-bMzHoIX",
        "outputId": "9054f86b-7545-47ed-dc58-eee95d21bd6c"
      },
      "source": [
        "arr1 + arr2"
      ],
      "execution_count": null,
      "outputs": [
        {
          "output_type": "execute_result",
          "data": {
            "text/plain": [
              "array([[1.15726052, 1.16990153, 1.11002454, 1.31151215],\n",
              "       [1.34713344, 0.63795909, 1.79995342, 1.10583832],\n",
              "       [0.5943412 , 0.66172842, 1.23228026, 0.84895072]])"
            ]
          },
          "metadata": {
            "tags": []
          },
          "execution_count": 71
        }
      ]
    },
    {
      "cell_type": "code",
      "metadata": {
        "colab": {
          "base_uri": "https://localhost:8080/"
        },
        "id": "PCvgik2iHqSX",
        "outputId": "1bd0fe26-5f7b-4037-d2cf-8d15021c08f0"
      },
      "source": [
        "arr1 -arr2"
      ],
      "execution_count": null,
      "outputs": [
        {
          "output_type": "execute_result",
          "data": {
            "text/plain": [
              "array([[-0.24254402, -0.07032513,  0.43372003, -0.38278594],\n",
              "       [ 0.07276278, -0.34997722,  0.14967383,  0.8131417 ],\n",
              "       [-0.44386159, -0.07874122, -0.53356227,  0.53328914]])"
            ]
          },
          "metadata": {
            "tags": []
          },
          "execution_count": 72
        }
      ]
    },
    {
      "cell_type": "code",
      "metadata": {
        "colab": {
          "base_uri": "https://localhost:8080/"
        },
        "id": "rWAQXEdKHusL",
        "outputId": "5390eb18-fe0e-428f-8388-50408bc9b889"
      },
      "source": [
        "arr1 * arr2"
      ],
      "execution_count": null,
      "outputs": [
        {
          "output_type": "execute_result",
          "data": {
            "text/plain": [
              "array([[0.32010608, 0.34093099, 0.26101035, 0.39338476],\n",
              "       [0.45236852, 0.07112694, 0.80435751, 0.14041975],\n",
              "       [0.03905709, 0.10792108, 0.30845648, 0.10908001]])"
            ]
          },
          "metadata": {
            "tags": []
          },
          "execution_count": 73
        }
      ]
    },
    {
      "cell_type": "code",
      "metadata": {
        "colab": {
          "base_uri": "https://localhost:8080/"
        },
        "id": "GzzV7fRGHz5v",
        "outputId": "f91a6b36-8c96-4db0-8c36-83b3bb263bf8"
      },
      "source": [
        "arr1/arr2"
      ],
      "execution_count": null,
      "outputs": [
        {
          "output_type": "execute_result",
          "data": {
            "text/plain": [
              "array([[0.65346016, 0.8865931 , 2.2826176 , 0.54814806],\n",
              "       [1.11419406, 0.29149842, 1.18139209, 6.55620816],\n",
              "       [0.1449424 , 0.78732087, 0.39568533, 4.37886626]])"
            ]
          },
          "metadata": {
            "tags": []
          },
          "execution_count": 74
        }
      ]
    },
    {
      "cell_type": "code",
      "metadata": {
        "colab": {
          "base_uri": "https://localhost:8080/"
        },
        "id": "HAqtDF-rH1-b",
        "outputId": "ceb08b1c-297e-48a3-99b8-3f45f31444f9"
      },
      "source": [
        "np.exp(arr1)"
      ],
      "execution_count": null,
      "outputs": [
        {
          "output_type": "execute_result",
          "data": {
            "text/plain": [
              "array([[1.57989478, 1.73288595, 2.16381374, 1.59100057],\n",
              "       [2.03388572, 1.15487364, 2.65067315, 2.61036487],\n",
              "       [1.07814266, 1.33842507, 1.41815821, 1.9959496 ]])"
            ]
          },
          "metadata": {
            "tags": []
          },
          "execution_count": 75
        }
      ]
    },
    {
      "cell_type": "code",
      "metadata": {
        "colab": {
          "base_uri": "https://localhost:8080/"
        },
        "id": "hEgcZtNwH4yu",
        "outputId": "0873b5ac-c03c-4c00-d840-4fbeec4e8f1d"
      },
      "source": [
        "np.log(np.exp(arr1))"
      ],
      "execution_count": null,
      "outputs": [
        {
          "output_type": "execute_result",
          "data": {
            "text/plain": [
              "array([[0.45735825, 0.5497882 , 0.77187229, 0.46436311],\n",
              "       [0.70994811, 0.14399094, 0.97481363, 0.95949001],\n",
              "       [0.0752398 , 0.2914936 , 0.34935899, 0.69111993]])"
            ]
          },
          "metadata": {
            "tags": []
          },
          "execution_count": 76
        }
      ]
    },
    {
      "cell_type": "code",
      "metadata": {
        "colab": {
          "base_uri": "https://localhost:8080/"
        },
        "id": "AKSyoc8TLMKH",
        "outputId": "cd7134ac-a99a-4b04-ca3a-c9060108e6af"
      },
      "source": [
        "np.sin(arr1)"
      ],
      "execution_count": null,
      "outputs": [
        {
          "output_type": "execute_result",
          "data": {
            "text/plain": [
              "array([[0.44157941, 0.52250665, 0.69747815, 0.44785344],\n",
              "       [0.65179442, 0.14349388, 0.82759729, 0.81889897],\n",
              "       [0.07516883, 0.28738314, 0.34229559, 0.63740052]])"
            ]
          },
          "metadata": {
            "tags": []
          },
          "execution_count": 77
        }
      ]
    },
    {
      "cell_type": "code",
      "metadata": {
        "colab": {
          "base_uri": "https://localhost:8080/"
        },
        "id": "1HQXldRILPNj",
        "outputId": "6700955f-2ad0-408f-d675-80cfcbd9e977"
      },
      "source": [
        "np.sqrt(arr1)"
      ],
      "execution_count": null,
      "outputs": [
        {
          "output_type": "execute_result",
          "data": {
            "text/plain": [
              "array([[0.67628267, 0.74147704, 0.87856262, 0.68144193],\n",
              "       [0.84258419, 0.37946138, 0.9873265 , 0.97953561],\n",
              "       [0.27429875, 0.53990147, 0.59106598, 0.83133623]])"
            ]
          },
          "metadata": {
            "tags": []
          },
          "execution_count": 78
        }
      ]
    },
    {
      "cell_type": "code",
      "metadata": {
        "id": "a9O51x3HLRJ7"
      },
      "source": [
        "arr_inv = 1 /  arr1"
      ],
      "execution_count": null,
      "outputs": []
    },
    {
      "cell_type": "code",
      "metadata": {
        "colab": {
          "base_uri": "https://localhost:8080/"
        },
        "id": "6QBKH-jqLY5c",
        "outputId": "11587f1d-577a-46a0-8dc3-92e5dde815b5"
      },
      "source": [
        "arr_inv"
      ],
      "execution_count": null,
      "outputs": [
        {
          "output_type": "execute_result",
          "data": {
            "text/plain": [
              "array([[ 2.1864698 ,  1.81888226,  1.29555111,  2.15348718],\n",
              "       [ 1.40855364,  6.94488157,  1.02583712,  1.04222034],\n",
              "       [13.29083743,  3.43060706,  2.86238516,  1.44692688]])"
            ]
          },
          "metadata": {
            "tags": []
          },
          "execution_count": 80
        }
      ]
    },
    {
      "cell_type": "code",
      "metadata": {
        "colab": {
          "base_uri": "https://localhost:8080/"
        },
        "id": "UxRblxLqLcU8",
        "outputId": "870611ad-5a4d-4004-f957-8728179ca4a3"
      },
      "source": [
        "arr_inv = 1 / np.zeros((3, 4))\n",
        "arr_inv"
      ],
      "execution_count": null,
      "outputs": [
        {
          "output_type": "stream",
          "text": [
            "/usr/local/lib/python3.7/dist-packages/ipykernel_launcher.py:1: RuntimeWarning: divide by zero encountered in true_divide\n",
            "  \"\"\"Entry point for launching an IPython kernel.\n"
          ],
          "name": "stderr"
        },
        {
          "output_type": "execute_result",
          "data": {
            "text/plain": [
              "array([[inf, inf, inf, inf],\n",
              "       [inf, inf, inf, inf],\n",
              "       [inf, inf, inf, inf]])"
            ]
          },
          "metadata": {
            "tags": []
          },
          "execution_count": 81
        }
      ]
    },
    {
      "cell_type": "code",
      "metadata": {
        "colab": {
          "base_uri": "https://localhost:8080/"
        },
        "id": "GJ931b-ELusK",
        "outputId": "36c11c3d-6802-48fb-af35-d2370900415f"
      },
      "source": [
        "np.isinf(arr_inv)"
      ],
      "execution_count": null,
      "outputs": [
        {
          "output_type": "execute_result",
          "data": {
            "text/plain": [
              "array([[ True,  True,  True,  True],\n",
              "       [ True,  True,  True,  True],\n",
              "       [ True,  True,  True,  True]])"
            ]
          },
          "metadata": {
            "tags": []
          },
          "execution_count": 82
        }
      ]
    },
    {
      "cell_type": "markdown",
      "metadata": {
        "id": "pv_yEQS1MVMt"
      },
      "source": [
        "##Exercise on finding number of points outside n-dimensional sphere \n",
        "\n",
        "Find the area/4 of square which is not occupied with circle. Side = 2 unit, Radius = 1 unit.  (Look at first quadrant)"
      ]
    },
    {
      "cell_type": "code",
      "metadata": {
        "id": "DD7CnpQXL-Qv"
      },
      "source": [
        "ndim = 2"
      ],
      "execution_count": null,
      "outputs": []
    },
    {
      "cell_type": "code",
      "metadata": {
        "id": "jox1elcX1Z-T"
      },
      "source": [
        "npoints = 100000"
      ],
      "execution_count": null,
      "outputs": []
    },
    {
      "cell_type": "code",
      "metadata": {
        "id": "l5KZSsGD1heU"
      },
      "source": [
        "points = np.random.rand(npoints, ndim)"
      ],
      "execution_count": null,
      "outputs": []
    },
    {
      "cell_type": "code",
      "metadata": {
        "colab": {
          "base_uri": "https://localhost:8080/"
        },
        "id": "YpYnQcKh1l_7",
        "outputId": "a48c272f-70d1-4a29-a578-8506b9fd540f"
      },
      "source": [
        "points[0:2, :]"
      ],
      "execution_count": null,
      "outputs": [
        {
          "output_type": "execute_result",
          "data": {
            "text/plain": [
              "array([[0.35557206, 0.8870308 ],\n",
              "       [0.26132088, 0.78257173]])"
            ]
          },
          "metadata": {
            "tags": []
          },
          "execution_count": 17
        }
      ]
    },
    {
      "cell_type": "code",
      "metadata": {
        "id": "HTbC4WgD1voc"
      },
      "source": [
        "dfo = np.zeros((npoints, 1))  #distance from origin\n",
        "outside_point = 0"
      ],
      "execution_count": null,
      "outputs": []
    },
    {
      "cell_type": "code",
      "metadata": {
        "colab": {
          "base_uri": "https://localhost:8080/"
        },
        "id": "DEeloYux1_o0",
        "outputId": "3e3ec957-19f0-45bb-c1cf-5fd2cc2e8901"
      },
      "source": [
        "%%time\n",
        "for i in range(npoints):\n",
        "  for j in range(ndim):\n",
        "    dfo[i] += points[i, j] ** 2   #finding dis of every point from origin\n",
        "  dfo[i] = np.sqrt(dfo[i])\n",
        "  if (dfo[i] > 1):\n",
        "    outside_point += 1"
      ],
      "execution_count": null,
      "outputs": [
        {
          "output_type": "stream",
          "text": [
            "CPU times: user 1.37 s, sys: 131 ms, total: 1.5 s\n",
            "Wall time: 1.38 s\n"
          ],
          "name": "stdout"
        }
      ]
    },
    {
      "cell_type": "code",
      "metadata": {
        "colab": {
          "base_uri": "https://localhost:8080/"
        },
        "id": "P-1v1hp--Pej",
        "outputId": "8e9b8452-fd52-499c-e5b0-e2717a72203e"
      },
      "source": [
        "print(\"Fraction of points outside is: \", outside_point/npoints)"
      ],
      "execution_count": null,
      "outputs": [
        {
          "output_type": "stream",
          "text": [
            "Fraction of points outside is:  0.21293\n"
          ],
          "name": "stdout"
        }
      ]
    },
    {
      "cell_type": "code",
      "metadata": {
        "colab": {
          "base_uri": "https://localhost:8080/"
        },
        "id": "KHbQDAHu-lMy",
        "outputId": "24506c25-f95a-4305-f015-0e10a00fb796"
      },
      "source": [
        "# 1 - (pi/4)\n",
        "1- 3.14/4"
      ],
      "execution_count": null,
      "outputs": [
        {
          "output_type": "execute_result",
          "data": {
            "text/plain": [
              "0.21499999999999997"
            ]
          },
          "metadata": {
            "tags": []
          },
          "execution_count": 21
        }
      ]
    },
    {
      "cell_type": "code",
      "metadata": {
        "colab": {
          "base_uri": "https://localhost:8080/"
        },
        "id": "xKpf9oEl_80l",
        "outputId": "eebba6ff-bf79-42a5-ecd0-a55ec5e89082"
      },
      "source": [
        "%%time\n",
        "sq_pts = points * points      #faster way --> NumPy\n",
        "dfo = np.sum(sq_pts, axis= 1)\n",
        "out_pts = np.sum(dfo > 1)"
      ],
      "execution_count": null,
      "outputs": [
        {
          "output_type": "stream",
          "text": [
            "CPU times: user 3.76 ms, sys: 1.01 ms, total: 4.76 ms\n",
            "Wall time: 7.41 ms\n"
          ],
          "name": "stdout"
        }
      ]
    },
    {
      "cell_type": "code",
      "metadata": {
        "colab": {
          "base_uri": "https://localhost:8080/"
        },
        "id": "IkYDESrlAUHP",
        "outputId": "47b4e9c5-e111-4709-fd59-afda29a0de8d"
      },
      "source": [
        "print(\"Fraction of points outside is: \", out_pts / npoints)"
      ],
      "execution_count": null,
      "outputs": [
        {
          "output_type": "stream",
          "text": [
            "Fraction of points outside is:  0.21293\n"
          ],
          "name": "stdout"
        }
      ]
    },
    {
      "cell_type": "code",
      "metadata": {
        "colab": {
          "base_uri": "https://localhost:8080/"
        },
        "id": "7wPaeQFSAeqF",
        "outputId": "74f913c1-d5b4-4598-ad19-e088d2c9fe72"
      },
      "source": [
        "%%time\n",
        "outside_points = np.sum(np.sqrt(np.sum(points * points, axis = 1) > 1))/npoints    #one line code for the same"
      ],
      "execution_count": null,
      "outputs": [
        {
          "output_type": "stream",
          "text": [
            "CPU times: user 7.42 ms, sys: 118 µs, total: 7.54 ms\n",
            "Wall time: 6.66 ms\n"
          ],
          "name": "stdout"
        }
      ]
    },
    {
      "cell_type": "code",
      "metadata": {
        "id": "-dviX4icBB8O"
      },
      "source": [
        "def area_outside_circle (npoints, ndim):\n",
        "  points = np.random.rand (npoints, ndim)\n",
        "  return np.sum(np.sqrt(np.sum(points * points, axis = 1) > 1))/npoints"
      ],
      "execution_count": null,
      "outputs": []
    },
    {
      "cell_type": "code",
      "metadata": {
        "colab": {
          "base_uri": "https://localhost:8080/"
        },
        "id": "BwqEVCFnBjM-",
        "outputId": "32ac98da-8aec-414f-aef5-9a01a04978cb"
      },
      "source": [
        "area_outside_circle(100000, 2)"
      ],
      "execution_count": null,
      "outputs": [
        {
          "output_type": "execute_result",
          "data": {
            "text/plain": [
              "0.21632"
            ]
          },
          "metadata": {
            "tags": []
          },
          "execution_count": 32
        }
      ]
    },
    {
      "cell_type": "code",
      "metadata": {
        "colab": {
          "base_uri": "https://localhost:8080/"
        },
        "id": "t7CRyDLHBnRC",
        "outputId": "0b90538e-20e6-4f97-9030-bf68c6e49c36"
      },
      "source": [
        "for i in range(2, 11):\n",
        "  print(i, area_outside_circle(100000, i))\n",
        "  #This tells for high dimensions, moslty all points are outside the circle\n",
        "  #which means we need to think differently in ML/DL while working on high dimensions."
      ],
      "execution_count": null,
      "outputs": [
        {
          "output_type": "stream",
          "text": [
            "2 0.2136\n",
            "3 0.47552\n",
            "4 inf\n",
            "5 inf\n",
            "6 inf\n",
            "7 inf\n",
            "8 inf\n",
            "9 inf\n",
            "10 inf\n"
          ],
          "name": "stdout"
        },
        {
          "output_type": "stream",
          "text": [
            "/usr/local/lib/python3.7/dist-packages/numpy/core/fromnumeric.py:87: RuntimeWarning: overflow encountered in reduce\n",
            "  return ufunc.reduce(obj, axis, dtype, out, **passkwargs)\n"
          ],
          "name": "stderr"
        }
      ]
    },
    {
      "cell_type": "markdown",
      "metadata": {
        "id": "cR6XSjU6C0Iu"
      },
      "source": [
        "##Broadcasting\n",
        "\n",
        "NumPy checks the dimensions babckward (from x-axis). It sees if the dimensions of two tensors are same or not, if either there is a missing dimension or a particular dimension is one, then it replicate the same tensor to that dimension, so that operations can be performed. This is **Broadcasting**. So, broadcasting expansion can be done in more than one dimensions.\n",
        "\n",
        "Eg. If we have two matrices: (4*1) + (1*5) = (4*5)"
      ]
    },
    {
      "cell_type": "code",
      "metadata": {
        "colab": {
          "base_uri": "https://localhost:8080/"
        },
        "id": "OSmFGeOUCGkp",
        "outputId": "93051472-7dc0-46d9-c2ab-8b227c3e9a34"
      },
      "source": [
        "arr1 = np.arange(6)\n",
        "arr1"
      ],
      "execution_count": null,
      "outputs": [
        {
          "output_type": "execute_result",
          "data": {
            "text/plain": [
              "array([0, 1, 2, 3, 4, 5])"
            ]
          },
          "metadata": {
            "tags": []
          },
          "execution_count": 34
        }
      ]
    },
    {
      "cell_type": "code",
      "metadata": {
        "colab": {
          "base_uri": "https://localhost:8080/"
        },
        "id": "VAKih8OyFnqC",
        "outputId": "25654347-aab9-4dcb-f4f8-a9ce3db4b0fb"
      },
      "source": [
        "arr1.shape"
      ],
      "execution_count": null,
      "outputs": [
        {
          "output_type": "execute_result",
          "data": {
            "text/plain": [
              "(6,)"
            ]
          },
          "metadata": {
            "tags": []
          },
          "execution_count": 35
        }
      ]
    },
    {
      "cell_type": "code",
      "metadata": {
        "colab": {
          "base_uri": "https://localhost:8080/"
        },
        "id": "qPqsOaXlFqc5",
        "outputId": "c232fd3c-5550-4cf3-d23b-1470674f0331"
      },
      "source": [
        "arr1 = arr1.reshape((3, 2))\n",
        "arr1"
      ],
      "execution_count": null,
      "outputs": [
        {
          "output_type": "execute_result",
          "data": {
            "text/plain": [
              "array([[0, 1],\n",
              "       [2, 3],\n",
              "       [4, 5]])"
            ]
          },
          "metadata": {
            "tags": []
          },
          "execution_count": 36
        }
      ]
    },
    {
      "cell_type": "code",
      "metadata": {
        "colab": {
          "base_uri": "https://localhost:8080/"
        },
        "id": "hssRV4v-FwTQ",
        "outputId": "7e4dbe3d-7227-47b4-f7fa-0677f99f1d17"
      },
      "source": [
        "arr1.shape"
      ],
      "execution_count": null,
      "outputs": [
        {
          "output_type": "execute_result",
          "data": {
            "text/plain": [
              "(3, 2)"
            ]
          },
          "metadata": {
            "tags": []
          },
          "execution_count": 37
        }
      ]
    },
    {
      "cell_type": "code",
      "metadata": {
        "colab": {
          "base_uri": "https://localhost:8080/"
        },
        "id": "Jd45iWhTF7YG",
        "outputId": "5015938b-c8ec-4c78-fbb2-262db77e02d3"
      },
      "source": [
        "arr2 = np.arange(6).reshape((3, 2))\n",
        "arr2"
      ],
      "execution_count": null,
      "outputs": [
        {
          "output_type": "execute_result",
          "data": {
            "text/plain": [
              "array([[0, 1],\n",
              "       [2, 3],\n",
              "       [4, 5]])"
            ]
          },
          "metadata": {
            "tags": []
          },
          "execution_count": 38
        }
      ]
    },
    {
      "cell_type": "code",
      "metadata": {
        "colab": {
          "base_uri": "https://localhost:8080/"
        },
        "id": "416mDmJFGDB7",
        "outputId": "8299cdf9-0ce4-4280-b489-22efd4ac2233"
      },
      "source": [
        "arr1 + arr2"
      ],
      "execution_count": null,
      "outputs": [
        {
          "output_type": "execute_result",
          "data": {
            "text/plain": [
              "array([[ 0,  2],\n",
              "       [ 4,  6],\n",
              "       [ 8, 10]])"
            ]
          },
          "metadata": {
            "tags": []
          },
          "execution_count": 39
        }
      ]
    },
    {
      "cell_type": "code",
      "metadata": {
        "colab": {
          "base_uri": "https://localhost:8080/"
        },
        "id": "FeL0_F7YGGHM",
        "outputId": "ceab369d-0aca-4887-ca53-4aa49a1ad90c"
      },
      "source": [
        "arr2[0].reshape((1, 2))"
      ],
      "execution_count": null,
      "outputs": [
        {
          "output_type": "execute_result",
          "data": {
            "text/plain": [
              "array([[0, 1]])"
            ]
          },
          "metadata": {
            "tags": []
          },
          "execution_count": 40
        }
      ]
    },
    {
      "cell_type": "code",
      "metadata": {
        "colab": {
          "base_uri": "https://localhost:8080/"
        },
        "id": "E8WJpuw_GYOA",
        "outputId": "783f0de5-bd86-465c-9bc2-30603420a6e2"
      },
      "source": [
        "arr2[0]"
      ],
      "execution_count": null,
      "outputs": [
        {
          "output_type": "execute_result",
          "data": {
            "text/plain": [
              "array([0, 1])"
            ]
          },
          "metadata": {
            "tags": []
          },
          "execution_count": 41
        }
      ]
    },
    {
      "cell_type": "code",
      "metadata": {
        "colab": {
          "base_uri": "https://localhost:8080/"
        },
        "id": "BibZjr6-GaYo",
        "outputId": "07d74cc4-d68c-4b74-e199-c9f83740d1ce"
      },
      "source": [
        "arr1 + arr2[0].reshape((1, 2))   #(3, 2) + (1, 2)"
      ],
      "execution_count": null,
      "outputs": [
        {
          "output_type": "execute_result",
          "data": {
            "text/plain": [
              "array([[0, 2],\n",
              "       [2, 4],\n",
              "       [4, 6]])"
            ]
          },
          "metadata": {
            "tags": []
          },
          "execution_count": 42
        }
      ]
    },
    {
      "cell_type": "code",
      "metadata": {
        "colab": {
          "base_uri": "https://localhost:8080/"
        },
        "id": "WwUp2vQlGm5W",
        "outputId": "8dc22ec4-8f28-441a-b7c2-145f4ec71be8"
      },
      "source": [
        "arr2[:, 0].reshape((3, 1))"
      ],
      "execution_count": null,
      "outputs": [
        {
          "output_type": "execute_result",
          "data": {
            "text/plain": [
              "array([[0],\n",
              "       [2],\n",
              "       [4]])"
            ]
          },
          "metadata": {
            "tags": []
          },
          "execution_count": 43
        }
      ]
    },
    {
      "cell_type": "code",
      "metadata": {
        "colab": {
          "base_uri": "https://localhost:8080/"
        },
        "id": "dXIeTSpdHAt-",
        "outputId": "742d4cb8-1b69-40c9-9685-5c1fd12c3bfb"
      },
      "source": [
        "arr1 + arr2[:, 0].reshape((3, 1))     # (3, 2) + (3, 1)"
      ],
      "execution_count": null,
      "outputs": [
        {
          "output_type": "execute_result",
          "data": {
            "text/plain": [
              "array([[0, 1],\n",
              "       [4, 5],\n",
              "       [8, 9]])"
            ]
          },
          "metadata": {
            "tags": []
          },
          "execution_count": 44
        }
      ]
    },
    {
      "cell_type": "code",
      "metadata": {
        "colab": {
          "base_uri": "https://localhost:8080/"
        },
        "id": "PZ2CMblTHJWz",
        "outputId": "e42108b2-fbed-4348-9f8b-f341a5873f10"
      },
      "source": [
        "arr1+ 1"
      ],
      "execution_count": null,
      "outputs": [
        {
          "output_type": "execute_result",
          "data": {
            "text/plain": [
              "array([[1, 2],\n",
              "       [3, 4],\n",
              "       [5, 6]])"
            ]
          },
          "metadata": {
            "tags": []
          },
          "execution_count": 45
        }
      ]
    },
    {
      "cell_type": "code",
      "metadata": {
        "colab": {
          "base_uri": "https://localhost:8080/"
        },
        "id": "GbYy1lxlHOq4",
        "outputId": "1633c62c-7013-4c02-df4b-4ea8b2337622"
      },
      "source": [
        "arr1 = np.arange(24).reshape((2, 3, 4))\n",
        "arr1"
      ],
      "execution_count": null,
      "outputs": [
        {
          "output_type": "execute_result",
          "data": {
            "text/plain": [
              "array([[[ 0,  1,  2,  3],\n",
              "        [ 4,  5,  6,  7],\n",
              "        [ 8,  9, 10, 11]],\n",
              "\n",
              "       [[12, 13, 14, 15],\n",
              "        [16, 17, 18, 19],\n",
              "        [20, 21, 22, 23]]])"
            ]
          },
          "metadata": {
            "tags": []
          },
          "execution_count": 46
        }
      ]
    },
    {
      "cell_type": "code",
      "metadata": {
        "colab": {
          "base_uri": "https://localhost:8080/"
        },
        "id": "V-dlkcDkHXP2",
        "outputId": "e7efdc4c-f439-45f6-f161-ed7649150fee"
      },
      "source": [
        "arr2 =  np.ones((1, 4))\n",
        "arr2"
      ],
      "execution_count": null,
      "outputs": [
        {
          "output_type": "execute_result",
          "data": {
            "text/plain": [
              "array([[1., 1., 1., 1.]])"
            ]
          },
          "metadata": {
            "tags": []
          },
          "execution_count": 47
        }
      ]
    },
    {
      "cell_type": "code",
      "metadata": {
        "colab": {
          "base_uri": "https://localhost:8080/"
        },
        "id": "_m-3-d4ZHdWX",
        "outputId": "83554f77-88ff-4ecb-fbdf-e0fbca04ef6b"
      },
      "source": [
        "arr1 + arr2  #(2, 3, 4) + (1, 4)"
      ],
      "execution_count": null,
      "outputs": [
        {
          "output_type": "execute_result",
          "data": {
            "text/plain": [
              "array([[[ 1.,  2.,  3.,  4.],\n",
              "        [ 5.,  6.,  7.,  8.],\n",
              "        [ 9., 10., 11., 12.]],\n",
              "\n",
              "       [[13., 14., 15., 16.],\n",
              "        [17., 18., 19., 20.],\n",
              "        [21., 22., 23., 24.]]])"
            ]
          },
          "metadata": {
            "tags": []
          },
          "execution_count": 48
        }
      ]
    },
    {
      "cell_type": "code",
      "metadata": {
        "colab": {
          "base_uri": "https://localhost:8080/"
        },
        "id": "RIot2KNKHjh4",
        "outputId": "55264dfd-69f3-4f35-bb34-7ccc5526d6b7"
      },
      "source": [
        "arr1 = np.arange(4)\n",
        "arr1"
      ],
      "execution_count": null,
      "outputs": [
        {
          "output_type": "execute_result",
          "data": {
            "text/plain": [
              "array([0, 1, 2, 3])"
            ]
          },
          "metadata": {
            "tags": []
          },
          "execution_count": 49
        }
      ]
    },
    {
      "cell_type": "code",
      "metadata": {
        "colab": {
          "base_uri": "https://localhost:8080/"
        },
        "id": "DYEmfEudHt74",
        "outputId": "2f77dbae-c1db-479b-a60f-eedbe22da6d9"
      },
      "source": [
        "arr1.shape"
      ],
      "execution_count": null,
      "outputs": [
        {
          "output_type": "execute_result",
          "data": {
            "text/plain": [
              "(4,)"
            ]
          },
          "metadata": {
            "tags": []
          },
          "execution_count": 50
        }
      ]
    },
    {
      "cell_type": "code",
      "metadata": {
        "colab": {
          "base_uri": "https://localhost:8080/"
        },
        "id": "idXy4OBeHwYj",
        "outputId": "b5065f53-8129-453d-bd17-4f9c090b918e"
      },
      "source": [
        "arr2 = np.arange(5)\n",
        "arr2"
      ],
      "execution_count": null,
      "outputs": [
        {
          "output_type": "execute_result",
          "data": {
            "text/plain": [
              "array([0, 1, 2, 3, 4])"
            ]
          },
          "metadata": {
            "tags": []
          },
          "execution_count": 51
        }
      ]
    },
    {
      "cell_type": "code",
      "metadata": {
        "colab": {
          "base_uri": "https://localhost:8080/"
        },
        "id": "_CBCG2sdH3DJ",
        "outputId": "700dafff-c3fa-411f-985c-6da18466fc2d"
      },
      "source": [
        "arr2.shape"
      ],
      "execution_count": null,
      "outputs": [
        {
          "output_type": "execute_result",
          "data": {
            "text/plain": [
              "(5,)"
            ]
          },
          "metadata": {
            "tags": []
          },
          "execution_count": 52
        }
      ]
    },
    {
      "cell_type": "code",
      "metadata": {
        "colab": {
          "base_uri": "https://localhost:8080/",
          "height": 174
        },
        "id": "YagtHjGCH5Au",
        "outputId": "eff5e1b2-e227-458a-c003-5516cd387b65"
      },
      "source": [
        "arr1 + arr2   #can't be broadcast"
      ],
      "execution_count": null,
      "outputs": [
        {
          "output_type": "error",
          "ename": "ValueError",
          "evalue": "ignored",
          "traceback": [
            "\u001b[0;31m---------------------------------------------------------------------------\u001b[0m",
            "\u001b[0;31mValueError\u001b[0m                                Traceback (most recent call last)",
            "\u001b[0;32m<ipython-input-53-3fc529b2407c>\u001b[0m in \u001b[0;36m<module>\u001b[0;34m()\u001b[0m\n\u001b[0;32m----> 1\u001b[0;31m \u001b[0marr1\u001b[0m \u001b[0;34m+\u001b[0m \u001b[0marr2\u001b[0m   \u001b[0;31m#can't be broadcast\u001b[0m\u001b[0;34m\u001b[0m\u001b[0;34m\u001b[0m\u001b[0m\n\u001b[0m",
            "\u001b[0;31mValueError\u001b[0m: operands could not be broadcast together with shapes (4,) (5,) "
          ]
        }
      ]
    },
    {
      "cell_type": "code",
      "metadata": {
        "colab": {
          "base_uri": "https://localhost:8080/"
        },
        "id": "LNoU10MkH9cu",
        "outputId": "ec0b17db-e3aa-4d22-aff9-13192b6bd013"
      },
      "source": [
        "arr1.reshape((4, 1)) + arr2      #(4, 1) + (5)"
      ],
      "execution_count": null,
      "outputs": [
        {
          "output_type": "execute_result",
          "data": {
            "text/plain": [
              "array([[0, 1, 2, 3, 4],\n",
              "       [1, 2, 3, 4, 5],\n",
              "       [2, 3, 4, 5, 6],\n",
              "       [3, 4, 5, 6, 7]])"
            ]
          },
          "metadata": {
            "tags": []
          },
          "execution_count": 54
        }
      ]
    },
    {
      "cell_type": "code",
      "metadata": {
        "colab": {
          "base_uri": "https://localhost:8080/"
        },
        "id": "Dr3ZvuJBIGBV",
        "outputId": "60796cf8-9ed7-4e6a-b925-08819afbeaad"
      },
      "source": [
        "arr = np.random.rand(3, 3)\n",
        "arr"
      ],
      "execution_count": null,
      "outputs": [
        {
          "output_type": "execute_result",
          "data": {
            "text/plain": [
              "array([[0.9490919 , 0.75639235, 0.6384193 ],\n",
              "       [0.39477865, 0.7963173 , 0.67152948],\n",
              "       [0.12203281, 0.80189301, 0.08262947]])"
            ]
          },
          "metadata": {
            "tags": []
          },
          "execution_count": 56
        }
      ]
    },
    {
      "cell_type": "code",
      "metadata": {
        "colab": {
          "base_uri": "https://localhost:8080/"
        },
        "id": "tCTxH8tYIPQa",
        "outputId": "e2391d32-c822-44c1-9422-f8520eb5c65d"
      },
      "source": [
        "arr.T   #Taking transpose"
      ],
      "execution_count": null,
      "outputs": [
        {
          "output_type": "execute_result",
          "data": {
            "text/plain": [
              "array([[0.9490919 , 0.39477865, 0.12203281],\n",
              "       [0.75639235, 0.7963173 , 0.80189301],\n",
              "       [0.6384193 , 0.67152948, 0.08262947]])"
            ]
          },
          "metadata": {
            "tags": []
          },
          "execution_count": 57
        }
      ]
    },
    {
      "cell_type": "markdown",
      "metadata": {
        "id": "k-T6qAAeIgH2"
      },
      "source": [
        "##File Handling"
      ]
    },
    {
      "cell_type": "code",
      "metadata": {
        "id": "kr6WQqxVIUGV"
      },
      "source": [
        "planets_small = np.loadtxt(\"planets_small.txt\", skiprows = 1, \n",
        "                           usecols = [1, 2, 3, 4, 5, 6, 7, 8, 9])    #numpy cant read strings"
      ],
      "execution_count": null,
      "outputs": []
    },
    {
      "cell_type": "code",
      "metadata": {
        "colab": {
          "base_uri": "https://localhost:8080/"
        },
        "id": "iXzHV7EmKcgO",
        "outputId": "9b0bcfd3-ab2f-4e1e-a6dd-bce7cc0a20df"
      },
      "source": [
        "planets_small"
      ],
      "execution_count": null,
      "outputs": [
        {
          "output_type": "execute_result",
          "data": {
            "text/plain": [
              "array([[3.3000e-01, 4.8700e+00, 5.9700e+00, 6.4200e-01, 1.8980e+03,\n",
              "        5.6800e+02, 8.6800e+01, 1.0200e+02, 1.4600e-02],\n",
              "       [5.7900e+01, 1.0820e+02, 1.4960e+02, 2.2790e+02, 7.7860e+02,\n",
              "        1.4335e+03, 2.8725e+03, 4.4951e+03, 5.9064e+03],\n",
              "       [4.2226e+03, 2.8020e+03, 2.4000e+01, 2.4700e+01, 9.9000e+00,\n",
              "        1.0700e+01, 1.7200e+01, 1.6100e+01, 1.5330e+02]])"
            ]
          },
          "metadata": {
            "tags": []
          },
          "execution_count": 59
        }
      ]
    },
    {
      "cell_type": "code",
      "metadata": {
        "colab": {
          "base_uri": "https://localhost:8080/"
        },
        "id": "d6LNeMD3Kekb",
        "outputId": "ab5e7822-66a0-43c5-b6f3-1846001c4736"
      },
      "source": [
        "planets_small.shape"
      ],
      "execution_count": null,
      "outputs": [
        {
          "output_type": "execute_result",
          "data": {
            "text/plain": [
              "(3, 9)"
            ]
          },
          "metadata": {
            "tags": []
          },
          "execution_count": 60
        }
      ]
    },
    {
      "cell_type": "code",
      "metadata": {
        "id": "4bRgNdu1KhoX"
      },
      "source": [
        "#planets = np.loadtxt(\"planets.txt\", skiprows = 1, \n",
        "                           #usecols = [1, 2, 3, 4, 5, 6, 7, 8, 9])  #It has unknown values, so it wont work \n",
        "\n",
        "planets = np.genfromtxt(\"planets.txt\", skip_header= 1, usecols = [1, 2, 3, 4, 5, 6, 7, 8, 9]) #It convert text value to \"nan\""
      ],
      "execution_count": null,
      "outputs": []
    },
    {
      "cell_type": "code",
      "metadata": {
        "colab": {
          "base_uri": "https://localhost:8080/"
        },
        "id": "39yGh4LpNYT3",
        "outputId": "d62b3ae3-57bd-4438-becc-c85f17b83d94"
      },
      "source": [
        "planets"
      ],
      "execution_count": null,
      "outputs": [
        {
          "output_type": "execute_result",
          "data": {
            "text/plain": [
              "array([[ 3.30000e-01,  4.87000e+00,  5.97000e+00,  7.30000e-02,\n",
              "         6.42000e-01,  1.89800e+03,  5.68000e+02,  8.68000e+01,\n",
              "         1.02000e+02],\n",
              "       [ 4.87900e+03,  1.21040e+04,  1.27560e+04,  3.47500e+03,\n",
              "         6.79200e+03,  1.42984e+05,  1.20536e+05,  5.11180e+04,\n",
              "         4.95280e+04],\n",
              "       [ 5.42700e+03,  5.24300e+03,  5.51400e+03,  3.34000e+03,\n",
              "         3.93300e+03,  1.32600e+03,  6.87000e+02,  1.27100e+03,\n",
              "         1.63800e+03],\n",
              "       [ 3.70000e+00,  8.90000e+00,  9.80000e+00,  1.60000e+00,\n",
              "         3.70000e+00,  2.31000e+01,  9.00000e+00,  8.70000e+00,\n",
              "         1.10000e+01],\n",
              "       [ 4.30000e+00,  1.04000e+01,  1.12000e+01,  2.40000e+00,\n",
              "         5.00000e+00,  5.95000e+01,  3.55000e+01,  2.13000e+01,\n",
              "         2.35000e+01],\n",
              "       [ 1.40760e+03, -5.83250e+03,  2.39000e+01,  6.55700e+02,\n",
              "         2.46000e+01,  9.90000e+00,  1.07000e+01, -1.72000e+01,\n",
              "         1.61000e+01],\n",
              "       [ 4.22260e+03,  2.80200e+03,  2.40000e+01,  7.08700e+02,\n",
              "         2.47000e+01,  9.90000e+00,  1.07000e+01,  1.72000e+01,\n",
              "         1.61000e+01],\n",
              "       [ 5.79000e+01,  1.08200e+02,  1.49600e+02,  3.84000e-01,\n",
              "         2.27900e+02,  7.78600e+02,  1.43350e+03,  2.87250e+03,\n",
              "         4.49510e+03],\n",
              "       [ 4.60000e+01,  1.07500e+02,  1.47100e+02,  3.63000e-01,\n",
              "         2.06600e+02,  7.40500e+02,  1.35260e+03,  2.74130e+03,\n",
              "         4.44450e+03],\n",
              "       [ 6.98000e+01,  1.08900e+02,  1.52100e+02,  4.06000e-01,\n",
              "         2.49200e+02,  8.16600e+02,  1.51450e+03,  3.00360e+03,\n",
              "         4.54570e+03],\n",
              "       [ 8.80000e+01,  2.24700e+02,  3.65200e+02,  2.73000e+01,\n",
              "         6.87000e+02,  4.33100e+03,  1.07470e+04,  3.05890e+04,\n",
              "         5.98000e+04],\n",
              "       [ 4.74000e+01,  3.50000e+01,  2.98000e+01,  1.00000e+00,\n",
              "         2.41000e+01,  1.31000e+01,  9.70000e+00,  6.80000e+00,\n",
              "         5.40000e+00],\n",
              "       [ 7.00000e+00,  3.40000e+00,  0.00000e+00,  5.10000e+00,\n",
              "         1.90000e+00,  1.30000e+00,  2.50000e+00,  8.00000e-01,\n",
              "         1.80000e+00],\n",
              "       [ 2.05000e-01,  7.00000e-03,  1.70000e-02,  5.50000e-02,\n",
              "         9.40000e-02,  4.90000e-02,  5.70000e-02,  4.60000e-02,\n",
              "         1.10000e-02],\n",
              "       [ 3.40000e-02,  1.77400e+02,  2.34000e+01,  6.70000e+00,\n",
              "         2.52000e+01,  3.10000e+00,  2.67000e+01,  9.78000e+01,\n",
              "         2.83000e+01],\n",
              "       [ 1.67000e+02,  4.64000e+02,  1.50000e+01, -2.00000e+01,\n",
              "        -6.50000e+01, -1.10000e+02, -1.40000e+02, -1.95000e+02,\n",
              "        -2.00000e+02],\n",
              "       [ 0.00000e+00,  9.20000e+01,  1.00000e+00,  0.00000e+00,\n",
              "         1.00000e-02,          nan,          nan,          nan,\n",
              "                 nan],\n",
              "       [ 0.00000e+00,  0.00000e+00,  1.00000e+00,  0.00000e+00,\n",
              "         2.00000e+00,  7.90000e+01,  8.20000e+01,  2.70000e+01,\n",
              "         1.40000e+01],\n",
              "       [ 0.00000e+00,  0.00000e+00,  0.00000e+00,  0.00000e+00,\n",
              "         0.00000e+00,  1.00000e+00,  1.00000e+00,  1.00000e+00,\n",
              "         1.00000e+00],\n",
              "       [ 1.00000e+00,  0.00000e+00,  1.00000e+00,  0.00000e+00,\n",
              "         0.00000e+00,  1.00000e+00,  1.00000e+00,  1.00000e+00,\n",
              "         1.00000e+00]])"
            ]
          },
          "metadata": {
            "tags": []
          },
          "execution_count": 66
        }
      ]
    },
    {
      "cell_type": "code",
      "metadata": {
        "colab": {
          "base_uri": "https://localhost:8080/"
        },
        "id": "5TqtufkzNoGq",
        "outputId": "240a94fc-9fd8-48ce-eba6-a4eb45af0abc"
      },
      "source": [
        "planets.shape"
      ],
      "execution_count": null,
      "outputs": [
        {
          "output_type": "execute_result",
          "data": {
            "text/plain": [
              "(20, 9)"
            ]
          },
          "metadata": {
            "tags": []
          },
          "execution_count": 67
        }
      ]
    },
    {
      "cell_type": "code",
      "metadata": {
        "colab": {
          "base_uri": "https://localhost:8080/"
        },
        "id": "BWSMnp3sNpw8",
        "outputId": "ba7769c7-5fde-4737-e7dc-82020ab02184"
      },
      "source": [
        "np.isnan(planets)"
      ],
      "execution_count": null,
      "outputs": [
        {
          "output_type": "execute_result",
          "data": {
            "text/plain": [
              "array([[False, False, False, False, False, False, False, False, False],\n",
              "       [False, False, False, False, False, False, False, False, False],\n",
              "       [False, False, False, False, False, False, False, False, False],\n",
              "       [False, False, False, False, False, False, False, False, False],\n",
              "       [False, False, False, False, False, False, False, False, False],\n",
              "       [False, False, False, False, False, False, False, False, False],\n",
              "       [False, False, False, False, False, False, False, False, False],\n",
              "       [False, False, False, False, False, False, False, False, False],\n",
              "       [False, False, False, False, False, False, False, False, False],\n",
              "       [False, False, False, False, False, False, False, False, False],\n",
              "       [False, False, False, False, False, False, False, False, False],\n",
              "       [False, False, False, False, False, False, False, False, False],\n",
              "       [False, False, False, False, False, False, False, False, False],\n",
              "       [False, False, False, False, False, False, False, False, False],\n",
              "       [False, False, False, False, False, False, False, False, False],\n",
              "       [False, False, False, False, False, False, False, False, False],\n",
              "       [False, False, False, False, False,  True,  True,  True,  True],\n",
              "       [False, False, False, False, False, False, False, False, False],\n",
              "       [False, False, False, False, False, False, False, False, False],\n",
              "       [False, False, False, False, False, False, False, False, False]])"
            ]
          },
          "metadata": {
            "tags": []
          },
          "execution_count": 68
        }
      ]
    },
    {
      "cell_type": "code",
      "metadata": {
        "colab": {
          "base_uri": "https://localhost:8080/"
        },
        "id": "d2Jd7WpzNuZ4",
        "outputId": "e4a0f322-40c9-41bb-c128-c5c02bbf7651"
      },
      "source": [
        "planets_new = np.nan_to_num(planets)\n",
        "planets_new"
      ],
      "execution_count": null,
      "outputs": [
        {
          "output_type": "execute_result",
          "data": {
            "text/plain": [
              "array([[ 3.30000e-01,  4.87000e+00,  5.97000e+00,  7.30000e-02,\n",
              "         6.42000e-01,  1.89800e+03,  5.68000e+02,  8.68000e+01,\n",
              "         1.02000e+02],\n",
              "       [ 4.87900e+03,  1.21040e+04,  1.27560e+04,  3.47500e+03,\n",
              "         6.79200e+03,  1.42984e+05,  1.20536e+05,  5.11180e+04,\n",
              "         4.95280e+04],\n",
              "       [ 5.42700e+03,  5.24300e+03,  5.51400e+03,  3.34000e+03,\n",
              "         3.93300e+03,  1.32600e+03,  6.87000e+02,  1.27100e+03,\n",
              "         1.63800e+03],\n",
              "       [ 3.70000e+00,  8.90000e+00,  9.80000e+00,  1.60000e+00,\n",
              "         3.70000e+00,  2.31000e+01,  9.00000e+00,  8.70000e+00,\n",
              "         1.10000e+01],\n",
              "       [ 4.30000e+00,  1.04000e+01,  1.12000e+01,  2.40000e+00,\n",
              "         5.00000e+00,  5.95000e+01,  3.55000e+01,  2.13000e+01,\n",
              "         2.35000e+01],\n",
              "       [ 1.40760e+03, -5.83250e+03,  2.39000e+01,  6.55700e+02,\n",
              "         2.46000e+01,  9.90000e+00,  1.07000e+01, -1.72000e+01,\n",
              "         1.61000e+01],\n",
              "       [ 4.22260e+03,  2.80200e+03,  2.40000e+01,  7.08700e+02,\n",
              "         2.47000e+01,  9.90000e+00,  1.07000e+01,  1.72000e+01,\n",
              "         1.61000e+01],\n",
              "       [ 5.79000e+01,  1.08200e+02,  1.49600e+02,  3.84000e-01,\n",
              "         2.27900e+02,  7.78600e+02,  1.43350e+03,  2.87250e+03,\n",
              "         4.49510e+03],\n",
              "       [ 4.60000e+01,  1.07500e+02,  1.47100e+02,  3.63000e-01,\n",
              "         2.06600e+02,  7.40500e+02,  1.35260e+03,  2.74130e+03,\n",
              "         4.44450e+03],\n",
              "       [ 6.98000e+01,  1.08900e+02,  1.52100e+02,  4.06000e-01,\n",
              "         2.49200e+02,  8.16600e+02,  1.51450e+03,  3.00360e+03,\n",
              "         4.54570e+03],\n",
              "       [ 8.80000e+01,  2.24700e+02,  3.65200e+02,  2.73000e+01,\n",
              "         6.87000e+02,  4.33100e+03,  1.07470e+04,  3.05890e+04,\n",
              "         5.98000e+04],\n",
              "       [ 4.74000e+01,  3.50000e+01,  2.98000e+01,  1.00000e+00,\n",
              "         2.41000e+01,  1.31000e+01,  9.70000e+00,  6.80000e+00,\n",
              "         5.40000e+00],\n",
              "       [ 7.00000e+00,  3.40000e+00,  0.00000e+00,  5.10000e+00,\n",
              "         1.90000e+00,  1.30000e+00,  2.50000e+00,  8.00000e-01,\n",
              "         1.80000e+00],\n",
              "       [ 2.05000e-01,  7.00000e-03,  1.70000e-02,  5.50000e-02,\n",
              "         9.40000e-02,  4.90000e-02,  5.70000e-02,  4.60000e-02,\n",
              "         1.10000e-02],\n",
              "       [ 3.40000e-02,  1.77400e+02,  2.34000e+01,  6.70000e+00,\n",
              "         2.52000e+01,  3.10000e+00,  2.67000e+01,  9.78000e+01,\n",
              "         2.83000e+01],\n",
              "       [ 1.67000e+02,  4.64000e+02,  1.50000e+01, -2.00000e+01,\n",
              "        -6.50000e+01, -1.10000e+02, -1.40000e+02, -1.95000e+02,\n",
              "        -2.00000e+02],\n",
              "       [ 0.00000e+00,  9.20000e+01,  1.00000e+00,  0.00000e+00,\n",
              "         1.00000e-02,  0.00000e+00,  0.00000e+00,  0.00000e+00,\n",
              "         0.00000e+00],\n",
              "       [ 0.00000e+00,  0.00000e+00,  1.00000e+00,  0.00000e+00,\n",
              "         2.00000e+00,  7.90000e+01,  8.20000e+01,  2.70000e+01,\n",
              "         1.40000e+01],\n",
              "       [ 0.00000e+00,  0.00000e+00,  0.00000e+00,  0.00000e+00,\n",
              "         0.00000e+00,  1.00000e+00,  1.00000e+00,  1.00000e+00,\n",
              "         1.00000e+00],\n",
              "       [ 1.00000e+00,  0.00000e+00,  1.00000e+00,  0.00000e+00,\n",
              "         0.00000e+00,  1.00000e+00,  1.00000e+00,  1.00000e+00,\n",
              "         1.00000e+00]])"
            ]
          },
          "metadata": {
            "tags": []
          },
          "execution_count": 69
        }
      ]
    },
    {
      "cell_type": "code",
      "metadata": {
        "id": "1VjzZw_7OG2_"
      },
      "source": [
        "np.savetxt('planets_new.txt', planets_new, delimiter= ',')  #a new file is created in human readable format"
      ],
      "execution_count": null,
      "outputs": []
    },
    {
      "cell_type": "code",
      "metadata": {
        "id": "Ib6Ag9zqOaai"
      },
      "source": [
        "np.save(\"planets_new\", planets_new)    #a new file is created in only computer readable format"
      ],
      "execution_count": null,
      "outputs": []
    },
    {
      "cell_type": "code",
      "metadata": {
        "colab": {
          "base_uri": "https://localhost:8080/"
        },
        "id": "wJBocHf8PDBU",
        "outputId": "81d53b1c-9baf-47ac-9105-c4c13235a082"
      },
      "source": [
        "!ls -lh     #to see the size of files, we see .npy file is of much smaller size than .txt file"
      ],
      "execution_count": null,
      "outputs": [
        {
          "output_type": "stream",
          "text": [
            "total 24K\n",
            "-rw-r--r-- 1 root root 1.6K Aug  5 12:14 planets_new.npy\n",
            "-rw-r--r-- 1 root root 4.5K Aug  5 12:11 planets_new.txt\n",
            "-rw-r--r-- 1 root root  254 Aug  5 11:51 planets_small.txt\n",
            "-rw-r--r-- 1 root root 1.5K Aug  5 12:03 planets.txt\n",
            "drwxr-xr-x 1 root root 4.0K Jul 16 13:20 sample_data\n"
          ],
          "name": "stdout"
        }
      ]
    },
    {
      "cell_type": "code",
      "metadata": {
        "id": "rt-Gx873POJs"
      },
      "source": [
        "arr1 = np.random.rand(1000, 10)\n",
        "arr2 = np.random.rand(2000, 5)\n",
        "arr3 = np.random.rand(20, 10000)"
      ],
      "execution_count": null,
      "outputs": []
    },
    {
      "cell_type": "code",
      "metadata": {
        "id": "r9PNunuWP2sc"
      },
      "source": [
        "np.savez(\"many_arrs\",arr1, arr2, arr3)  #To save multiple ndarrays in a np file"
      ],
      "execution_count": null,
      "outputs": []
    },
    {
      "cell_type": "code",
      "metadata": {
        "colab": {
          "base_uri": "https://localhost:8080/"
        },
        "id": "IJPEYALaQKu2",
        "outputId": "9477808f-c63b-4969-be3f-5452f331fa3b"
      },
      "source": [
        "!ls -lh"
      ],
      "execution_count": null,
      "outputs": [
        {
          "output_type": "stream",
          "text": [
            "total 1.8M\n",
            "-rw-r--r-- 1 root root 1.7M Aug  5 12:19 many_arrs.npz\n",
            "-rw-r--r-- 1 root root 1.6K Aug  5 12:14 planets_new.npy\n",
            "-rw-r--r-- 1 root root 4.5K Aug  5 12:11 planets_new.txt\n",
            "-rw-r--r-- 1 root root  254 Aug  5 11:51 planets_small.txt\n",
            "-rw-r--r-- 1 root root 1.5K Aug  5 12:03 planets.txt\n",
            "drwxr-xr-x 1 root root 4.0K Jul 16 13:20 sample_data\n"
          ],
          "name": "stdout"
        }
      ]
    },
    {
      "cell_type": "code",
      "metadata": {
        "id": "lPP4xxcuQNIm"
      },
      "source": [
        "arrs = np.load(\"many_arrs.npz\")"
      ],
      "execution_count": null,
      "outputs": []
    },
    {
      "cell_type": "code",
      "metadata": {
        "colab": {
          "base_uri": "https://localhost:8080/"
        },
        "id": "WnODmH1BQe1e",
        "outputId": "38e50ec2-5aa1-4c3a-eaae-eccd9c34ba67"
      },
      "source": [
        "print(type(arrs))"
      ],
      "execution_count": null,
      "outputs": [
        {
          "output_type": "stream",
          "text": [
            "<class 'numpy.lib.npyio.NpzFile'>\n"
          ],
          "name": "stdout"
        }
      ]
    },
    {
      "cell_type": "code",
      "metadata": {
        "colab": {
          "base_uri": "https://localhost:8080/"
        },
        "id": "zSIP0pZmQhdU",
        "outputId": "02e6c90c-663e-4a07-8e63-1e17c661d736"
      },
      "source": [
        "arrs.files"
      ],
      "execution_count": null,
      "outputs": [
        {
          "output_type": "execute_result",
          "data": {
            "text/plain": [
              "['arr_0', 'arr_1', 'arr_2']"
            ]
          },
          "metadata": {
            "tags": []
          },
          "execution_count": 79
        }
      ]
    },
    {
      "cell_type": "code",
      "metadata": {
        "colab": {
          "base_uri": "https://localhost:8080/"
        },
        "id": "0rNmnVGGQkai",
        "outputId": "722cadf8-1b05-4d57-a954-063f2b51e4a8"
      },
      "source": [
        "arrs['arr_0'].shape"
      ],
      "execution_count": null,
      "outputs": [
        {
          "output_type": "execute_result",
          "data": {
            "text/plain": [
              "(1000, 10)"
            ]
          },
          "metadata": {
            "tags": []
          },
          "execution_count": 80
        }
      ]
    },
    {
      "cell_type": "code",
      "metadata": {
        "id": "9YFJ8NqFQpZq"
      },
      "source": [
        "#compressing data\n",
        "arr1 = np.zeros((10000, 10000))\n",
        "np.savez(\"zeros\", arr1)\n",
        "np.savez_compressed('zeros_compressed', arr1)"
      ],
      "execution_count": null,
      "outputs": []
    },
    {
      "cell_type": "code",
      "metadata": {
        "colab": {
          "base_uri": "https://localhost:8080/"
        },
        "id": "MUvgUxe7RMHx",
        "outputId": "4320a940-5e7b-4bc9-8b1e-4892a597503b"
      },
      "source": [
        "!ls -lh"
      ],
      "execution_count": null,
      "outputs": [
        {
          "output_type": "stream",
          "text": [
            "total 766M\n",
            "-rw-r--r-- 1 root root 1.7M Aug  5 12:19 many_arrs.npz\n",
            "-rw-r--r-- 1 root root 1.6K Aug  5 12:14 planets_new.npy\n",
            "-rw-r--r-- 1 root root 4.5K Aug  5 12:11 planets_new.txt\n",
            "-rw-r--r-- 1 root root  254 Aug  5 11:51 planets_small.txt\n",
            "-rw-r--r-- 1 root root 1.5K Aug  5 12:03 planets.txt\n",
            "drwxr-xr-x 1 root root 4.0K Jul 16 13:20 sample_data\n",
            "-rw-r--r-- 1 root root 760K Aug  5 12:23 zeros_compressed.npz\n",
            "-rw-r--r-- 1 root root 763M Aug  5 12:23 zeros.npz\n"
          ],
          "name": "stdout"
        }
      ]
    },
    {
      "cell_type": "markdown",
      "metadata": {
        "id": "tAs-sagcT-xm"
      },
      "source": [
        "##Stats with NumPy"
      ]
    },
    {
      "cell_type": "code",
      "metadata": {
        "id": "QzIDVYXfRRTX"
      },
      "source": [
        "arr = np.random.rand(100000,)   #uniformly distributed\n",
        "#For normal distributed, use randn"
      ],
      "execution_count": null,
      "outputs": []
    },
    {
      "cell_type": "code",
      "metadata": {
        "colab": {
          "base_uri": "https://localhost:8080/"
        },
        "id": "GK5vjRw-UJX-",
        "outputId": "c3768e35-d113-445a-9490-9668a0a5bf36"
      },
      "source": [
        "np.amin(arr)"
      ],
      "execution_count": null,
      "outputs": [
        {
          "output_type": "execute_result",
          "data": {
            "text/plain": [
              "1.3911039276059967e-07"
            ]
          },
          "metadata": {
            "tags": []
          },
          "execution_count": 84
        }
      ]
    },
    {
      "cell_type": "code",
      "metadata": {
        "colab": {
          "base_uri": "https://localhost:8080/"
        },
        "id": "gX5KachCULg4",
        "outputId": "ae11f8b1-d9ed-4486-8de1-4694ebc51d46"
      },
      "source": [
        "np.amax(arr)"
      ],
      "execution_count": null,
      "outputs": [
        {
          "output_type": "execute_result",
          "data": {
            "text/plain": [
              "0.9999959505563843"
            ]
          },
          "metadata": {
            "tags": []
          },
          "execution_count": 85
        }
      ]
    },
    {
      "cell_type": "code",
      "metadata": {
        "colab": {
          "base_uri": "https://localhost:8080/"
        },
        "id": "pLQKyv98UNJf",
        "outputId": "072a881c-4399-4894-8e5a-3333584b2959"
      },
      "source": [
        "np.mean(arr)"
      ],
      "execution_count": null,
      "outputs": [
        {
          "output_type": "execute_result",
          "data": {
            "text/plain": [
              "0.5017275452699348"
            ]
          },
          "metadata": {
            "tags": []
          },
          "execution_count": 86
        }
      ]
    },
    {
      "cell_type": "code",
      "metadata": {
        "colab": {
          "base_uri": "https://localhost:8080/"
        },
        "id": "ex6leXPzUPKR",
        "outputId": "df460e92-fee7-4117-eb02-c52b2b8fd5db"
      },
      "source": [
        "np.var(arr)"
      ],
      "execution_count": null,
      "outputs": [
        {
          "output_type": "execute_result",
          "data": {
            "text/plain": [
              "0.08323685181648972"
            ]
          },
          "metadata": {
            "tags": []
          },
          "execution_count": 87
        }
      ]
    },
    {
      "cell_type": "code",
      "metadata": {
        "colab": {
          "base_uri": "https://localhost:8080/"
        },
        "id": "yXP9uBnvUQiz",
        "outputId": "2e718ed0-7c40-407b-9512-d78b4520fe20"
      },
      "source": [
        "np.std(arr)"
      ],
      "execution_count": null,
      "outputs": [
        {
          "output_type": "execute_result",
          "data": {
            "text/plain": [
              "0.2885079753082915"
            ]
          },
          "metadata": {
            "tags": []
          },
          "execution_count": 88
        }
      ]
    },
    {
      "cell_type": "code",
      "metadata": {
        "colab": {
          "base_uri": "https://localhost:8080/"
        },
        "id": "o9av6dlxUT1U",
        "outputId": "a3d08bd8-0083-4b11-932a-1394141a501e"
      },
      "source": [
        "np.median(arr)"
      ],
      "execution_count": null,
      "outputs": [
        {
          "output_type": "execute_result",
          "data": {
            "text/plain": [
              "0.5026523762382655"
            ]
          },
          "metadata": {
            "tags": []
          },
          "execution_count": 89
        }
      ]
    },
    {
      "cell_type": "code",
      "metadata": {
        "colab": {
          "base_uri": "https://localhost:8080/"
        },
        "id": "ARxNhXQPUXGv",
        "outputId": "788ddb64-c1c6-4e37-b7f0-0a8afd9602c8"
      },
      "source": [
        "np.percentile(arr, 50)"
      ],
      "execution_count": null,
      "outputs": [
        {
          "output_type": "execute_result",
          "data": {
            "text/plain": [
              "0.5026523762382655"
            ]
          },
          "metadata": {
            "tags": []
          },
          "execution_count": 90
        }
      ]
    },
    {
      "cell_type": "code",
      "metadata": {
        "colab": {
          "base_uri": "https://localhost:8080/"
        },
        "id": "YqhXyTrsUeT1",
        "outputId": "649b17b2-fecb-4630-9df5-7944c39ccec3"
      },
      "source": [
        "np.percentile(arr, 10)  #closer to 10"
      ],
      "execution_count": null,
      "outputs": [
        {
          "output_type": "execute_result",
          "data": {
            "text/plain": [
              "0.10160578503072504"
            ]
          },
          "metadata": {
            "tags": []
          },
          "execution_count": 91
        }
      ]
    },
    {
      "cell_type": "code",
      "metadata": {
        "colab": {
          "base_uri": "https://localhost:8080/"
        },
        "id": "Zpb7QNkwUuGV",
        "outputId": "3ac3778a-3ba7-4233-9037-bd294f0dc1f2"
      },
      "source": [
        "#inter-quartile range\n",
        "iqr = np.percentile(arr, 75) - np.percentile(arr, 25)\n",
        "iqr"
      ],
      "execution_count": null,
      "outputs": [
        {
          "output_type": "execute_result",
          "data": {
            "text/plain": [
              "0.5001794207194195"
            ]
          },
          "metadata": {
            "tags": []
          },
          "execution_count": 92
        }
      ]
    },
    {
      "cell_type": "code",
      "metadata": {
        "colab": {
          "base_uri": "https://localhost:8080/"
        },
        "id": "C9Rh3VSxVCn7",
        "outputId": "9b7efb8d-02d4-4ca1-cedf-c19ef1b0340c"
      },
      "source": [
        "quartiles = np.percentile(arr, [25, 75])\n",
        "quartiles"
      ],
      "execution_count": null,
      "outputs": [
        {
          "output_type": "execute_result",
          "data": {
            "text/plain": [
              "array([0.25182949, 0.75200891])"
            ]
          },
          "metadata": {
            "tags": []
          },
          "execution_count": 93
        }
      ]
    },
    {
      "cell_type": "code",
      "metadata": {
        "colab": {
          "base_uri": "https://localhost:8080/"
        },
        "id": "6HVirDOLVi6V",
        "outputId": "b01923b6-b7bd-407d-c66c-a299f4c34289"
      },
      "source": [
        "iqr = quartiles[1] - quartiles[0]\n",
        "iqr"
      ],
      "execution_count": null,
      "outputs": [
        {
          "output_type": "execute_result",
          "data": {
            "text/plain": [
              "0.5001794207194195"
            ]
          },
          "metadata": {
            "tags": []
          },
          "execution_count": 94
        }
      ]
    },
    {
      "cell_type": "code",
      "metadata": {
        "colab": {
          "base_uri": "https://localhost:8080/"
        },
        "id": "anyoj9PjVvja",
        "outputId": "caa7eaf4-b172-4198-ca22-0ac764c87928"
      },
      "source": [
        "z_scores = (arr - np.mean(arr))/np.std(arr)  #how left or right a value is from mean\n",
        "z_scores"
      ],
      "execution_count": null,
      "outputs": [
        {
          "output_type": "execute_result",
          "data": {
            "text/plain": [
              "array([-0.31514832,  0.42672519,  0.87719473, ...,  0.29611161,\n",
              "        1.51724158, -1.44356143])"
            ]
          },
          "metadata": {
            "tags": []
          },
          "execution_count": 95
        }
      ]
    },
    {
      "cell_type": "code",
      "metadata": {
        "colab": {
          "base_uri": "https://localhost:8080/"
        },
        "id": "ZFg2X1fpWPDC",
        "outputId": "427f1467-0312-436f-f51a-ee1df9fcf096"
      },
      "source": [
        "np.histogram(arr)    #It will give 10 bins by default, and their ranges, which are almost equal\n",
        "#first array gives num of points in each bin"
      ],
      "execution_count": null,
      "outputs": [
        {
          "output_type": "execute_result",
          "data": {
            "text/plain": [
              "(array([ 9979, 10010, 10067,  9936,  9998,  9878, 10118,  9996, 10000,\n",
              "        10018]),\n",
              " array([2.53921680e-05, 1.00021316e-01, 2.00017240e-01, 3.00013163e-01,\n",
              "        4.00009087e-01, 5.00005011e-01, 6.00000935e-01, 6.99996858e-01,\n",
              "        7.99992782e-01, 8.99988706e-01, 9.99984630e-01]))"
            ]
          },
          "metadata": {
            "tags": []
          },
          "execution_count": 3
        }
      ]
    },
    {
      "cell_type": "code",
      "metadata": {
        "colab": {
          "base_uri": "https://localhost:8080/"
        },
        "id": "1HgXLxCGiZFd",
        "outputId": "94d851c8-7652-4fd2-ab6a-5fdfed89e657"
      },
      "source": [
        "np.histogram(arr, bins=5)"
      ],
      "execution_count": null,
      "outputs": [
        {
          "output_type": "execute_result",
          "data": {
            "text/plain": [
              "(array([19989, 20003, 19876, 20114, 20018]),\n",
              " array([2.53921680e-05, 2.00017240e-01, 4.00009087e-01, 6.00000935e-01,\n",
              "        7.99992782e-01, 9.99984630e-01]))"
            ]
          },
          "metadata": {
            "tags": []
          },
          "execution_count": 4
        }
      ]
    },
    {
      "cell_type": "code",
      "metadata": {
        "colab": {
          "base_uri": "https://localhost:8080/"
        },
        "id": "fd1V8hoSjTor",
        "outputId": "45b594a1-7896-4667-a69f-64554ddc08ff"
      },
      "source": [
        "np.histogram(arr, bins=[0, 0.25, 0.5, 0.75, 1])"
      ],
      "execution_count": null,
      "outputs": [
        {
          "output_type": "execute_result",
          "data": {
            "text/plain": [
              "(array([24936, 25054, 24931, 25079]), array([0.  , 0.25, 0.5 , 0.75, 1.  ]))"
            ]
          },
          "metadata": {
            "tags": []
          },
          "execution_count": 5
        }
      ]
    },
    {
      "cell_type": "code",
      "metadata": {
        "id": "dWeCIoASj4Os"
      },
      "source": [
        "bins = [0, 0.25, 0.5, 0.75, 1]\n",
        "#it gives 4 bins of range\n",
        "#(0-0.25) - bin 1\n",
        "#(0.25-0.5) - bin 2\n",
        "#(0.5-0.75) - bin 3\n",
        "#(0.75-1) - bin 4"
      ],
      "execution_count": null,
      "outputs": []
    },
    {
      "cell_type": "code",
      "metadata": {
        "colab": {
          "base_uri": "https://localhost:8080/"
        },
        "id": "O20Izx9GlSfp",
        "outputId": "4fbccf5a-9eeb-4187-a9c3-cfc7dbd2c21b"
      },
      "source": [
        "np.digitize(arr, bins) #to check in which bin a particular point will come"
      ],
      "execution_count": null,
      "outputs": [
        {
          "output_type": "execute_result",
          "data": {
            "text/plain": [
              "array([1, 2, 2, ..., 2, 2, 4])"
            ]
          },
          "metadata": {
            "tags": []
          },
          "execution_count": 7
        }
      ]
    },
    {
      "cell_type": "code",
      "metadata": {
        "colab": {
          "base_uri": "https://localhost:8080/"
        },
        "id": "3FIDSPK0ldf5",
        "outputId": "2a992b4a-5db2-44f6-cbfd-1eb5ebb55a24"
      },
      "source": [
        "arr1 = np.random.randint(0, 10, (10))\n",
        "arr1"
      ],
      "execution_count": null,
      "outputs": [
        {
          "output_type": "execute_result",
          "data": {
            "text/plain": [
              "array([1, 5, 9, 9, 7, 9, 8, 7, 1, 7])"
            ]
          },
          "metadata": {
            "tags": []
          },
          "execution_count": 8
        }
      ]
    },
    {
      "cell_type": "code",
      "metadata": {
        "id": "OmvdmIRQlsfs"
      },
      "source": [
        "bins = [0, 7, 10]"
      ],
      "execution_count": null,
      "outputs": []
    },
    {
      "cell_type": "code",
      "metadata": {
        "colab": {
          "base_uri": "https://localhost:8080/"
        },
        "id": "bk62bYAnlxZ0",
        "outputId": "00e86312-130b-4e03-f319-15335c36af07"
      },
      "source": [
        "np.digitize(arr1, bins)  #(0-7) bin will not contain 7 in it (like in range)"
      ],
      "execution_count": null,
      "outputs": [
        {
          "output_type": "execute_result",
          "data": {
            "text/plain": [
              "array([1, 1, 2, 2, 2, 2, 2, 2, 1, 2])"
            ]
          },
          "metadata": {
            "tags": []
          },
          "execution_count": 11
        }
      ]
    },
    {
      "cell_type": "code",
      "metadata": {
        "colab": {
          "base_uri": "https://localhost:8080/"
        },
        "id": "KqKhjHaimP12",
        "outputId": "e6d38fae-fb12-41fb-c4b7-c4b178a9c862"
      },
      "source": [
        "np.digitize(arr1, bins, right = True)  #It will include rirght point too, i.e., 7 here"
      ],
      "execution_count": null,
      "outputs": [
        {
          "output_type": "execute_result",
          "data": {
            "text/plain": [
              "array([1, 1, 2, 2, 1, 2, 2, 1, 1, 1])"
            ]
          },
          "metadata": {
            "tags": []
          },
          "execution_count": 12
        }
      ]
    },
    {
      "cell_type": "code",
      "metadata": {
        "colab": {
          "base_uri": "https://localhost:8080/"
        },
        "id": "srJEyM_Omvep",
        "outputId": "39b47bea-7a64-4e55-f19f-1f28e0392b77"
      },
      "source": [
        "arr1 = np.random.randint(50, 80, 100)  #create 100 ints between 50 and 80\n",
        "arr1  #weight"
      ],
      "execution_count": null,
      "outputs": [
        {
          "output_type": "execute_result",
          "data": {
            "text/plain": [
              "array([53, 72, 68, 55, 52, 71, 52, 66, 65, 51, 61, 64, 51, 78, 58, 62, 71,\n",
              "       64, 55, 72, 62, 72, 63, 78, 74, 77, 65, 75, 70, 76, 74, 75, 73, 71,\n",
              "       59, 67, 55, 58, 76, 71, 67, 67, 74, 75, 57, 50, 76, 58, 65, 56, 62,\n",
              "       75, 58, 61, 57, 75, 65, 60, 56, 70, 51, 69, 62, 79, 75, 53, 59, 75,\n",
              "       51, 59, 59, 60, 76, 74, 51, 57, 55, 79, 76, 66, 74, 69, 56, 78, 68,\n",
              "       55, 79, 67, 69, 73, 63, 69, 72, 57, 59, 74, 51, 57, 71, 58])"
            ]
          },
          "metadata": {
            "tags": []
          },
          "execution_count": 14
        }
      ]
    },
    {
      "cell_type": "code",
      "metadata": {
        "colab": {
          "base_uri": "https://localhost:8080/"
        },
        "id": "1SaOTUTYm73Q",
        "outputId": "441920c0-6b24-4799-98dd-2963016b5a51"
      },
      "source": [
        "arr2 = np.random.randint(150, 185, 100)\n",
        "arr2   #heights"
      ],
      "execution_count": null,
      "outputs": [
        {
          "output_type": "execute_result",
          "data": {
            "text/plain": [
              "array([164, 164, 155, 159, 184, 151, 174, 163, 153, 151, 181, 168, 175,\n",
              "       168, 155, 172, 184, 182, 158, 162, 180, 164, 157, 180, 156, 152,\n",
              "       166, 161, 168, 176, 181, 163, 177, 163, 161, 157, 174, 165, 165,\n",
              "       180, 171, 171, 151, 156, 181, 177, 164, 181, 181, 172, 158, 177,\n",
              "       159, 169, 150, 157, 162, 183, 170, 181, 172, 169, 166, 160, 175,\n",
              "       161, 158, 177, 182, 150, 182, 166, 175, 163, 158, 164, 155, 182,\n",
              "       171, 157, 166, 167, 154, 172, 172, 172, 182, 171, 152, 184, 178,\n",
              "       159, 156, 166, 177, 178, 151, 159, 177, 156])"
            ]
          },
          "metadata": {
            "tags": []
          },
          "execution_count": 15
        }
      ]
    },
    {
      "cell_type": "code",
      "metadata": {
        "colab": {
          "base_uri": "https://localhost:8080/"
        },
        "id": "6OhrmPM4nNAK",
        "outputId": "fa28651f-d9c7-41a3-f222-1f6bd914cbbc"
      },
      "source": [
        "arr3 = np.random.randint(17, 22, 100)\n",
        "arr3   #age"
      ],
      "execution_count": null,
      "outputs": [
        {
          "output_type": "execute_result",
          "data": {
            "text/plain": [
              "array([21, 17, 17, 19, 18, 20, 18, 21, 19, 17, 20, 19, 19, 18, 19, 20, 17,\n",
              "       18, 21, 19, 17, 21, 21, 17, 21, 19, 18, 17, 19, 21, 20, 17, 18, 18,\n",
              "       17, 17, 20, 19, 21, 21, 18, 18, 18, 19, 21, 19, 19, 21, 17, 21, 19,\n",
              "       18, 20, 19, 20, 17, 19, 19, 19, 20, 19, 19, 20, 21, 17, 20, 20, 17,\n",
              "       21, 18, 21, 17, 19, 20, 19, 20, 21, 18, 19, 19, 17, 19, 20, 19, 18,\n",
              "       21, 21, 19, 17, 17, 20, 17, 17, 19, 20, 20, 17, 18, 19, 19])"
            ]
          },
          "metadata": {
            "tags": []
          },
          "execution_count": 16
        }
      ]
    },
    {
      "cell_type": "code",
      "metadata": {
        "colab": {
          "base_uri": "https://localhost:8080/"
        },
        "id": "DsUSyLLSnU2A",
        "outputId": "6b3eaae7-613e-4708-8f08-8069788af8a1"
      },
      "source": [
        "np.concatenate((arr1, arr2, arr3)).shape  #it will stack all arrays horizontally"
      ],
      "execution_count": null,
      "outputs": [
        {
          "output_type": "execute_result",
          "data": {
            "text/plain": [
              "(300,)"
            ]
          },
          "metadata": {
            "tags": []
          },
          "execution_count": 17
        }
      ]
    },
    {
      "cell_type": "code",
      "metadata": {
        "colab": {
          "base_uri": "https://localhost:8080/"
        },
        "id": "zFKzaV62ni4b",
        "outputId": "6584c302-9641-4766-a024-a3e4f7bb2b94"
      },
      "source": [
        "np.vstack((arr1, arr2, arr3)).shape   #it will stack arrays vertically"
      ],
      "execution_count": null,
      "outputs": [
        {
          "output_type": "execute_result",
          "data": {
            "text/plain": [
              "(3, 100)"
            ]
          },
          "metadata": {
            "tags": []
          },
          "execution_count": 18
        }
      ]
    },
    {
      "cell_type": "code",
      "metadata": {
        "id": "rJt7uBfenrp2"
      },
      "source": [
        "arr2d = np.vstack((arr1, arr2, arr3))"
      ],
      "execution_count": null,
      "outputs": []
    },
    {
      "cell_type": "code",
      "metadata": {
        "colab": {
          "base_uri": "https://localhost:8080/"
        },
        "id": "tuIOnGQAn18n",
        "outputId": "9b172584-2e55-4b0c-98dd-11c48e8ef278"
      },
      "source": [
        "np.amin(arr2d, axis=1)    #to find min of all columns differently"
      ],
      "execution_count": null,
      "outputs": [
        {
          "output_type": "execute_result",
          "data": {
            "text/plain": [
              "array([ 50, 150,  17])"
            ]
          },
          "metadata": {
            "tags": []
          },
          "execution_count": 20
        }
      ]
    },
    {
      "cell_type": "code",
      "metadata": {
        "colab": {
          "base_uri": "https://localhost:8080/"
        },
        "id": "hz1Jh5tyn9NZ",
        "outputId": "27ba6c29-da70-461d-a078-e9ff50791cf1"
      },
      "source": [
        "np.amax(arr2d, axis=1) "
      ],
      "execution_count": null,
      "outputs": [
        {
          "output_type": "execute_result",
          "data": {
            "text/plain": [
              "array([ 79, 184,  21])"
            ]
          },
          "metadata": {
            "tags": []
          },
          "execution_count": 21
        }
      ]
    },
    {
      "cell_type": "code",
      "metadata": {
        "colab": {
          "base_uri": "https://localhost:8080/"
        },
        "id": "UE3NprUcoPLM",
        "outputId": "b03eca49-107e-40c6-a2e7-36e6a98c379a"
      },
      "source": [
        "np.mean(arr2d, axis=1) "
      ],
      "execution_count": null,
      "outputs": [
        {
          "output_type": "execute_result",
          "data": {
            "text/plain": [
              "array([ 65.21, 167.32,  18.96])"
            ]
          },
          "metadata": {
            "tags": []
          },
          "execution_count": 22
        }
      ]
    },
    {
      "cell_type": "markdown",
      "metadata": {
        "id": "lEQeue9ZoeUH"
      },
      "source": [
        "##Rules of Statistics"
      ]
    },
    {
      "cell_type": "markdown",
      "metadata": {
        "id": "86ES0dzOok4u"
      },
      "source": [
        "###Mean subtracted array has zero means"
      ]
    },
    {
      "cell_type": "code",
      "metadata": {
        "id": "wwJfYPCAoV4_"
      },
      "source": [
        "arr = np.random.rand(1000)"
      ],
      "execution_count": null,
      "outputs": []
    },
    {
      "cell_type": "code",
      "metadata": {
        "id": "megAXarOo9xj"
      },
      "source": [
        "mean = np.mean(arr)"
      ],
      "execution_count": null,
      "outputs": []
    },
    {
      "cell_type": "code",
      "metadata": {
        "id": "P8WKTaA6pBKB"
      },
      "source": [
        "arr1 = arr - mean"
      ],
      "execution_count": null,
      "outputs": []
    },
    {
      "cell_type": "code",
      "metadata": {
        "colab": {
          "base_uri": "https://localhost:8080/"
        },
        "id": "VtHFKqKlpC4c",
        "outputId": "9f4f07ab-9983-4100-aa6a-221bb210f377"
      },
      "source": [
        "np.mean(arr1)   #it will be zero"
      ],
      "execution_count": null,
      "outputs": [
        {
          "output_type": "execute_result",
          "data": {
            "text/plain": [
              "1.5543122344752193e-17"
            ]
          },
          "metadata": {
            "tags": []
          },
          "execution_count": 26
        }
      ]
    },
    {
      "cell_type": "markdown",
      "metadata": {
        "id": "3gKkpq1MpKd4"
      },
      "source": [
        "###Computing mean with smaller set of values"
      ]
    },
    {
      "cell_type": "code",
      "metadata": {
        "id": "jgLGqjZcpHck"
      },
      "source": [
        "arr = np.random.rand(1000)"
      ],
      "execution_count": null,
      "outputs": []
    },
    {
      "cell_type": "code",
      "metadata": {
        "colab": {
          "base_uri": "https://localhost:8080/"
        },
        "id": "Zo6aYYBMpR1V",
        "outputId": "158ece66-683e-4375-ac1d-4b865f00d0bc"
      },
      "source": [
        "for k in range(1, 50):\n",
        "  arr1 = arr[0:k]\n",
        "  print(k, np.mean(arr1))   #mean near to 0.5"
      ],
      "execution_count": null,
      "outputs": [
        {
          "output_type": "stream",
          "text": [
            "1 0.4867397933688532\n",
            "2 0.5013749112340372\n",
            "3 0.4784672252174231\n",
            "4 0.5554358210692614\n",
            "5 0.520359632270045\n",
            "6 0.4975471071517734\n",
            "7 0.49312110458547426\n",
            "8 0.47743456235556925\n",
            "9 0.4410861489418647\n",
            "10 0.43880125763486316\n",
            "11 0.4811686787455541\n",
            "12 0.48455635931517477\n",
            "13 0.45677490161510964\n",
            "14 0.4256277136045612\n",
            "15 0.41637570761583015\n",
            "16 0.44682334924363254\n",
            "17 0.4307759547007176\n",
            "18 0.4416614826616449\n",
            "19 0.43755176904778265\n",
            "20 0.4650741555185588\n",
            "21 0.4873969457411753\n",
            "22 0.4719100696595273\n",
            "23 0.46375091210546165\n",
            "24 0.44554718166349555\n",
            "25 0.4572339678088515\n",
            "26 0.44339615943675936\n",
            "27 0.42838413844473955\n",
            "28 0.4241962687513824\n",
            "29 0.4152745323461184\n",
            "30 0.40541253923720616\n",
            "31 0.4065561290038529\n",
            "32 0.423496038415929\n",
            "33 0.41607006326817014\n",
            "34 0.4242051248693257\n",
            "35 0.41338666827409803\n",
            "36 0.4137244075640465\n",
            "37 0.4249556656329141\n",
            "38 0.4299975964091281\n",
            "39 0.44328024051547404\n",
            "40 0.4526040096221193\n",
            "41 0.46489707829641536\n",
            "42 0.4714313814040432\n",
            "43 0.4616923259652535\n",
            "44 0.46732328549313207\n",
            "45 0.4698624928584901\n",
            "46 0.4640966422044267\n",
            "47 0.46216012403032763\n",
            "48 0.4608227409114456\n",
            "49 0.45671077559806195\n"
          ],
          "name": "stdout"
        }
      ]
    },
    {
      "cell_type": "code",
      "metadata": {
        "colab": {
          "base_uri": "https://localhost:8080/"
        },
        "id": "gDF8SUy1pekL",
        "outputId": "8bee6df1-e3ab-410d-8544-74fcf55a3ee3"
      },
      "source": [
        "#cumulative sum\n",
        "means = np.cumsum(arr)/np.arange(1,1001)\n",
        "means[0:15]   #near to 0.5"
      ],
      "execution_count": null,
      "outputs": [
        {
          "output_type": "execute_result",
          "data": {
            "text/plain": [
              "array([0.48673979, 0.50137491, 0.47846723, 0.55543582, 0.52035963,\n",
              "       0.49754711, 0.4931211 , 0.47743456, 0.44108615, 0.43880126,\n",
              "       0.48116868, 0.48455636, 0.4567749 , 0.42562771, 0.41637571])"
            ]
          },
          "metadata": {
            "tags": []
          },
          "execution_count": 29
        }
      ]
    },
    {
      "cell_type": "markdown",
      "metadata": {
        "id": "Vw63k7r0p9vv"
      },
      "source": [
        "###Effect of outliers on mean and median"
      ]
    },
    {
      "cell_type": "code",
      "metadata": {
        "id": "uUeGPiTJp5Bi"
      },
      "source": [
        "arr = np.random.randint(1, 100, 100)"
      ],
      "execution_count": null,
      "outputs": []
    },
    {
      "cell_type": "code",
      "metadata": {
        "colab": {
          "base_uri": "https://localhost:8080/"
        },
        "id": "w0laZSHnqKmV",
        "outputId": "ade04954-d441-417b-ec7d-05e021560c0f"
      },
      "source": [
        "np.mean(arr)"
      ],
      "execution_count": null,
      "outputs": [
        {
          "output_type": "execute_result",
          "data": {
            "text/plain": [
              "42.83"
            ]
          },
          "metadata": {
            "tags": []
          },
          "execution_count": 31
        }
      ]
    },
    {
      "cell_type": "code",
      "metadata": {
        "colab": {
          "base_uri": "https://localhost:8080/"
        },
        "id": "8I_8zMKWqMu9",
        "outputId": "f4480247-8e89-4965-930d-86a300052341"
      },
      "source": [
        "np.median(arr)"
      ],
      "execution_count": null,
      "outputs": [
        {
          "output_type": "execute_result",
          "data": {
            "text/plain": [
              "42.0"
            ]
          },
          "metadata": {
            "tags": []
          },
          "execution_count": 32
        }
      ]
    },
    {
      "cell_type": "code",
      "metadata": {
        "id": "0lepO5LlqO3h"
      },
      "source": [
        "arr = np.append(arr, [1000, 2000])"
      ],
      "execution_count": null,
      "outputs": []
    },
    {
      "cell_type": "code",
      "metadata": {
        "colab": {
          "base_uri": "https://localhost:8080/"
        },
        "id": "aD2qH_IZqZb2",
        "outputId": "8d9c3f62-9c54-4531-95b5-d840430b308c"
      },
      "source": [
        "arr.shape"
      ],
      "execution_count": null,
      "outputs": [
        {
          "output_type": "execute_result",
          "data": {
            "text/plain": [
              "(102,)"
            ]
          },
          "metadata": {
            "tags": []
          },
          "execution_count": 34
        }
      ]
    },
    {
      "cell_type": "code",
      "metadata": {
        "colab": {
          "base_uri": "https://localhost:8080/"
        },
        "id": "V1pFgNekqbSF",
        "outputId": "35e9bfb7-e1f8-4bcc-a525-73b23f22cb4a"
      },
      "source": [
        "np.mean(arr)    #sensitive to outliers"
      ],
      "execution_count": null,
      "outputs": [
        {
          "output_type": "execute_result",
          "data": {
            "text/plain": [
              "71.40196078431373"
            ]
          },
          "metadata": {
            "tags": []
          },
          "execution_count": 35
        }
      ]
    },
    {
      "cell_type": "code",
      "metadata": {
        "colab": {
          "base_uri": "https://localhost:8080/"
        },
        "id": "j2J-Bgy6qeof",
        "outputId": "e114e105-42e5-4751-cdd2-ace189ba6ad5"
      },
      "source": [
        "np.median(arr)     #not sensitive of outliers"
      ],
      "execution_count": null,
      "outputs": [
        {
          "output_type": "execute_result",
          "data": {
            "text/plain": [
              "43.5"
            ]
          },
          "metadata": {
            "tags": []
          },
          "execution_count": 36
        }
      ]
    },
    {
      "cell_type": "markdown",
      "metadata": {
        "id": "Yl1awgAGqrEX"
      },
      "source": [
        "###Effect of scaling arrays on mean and median"
      ]
    },
    {
      "cell_type": "code",
      "metadata": {
        "id": "2Rjup-LNqgf4"
      },
      "source": [
        "arr = np.random.rand(100)"
      ],
      "execution_count": null,
      "outputs": []
    },
    {
      "cell_type": "code",
      "metadata": {
        "colab": {
          "base_uri": "https://localhost:8080/"
        },
        "id": "dkbJs7KFq0At",
        "outputId": "1977a2be-8cbc-4e14-a95d-78afc09a43ec"
      },
      "source": [
        "np.mean(arr)"
      ],
      "execution_count": null,
      "outputs": [
        {
          "output_type": "execute_result",
          "data": {
            "text/plain": [
              "0.5296047884818493"
            ]
          },
          "metadata": {
            "tags": []
          },
          "execution_count": 38
        }
      ]
    },
    {
      "cell_type": "code",
      "metadata": {
        "colab": {
          "base_uri": "https://localhost:8080/"
        },
        "id": "oyu3dUgxq18o",
        "outputId": "94ac18cb-1294-4616-f73c-bf67ffedacc8"
      },
      "source": [
        "np.median(arr)"
      ],
      "execution_count": null,
      "outputs": [
        {
          "output_type": "execute_result",
          "data": {
            "text/plain": [
              "0.5773814739907634"
            ]
          },
          "metadata": {
            "tags": []
          },
          "execution_count": 39
        }
      ]
    },
    {
      "cell_type": "code",
      "metadata": {
        "id": "Idy4i-hIq4TP"
      },
      "source": [
        "arr1 = 2.5 * arr + 0.65   #random scaling and adding offset"
      ],
      "execution_count": null,
      "outputs": []
    },
    {
      "cell_type": "code",
      "metadata": {
        "colab": {
          "base_uri": "https://localhost:8080/"
        },
        "id": "Xc0M4guFrY3a",
        "outputId": "f9ebba2d-440a-4269-c158-bc71cdcbd34b"
      },
      "source": [
        "print(np.mean(arr1), 2.5*np.mean(arr)+0.65)   \n",
        "#checking the case if the scaled mean is similar to the mean of scaled array"
      ],
      "execution_count": null,
      "outputs": [
        {
          "output_type": "stream",
          "text": [
            "1.9740119712046234 1.9740119712046234\n"
          ],
          "name": "stdout"
        }
      ]
    },
    {
      "cell_type": "code",
      "metadata": {
        "colab": {
          "base_uri": "https://localhost:8080/"
        },
        "id": "D69wS0I-r4au",
        "outputId": "2258dd1f-47e6-476a-8b07-0d1fdf601940"
      },
      "source": [
        "print(np.median(arr1), 2.5*np.median(arr)+0.65)  #holds true for median too"
      ],
      "execution_count": null,
      "outputs": [
        {
          "output_type": "stream",
          "text": [
            "2.0934536849769088 2.0934536849769088\n"
          ],
          "name": "stdout"
        }
      ]
    },
    {
      "cell_type": "code",
      "metadata": {
        "colab": {
          "base_uri": "https://localhost:8080/"
        },
        "id": "ivnwvoa9r_Od",
        "outputId": "9be6fa08-5522-4455-ce40-71f50d5a4c54"
      },
      "source": [
        "print(np.var(arr1), 2.5*2.5*np.var(arr))  #holds true for variance too\n",
        "#in this, scaled term is squared and offset term will not considered  "
      ],
      "execution_count": null,
      "outputs": [
        {
          "output_type": "stream",
          "text": [
            "0.534128288548747 0.5341282885487473\n"
          ],
          "name": "stdout"
        }
      ]
    },
    {
      "cell_type": "code",
      "metadata": {
        "colab": {
          "base_uri": "https://localhost:8080/"
        },
        "id": "cOwL1Y8VsfuX",
        "outputId": "69de608f-f487-4440-f33c-063f9e6060d3"
      },
      "source": [
        "print(np.std(arr1), 2.5*np.std(arr))  #holds true for std deviation too"
      ],
      "execution_count": null,
      "outputs": [
        {
          "output_type": "stream",
          "text": [
            "0.7308408093071617 0.7308408093071618\n"
          ],
          "name": "stdout"
        }
      ]
    },
    {
      "cell_type": "code",
      "metadata": {
        "id": "_WWo-B4isvTv"
      },
      "source": [
        "arr1 = np.random.rand(100)\n",
        "arr2 = np.random.rand(100)"
      ],
      "execution_count": null,
      "outputs": []
    },
    {
      "cell_type": "code",
      "metadata": {
        "colab": {
          "base_uri": "https://localhost:8080/"
        },
        "id": "03VJ-daYs3vq",
        "outputId": "8c84e606-5672-4fc2-860a-697d0cb1cf9d"
      },
      "source": [
        "print(np.mean(0.21 * arr1 - 0.75 *arr2), 0.21 * np.mean(arr1) - 0.75 * np.mean(arr2))"
      ],
      "execution_count": null,
      "outputs": [
        {
          "output_type": "stream",
          "text": [
            "-0.26116904521199413 -0.261169045211994\n"
          ],
          "name": "stdout"
        }
      ]
    },
    {
      "cell_type": "markdown",
      "metadata": {
        "id": "ichKpnYetiwO"
      },
      "source": [
        "#Case Study"
      ]
    },
    {
      "cell_type": "code",
      "metadata": {
        "colab": {
          "base_uri": "https://localhost:8080/"
        },
        "id": "vZ8VWAhxtN3n",
        "outputId": "a4903cdc-2d60-4d9e-ed26-29774593c9b0"
      },
      "source": [
        "!head cric_data-200320-181217.tsv"
      ],
      "execution_count": null,
      "outputs": [
        {
          "output_type": "stream",
          "text": [
            "\tSachin Tendulkar\tRahul Dravid\tIndia\n",
            "0\t100\t78\t342\n",
            "1\t11\t62\t191\n",
            "2\t8\t85\t252\n",
            "3\t71\t24\t307\n",
            "4\t104\t17\t229\n",
            "5\t18\t104\t246\n",
            "6\t8\t76\t226\n",
            "7\t86\t74\t288\n",
            "8\t12\t60\t216\n"
          ],
          "name": "stdout"
        }
      ]
    },
    {
      "cell_type": "markdown",
      "metadata": {
        "id": "FFL53PfNuBFi"
      },
      "source": [
        "\n",
        "\n",
        "1.   Find mean, median, IQR for Sachin, Rahul and India.\n",
        "2.   Find the histogram of Sachin's scores with 10 bins.\n",
        "3. Find mean of Sachin's scores grouped by 25 matches.\n",
        "4. Find mean of Sachin's scores when he has score a  century.\n",
        "5. Find mean for Sachin's score when Rahul has scored less than 10.\n",
        "6. Find mean for Sachin's scores based on which quartile India's score falls in.\n",
        "7. For every match find out who has scored more - Sachin or Rahul.\n",
        "8. How many more runs does Sachin score on average after having scored x runs.\n",
        "9. How many matches did Sachin take to score the  first 1000 runs, next 1000 runs,...\n",
        "\n"
      ]
    },
    {
      "cell_type": "code",
      "metadata": {
        "colab": {
          "base_uri": "https://localhost:8080/"
        },
        "id": "sDf6ZPJBtvzS",
        "outputId": "fdb3fce6-5cb7-41c3-f401-17fcc3531991"
      },
      "source": [
        "runs = np.loadtxt('cric_data-200320-181217.tsv', skiprows=1, usecols=[1,2,3])\n",
        "runs"
      ],
      "execution_count": null,
      "outputs": [
        {
          "output_type": "execute_result",
          "data": {
            "text/plain": [
              "array([[100.,  78., 342.],\n",
              "       [ 11.,  62., 191.],\n",
              "       [  8.,  85., 252.],\n",
              "       [ 71.,  24., 307.],\n",
              "       [104.,  17., 229.],\n",
              "       [ 18., 104., 246.],\n",
              "       [  8.,  76., 226.],\n",
              "       [ 86.,  74., 288.],\n",
              "       [ 12.,  60., 216.],\n",
              "       [ 85.,  12., 224.],\n",
              "       [ 18.,  63., 161.],\n",
              "       [  4., 107., 276.],\n",
              "       [  7.,  76., 283.],\n",
              "       [ 37.,   4., 297.],\n",
              "       [ 14.,   5., 139.],\n",
              "       [  0.,  33., 224.],\n",
              "       [  4.,   7., 178.],\n",
              "       [  0.,   0.,   0.],\n",
              "       [ 21.,  36., 193.],\n",
              "       [  1.,  66., 231.],\n",
              "       [ 62.,   0., 134.],\n",
              "       [  0., 123., 246.],\n",
              "       [138.,  39., 299.],\n",
              "       [ 38.,   9., 242.],\n",
              "       [  2.,  11., 214.],\n",
              "       [ 46.,  14., 152.],\n",
              "       [ 65.,   0., 104.],\n",
              "       [  0.,   0.,   4.],\n",
              "       [ 39.,  26., 155.],\n",
              "       [ 48.,   4., 168.],\n",
              "       [141.,  48., 282.],\n",
              "       [ 62.,   7., 228.],\n",
              "       [ 12.,  73., 231.],\n",
              "       [  1.,  86., 238.],\n",
              "       [ 41.,  32., 255.],\n",
              "       [ 11.,  82., 273.],\n",
              "       [  3.,  25., 143.],\n",
              "       [186., 153., 345.],\n",
              "       [ 11.,  26., 134.],\n",
              "       [ 27.,   1., 292.],\n",
              "       [ 27.,   6., 299.],\n",
              "       [ 51.,   3., 233.],\n",
              "       [ 18.,   1., 332.],\n",
              "       [ 32.,  39., 276.],\n",
              "       [146.,  30., 264.],\n",
              "       [  5.,  32., 213.],\n",
              "       [ 45.,  84., 224.],\n",
              "       [141.,  36., 306.],\n",
              "       [ 12.,  31., 259.],\n",
              "       [ 65.,   0., 141.],\n",
              "       [ 27.,  47., 155.],\n",
              "       [  7.,  13., 183.],\n",
              "       [ 16.,  49., 309.],\n",
              "       [  2.,  28., 208.],\n",
              "       [ 28.,   0., 124.],\n",
              "       [  6.,  28., 208.],\n",
              "       [123.,  19., 305.],\n",
              "       [120.,  13., 273.],\n",
              "       [  7.,  14., 186.],\n",
              "       [  3.,  11., 163.],\n",
              "       [  0., 103., 239.],\n",
              "       [ 81.,  43., 274.],\n",
              "       [  2.,   5., 182.],\n",
              "       [ 54.,   5., 256.],\n",
              "       [122.,  15., 227.],\n",
              "       [  4.,   0., 157.],\n",
              "       [ 14.,   5., 353.],\n",
              "       [  0.,  30., 271.],\n",
              "       [100.,   4., 211.],\n",
              "       [ 15.,  53., 141.],\n",
              "       [  0.,  60., 243.],\n",
              "       [ 57.,   7., 499.],\n",
              "       [ 99.,  74., 229.],\n",
              "       [ 37.,  71., 234.],\n",
              "       [ 38.,  54., 259.],\n",
              "       [ 32.,  13., 242.],\n",
              "       [ 21.,  69., 223.],\n",
              "       [ 32.,  33., 184.],\n",
              "       [ 40.,  29., 125.],\n",
              "       [  0.,   2., 195.],\n",
              "       [  5.,   8., 154.],\n",
              "       [  8.,  36., 142.],\n",
              "       [  5.,  51., 197.],\n",
              "       [  0.,   8., 213.],\n",
              "       [ 50.,  62., 256.],\n",
              "       [ 30.,   0., 197.],\n",
              "       [ 37.,  22., 177.],\n",
              "       [ 89.,  39., 167.],\n",
              "       [  4., 104., 366.],\n",
              "       [ 98.,  44., 269.],\n",
              "       [ 83.,   1., 292.],\n",
              "       [ 93.,   2., 218.],\n",
              "       [  0.,   0.,   0.],\n",
              "       [ 52.,  17., 199.],\n",
              "       [152.,   0., 319.],\n",
              "       [  1.,  14., 245.],\n",
              "       [  8.,  62., 274.],\n",
              "       [ 93.,  15., 208.],\n",
              "       [ 45.,  68., 201.],\n",
              "       [ 26.,  17., 275.],\n",
              "       [  0.,   0., 134.],\n",
              "       [  1.,  22.,  68.],\n",
              "       [  0.,  25., 149.],\n",
              "       [ 16.,  29., 216.],\n",
              "       [ 47.,  60., 407.],\n",
              "       [ 89.,  34., 302.],\n",
              "       [  3.,  65., 197.],\n",
              "       [  1.,   3., 222.],\n",
              "       [ 53.,   7., 224.],\n",
              "       [ 16.,  16., 321.],\n",
              "       [  0.,   0.,   0.],\n",
              "       [ 81.,   4., 162.],\n",
              "       [ 14.,  53., 221.],\n",
              "       [ 78.,   5., 204.],\n",
              "       [  6.,  23., 213.],\n",
              "       [105.,  82., 286.],\n",
              "       [122.,   3., 272.],\n",
              "       [  9.,   0., 382.],\n",
              "       [  8.,  20., 229.],\n",
              "       [ 28.,  21., 175.],\n",
              "       [ 35.,  80., 360.],\n",
              "       [ 69.,  22., 256.],\n",
              "       [ 13.,   8., 165.],\n",
              "       [ 97.,  18., 335.],\n",
              "       [ 93.,  24., 188.],\n",
              "       [  2.,  50., 146.],\n",
              "       [ 36.,   1., 113.],\n",
              "       [ 39.,  42., 241.],\n",
              "       [  2.,  61., 211.],\n",
              "       [ 29.,   0., 225.],\n",
              "       [ 12.,   6.,  35.],\n",
              "       [ 19.,  64., 163.],\n",
              "       [ 34.,   9., 200.],\n",
              "       [  2.,  46., 176.],\n",
              "       [100.,   0., 269.],\n",
              "       [ 44.,   0., 284.],\n",
              "       [ 82.,   0., 175.],\n",
              "       [  0.,   0.,  27.],\n",
              "       [ 79.,  13., 282.],\n",
              "       [  6.,   0., 141.],\n",
              "       [  9.,  72., 229.],\n",
              "       [  8.,  12., 213.],\n",
              "       [ 23.,  38., 205.],\n",
              "       [ 93.,  79., 279.],\n",
              "       [ 35.,  18.,  88.],\n",
              "       [ 63.,  16., 284.],\n",
              "       [ 74.,  16., 207.],\n",
              "       [  8.,  56., 224.],\n",
              "       [117.,  21., 204.],\n",
              "       [ 39.,  58., 280.],\n",
              "       [ 49.,   8., 197.],\n",
              "       [ 64.,   0., 205.],\n",
              "       [ 43.,   0., 230.],\n",
              "       [ 72.,   7., 323.],\n",
              "       [  5.,  13., 209.],\n",
              "       [ 17.,  77., 210.],\n",
              "       [  0.,  29., 162.],\n",
              "       [ 65.,  20., 272.],\n",
              "       [ 20.,  90., 251.],\n",
              "       [141.,  26., 286.],\n",
              "       [ 28.,  54., 228.],\n",
              "       [ 44.,  17., 148.],\n",
              "       [ 27.,  78., 272.],\n",
              "       [ 60.,  57., 309.],\n",
              "       [ 68.,  59., 202.],\n",
              "       [  3.,  10., 136.],\n",
              "       [139.,  15., 281.],\n",
              "       [ 31.,  54., 314.],\n",
              "       [  2.,  52., 419.],\n",
              "       [ 44.,   9., 229.],\n",
              "       [ 47.,   0., 133.],\n",
              "       [  6.,  18., 228.],\n",
              "       [ 17.,   3., 143.],\n",
              "       [ 35.,   4., 116.],\n",
              "       [ 88.,   6., 194.],\n",
              "       [114.,  16., 249.],\n",
              "       [  7.,  71., 319.],\n",
              "       [127.,  64., 205.],\n",
              "       [  0.,   7., 191.],\n",
              "       [ 45.,  61., 213.],\n",
              "       [ 33.,   1., 104.],\n",
              "       [110.,   7., 210.],\n",
              "       [146.,   0., 392.],\n",
              "       [  7.,   0.,  57.],\n",
              "       [ 25.,  26., 213.],\n",
              "       [  9.,  19., 158.],\n",
              "       [  2.,  63., 163.],\n",
              "       [ 11.,   3., 166.],\n",
              "       [ 17.,  46., 164.],\n",
              "       [ 14.,  31., 238.],\n",
              "       [  1.,  12., 118.],\n",
              "       [ 45.,  49., 189.],\n",
              "       [ 94.,   4., 346.],\n",
              "       [ 28.,  99., 390.],\n",
              "       [  4.,  47., 319.],\n",
              "       [ 62.,  56., 276.],\n",
              "       [  1.,  73., 324.],\n",
              "       [  9.,  74., 213.],\n",
              "       [ 67.,  31., 207.],\n",
              "       [ 10.,  29., 158.],\n",
              "       [ 99.,  92., 304.],\n",
              "       [ 55.,   1., 199.],\n",
              "       [  0.,   0.,   0.],\n",
              "       [  1.,  30., 195.],\n",
              "       [101.,  16., 207.],\n",
              "       [  2., 145., 352.],\n",
              "       [  1.,  22., 225.],\n",
              "       [ 16.,  31., 236.],\n",
              "       [140., 104., 301.],\n",
              "       [ 23.,  20., 136.],\n",
              "       [113.,  13., 327.],\n",
              "       [ 10.,  52., 296.],\n",
              "       [  1.,  31., 176.],\n",
              "       [ 41.,  12., 201.],\n",
              "       [  1.,  50., 171.],\n",
              "       [ 28.,   3., 191.],\n",
              "       [  2.,   9.,  11.],\n",
              "       [ 22.,  53., 211.],\n",
              "       [ 29.,  49., 225.],\n",
              "       [  1.,  21., 290.],\n",
              "       [ 25.,  14., 101.],\n",
              "       [102.,  50., 470.],\n",
              "       [  0.,  22., 165.],\n",
              "       [ 27.,   0., 192.],\n",
              "       [ 40.,   0., 213.]])"
            ]
          },
          "metadata": {
            "tags": []
          },
          "execution_count": 51
        }
      ]
    },
    {
      "cell_type": "code",
      "metadata": {
        "colab": {
          "base_uri": "https://localhost:8080/"
        },
        "id": "PBrEGldlw0My",
        "outputId": "d4741703-4c35-4873-c2c5-f290b0e4036e"
      },
      "source": [
        "runs.shape"
      ],
      "execution_count": null,
      "outputs": [
        {
          "output_type": "execute_result",
          "data": {
            "text/plain": [
              "(225, 3)"
            ]
          },
          "metadata": {
            "tags": []
          },
          "execution_count": 52
        }
      ]
    },
    {
      "cell_type": "code",
      "metadata": {
        "colab": {
          "base_uri": "https://localhost:8080/"
        },
        "id": "so5UhG2GxZ3z",
        "outputId": "2c94d05d-8b37-4b3c-e174-93438945ce4d"
      },
      "source": [
        "#ques1\n",
        "iqr = np.percentile(runs, 75, axis=0) - np.percentile(runs, 25, axis=0)\n",
        "print(np.mean(runs, axis=0), np.median(runs, axis=0), iqr)"
      ],
      "execution_count": null,
      "outputs": [
        {
          "output_type": "stream",
          "text": [
            "[ 39.87555556  32.06222222 220.79555556] [ 27.  22. 216.] [57. 46. 98.]\n"
          ],
          "name": "stdout"
        }
      ]
    },
    {
      "cell_type": "code",
      "metadata": {
        "id": "iLIanjkN611y"
      },
      "source": [
        "#ques1 - Way 2\n",
        "def stats(col):\n",
        "  print(\"Mean: \", np.mean(col))\n",
        "  print(\"Median: \", np.median(col))\n",
        "  print(\"IQR: \", np.percentile(col, 75) - np.percentile(col, 25))"
      ],
      "execution_count": null,
      "outputs": []
    },
    {
      "cell_type": "code",
      "metadata": {
        "id": "VpnZNGeM7OSM"
      },
      "source": [
        "sachin = runs[:, 0]\n",
        "rahul = runs[:, 1]\n",
        "india = runs[:, 2]"
      ],
      "execution_count": null,
      "outputs": []
    },
    {
      "cell_type": "code",
      "metadata": {
        "colab": {
          "base_uri": "https://localhost:8080/"
        },
        "id": "p2U35Bwp7bx2",
        "outputId": "c631ae79-9ce9-41fd-8ee0-b0d5ffaf3236"
      },
      "source": [
        "stats(sachin)"
      ],
      "execution_count": null,
      "outputs": [
        {
          "output_type": "stream",
          "text": [
            "Mean:  39.87555555555556\n",
            "Median:  27.0\n",
            "IQR:  57.0\n"
          ],
          "name": "stdout"
        }
      ]
    },
    {
      "cell_type": "code",
      "metadata": {
        "colab": {
          "base_uri": "https://localhost:8080/"
        },
        "id": "GL4PZgQy7fIq",
        "outputId": "4dda1278-5a1d-4d83-94af-b6b78c691810"
      },
      "source": [
        "stats(rahul)"
      ],
      "execution_count": null,
      "outputs": [
        {
          "output_type": "stream",
          "text": [
            "Mean:  32.062222222222225\n",
            "Median:  22.0\n",
            "IQR:  46.0\n"
          ],
          "name": "stdout"
        }
      ]
    },
    {
      "cell_type": "code",
      "metadata": {
        "colab": {
          "base_uri": "https://localhost:8080/"
        },
        "id": "DrLqxgh57jCX",
        "outputId": "5aeaa4d9-e316-4d14-f80c-6b210f5ec2ae"
      },
      "source": [
        "stats(india)"
      ],
      "execution_count": null,
      "outputs": [
        {
          "output_type": "stream",
          "text": [
            "Mean:  220.79555555555555\n",
            "Median:  216.0\n",
            "IQR:  98.0\n"
          ],
          "name": "stdout"
        }
      ]
    },
    {
      "cell_type": "code",
      "metadata": {
        "colab": {
          "base_uri": "https://localhost:8080/"
        },
        "id": "4oIQFBz-yMhj",
        "outputId": "43f18338-e52b-4160-e69e-f0751e20a3d0"
      },
      "source": [
        "#ques2\n",
        "np.histogram(runs[:,0])"
      ],
      "execution_count": null,
      "outputs": [
        {
          "output_type": "execute_result",
          "data": {
            "text/plain": [
              "(array([99, 36, 28, 16, 11, 17,  8,  8,  1,  1]),\n",
              " array([  0. ,  18.6,  37.2,  55.8,  74.4,  93. , 111.6, 130.2, 148.8,\n",
              "        167.4, 186. ]))"
            ]
          },
          "metadata": {
            "tags": []
          },
          "execution_count": 61
        }
      ]
    },
    {
      "cell_type": "code",
      "metadata": {
        "colab": {
          "base_uri": "https://localhost:8080/"
        },
        "id": "B-mvN3sS1PwP",
        "outputId": "ebb0834f-b6d5-455a-b3d2-b4e5f896dab2"
      },
      "source": [
        "#ques3\n",
        "sac = runs[:,0]\n",
        "mean_ = []\n",
        "n = len(sac)\n",
        "i = 0\n",
        "while (i < n):\n",
        "  mean_.append(np.mean(sac[i:i+25]))\n",
        "  i += 25\n",
        "mean_"
      ],
      "execution_count": null,
      "outputs": [
        {
          "output_type": "execute_result",
          "data": {
            "text/plain": [
              "[33.96, 49.4, 38.48, 40.16, 39.36, 38.2, 44.6, 39.52, 35.2]"
            ]
          },
          "metadata": {
            "tags": []
          },
          "execution_count": 69
        }
      ]
    },
    {
      "cell_type": "code",
      "metadata": {
        "colab": {
          "base_uri": "https://localhost:8080/"
        },
        "id": "CggAYSsa7yfH",
        "outputId": "fefc9787-f90e-455e-9671-8c167bbc6a58"
      },
      "source": [
        "#ques3 - Way 2\n",
        "sachin25 = sac.reshape(9,25)\n",
        "np.mean(sachin25, axis=1)"
      ],
      "execution_count": null,
      "outputs": [
        {
          "output_type": "execute_result",
          "data": {
            "text/plain": [
              "array([33.96, 49.4 , 38.48, 40.16, 39.36, 38.2 , 44.6 , 39.52, 35.2 ])"
            ]
          },
          "metadata": {
            "tags": []
          },
          "execution_count": 80
        }
      ]
    },
    {
      "cell_type": "code",
      "metadata": {
        "colab": {
          "base_uri": "https://localhost:8080/"
        },
        "id": "uXU2ysv42k8W",
        "outputId": "b0fc0915-fd91-4317-d58b-c42289468581"
      },
      "source": [
        "#ques4\n",
        "century = sac[sac >= 100]\n",
        "np.mean(century)\n",
        "#print(century)"
      ],
      "execution_count": null,
      "outputs": [
        {
          "output_type": "execute_result",
          "data": {
            "text/plain": [
              "125.0"
            ]
          },
          "metadata": {
            "tags": []
          },
          "execution_count": 71
        }
      ]
    },
    {
      "cell_type": "code",
      "metadata": {
        "colab": {
          "base_uri": "https://localhost:8080/"
        },
        "id": "MF2tC-jh4x33",
        "outputId": "ef0f0e76-9442-4700-cf30-20859299db92"
      },
      "source": [
        "#ques5\n",
        "rah10 = runs[runs[:, 1] < 10]\n",
        "np.mean(rah10[:,0])\n",
        "\n",
        "#another way:   np.mean(sachin[rahul<10])"
      ],
      "execution_count": null,
      "outputs": [
        {
          "output_type": "execute_result",
          "data": {
            "text/plain": [
              "40.74285714285714"
            ]
          },
          "metadata": {
            "tags": []
          },
          "execution_count": 73
        }
      ]
    },
    {
      "cell_type": "code",
      "metadata": {
        "colab": {
          "base_uri": "https://localhost:8080/"
        },
        "id": "MU0uOR3a5Vd_",
        "outputId": "9c6b5795-369d-4531-c7c1-08e993816396"
      },
      "source": [
        "#ques6\n",
        "qrs = np.percentile(india, [25, 50, 75, 100])\n",
        "qrs"
      ],
      "execution_count": null,
      "outputs": [
        {
          "output_type": "execute_result",
          "data": {
            "text/plain": [
              "array([175., 216., 273., 499.])"
            ]
          },
          "metadata": {
            "tags": []
          },
          "execution_count": 81
        }
      ]
    },
    {
      "cell_type": "markdown",
      "metadata": {
        "id": "gSeC78uM9bg7"
      },
      "source": [
        "If 0 <= India < 175, Sachin's avg. ...\n",
        "\n",
        "If 175 <= India < 216, Sachin's avg. ...\n",
        "\n",
        "If 216 <= India < 273, Sachin's avg. ...\n",
        "\n",
        "If India >= 273, Sachin's avg. ... "
      ]
    },
    {
      "cell_type": "code",
      "metadata": {
        "colab": {
          "base_uri": "https://localhost:8080/"
        },
        "id": "m7Hi0snS9Ve4",
        "outputId": "6cd99ecc-f13e-4390-c1e0-71e2c5cd3ce5"
      },
      "source": [
        "india.shape"
      ],
      "execution_count": null,
      "outputs": [
        {
          "output_type": "execute_result",
          "data": {
            "text/plain": [
              "(225,)"
            ]
          },
          "metadata": {
            "tags": []
          },
          "execution_count": 82
        }
      ]
    },
    {
      "cell_type": "code",
      "metadata": {
        "colab": {
          "base_uri": "https://localhost:8080/"
        },
        "id": "Ex-U0_j8Amif",
        "outputId": "82bc9d56-46ed-4ed7-8dac-fe8a9de16dfc"
      },
      "source": [
        "qrs.shape"
      ],
      "execution_count": null,
      "outputs": [
        {
          "output_type": "execute_result",
          "data": {
            "text/plain": [
              "(4,)"
            ]
          },
          "metadata": {
            "tags": []
          },
          "execution_count": 83
        }
      ]
    },
    {
      "cell_type": "code",
      "metadata": {
        "id": "8TlBSj_WA6pR"
      },
      "source": [
        "qrs = qrs.reshape(4, 1)"
      ],
      "execution_count": null,
      "outputs": []
    },
    {
      "cell_type": "code",
      "metadata": {
        "id": "zGnDiCuuA-kn"
      },
      "source": [
        "indices = india < qrs"
      ],
      "execution_count": null,
      "outputs": []
    },
    {
      "cell_type": "code",
      "metadata": {
        "colab": {
          "base_uri": "https://localhost:8080/"
        },
        "id": "_MKWuKzsBGZ7",
        "outputId": "6a25e897-8bf8-40b9-ab65-c75f67367ccd"
      },
      "source": [
        "indices.shape    #4 rows with all India value telling true/false"
      ],
      "execution_count": null,
      "outputs": [
        {
          "output_type": "execute_result",
          "data": {
            "text/plain": [
              "(4, 225)"
            ]
          },
          "metadata": {
            "tags": []
          },
          "execution_count": 91
        }
      ]
    },
    {
      "cell_type": "code",
      "metadata": {
        "colab": {
          "base_uri": "https://localhost:8080/"
        },
        "id": "Dnh15ZPbB5UL",
        "outputId": "1af5cc2c-5dd6-49ca-8cf9-b1ae8258ca51"
      },
      "source": [
        "sachin[indices[0, :]]   #gives score of sachin in first quartile\n",
        "#We need to find mean of scores in all quartiles"
      ],
      "execution_count": null,
      "outputs": [
        {
          "output_type": "execute_result",
          "data": {
            "text/plain": [
              "array([18., 14.,  0., 62., 46., 65.,  0., 39., 48.,  3., 11., 65., 27.,\n",
              "       28.,  3.,  4., 15., 40.,  5.,  8., 89.,  0.,  0.,  1.,  0.,  0.,\n",
              "       81., 13.,  2., 36., 12., 19.,  0.,  6., 35.,  0., 44.,  3., 47.,\n",
              "       17., 35., 33.,  7.,  9.,  2., 11., 17.,  1., 10.,  0., 23.,  1.,\n",
              "        2., 25.,  0.])"
            ]
          },
          "metadata": {
            "tags": []
          },
          "execution_count": 92
        }
      ]
    },
    {
      "cell_type": "code",
      "metadata": {
        "colab": {
          "base_uri": "https://localhost:8080/"
        },
        "id": "NL_jJwvqCatG",
        "outputId": "3bce3e0b-0c6e-47c3-827e-4f6caa166601"
      },
      "source": [
        "for i in range(4):\n",
        "  print(i, np.mean(sachin[indices[i, :]]))"
      ],
      "execution_count": null,
      "outputs": [
        {
          "output_type": "stream",
          "text": [
            "0 19.672727272727272\n",
            "1 28.18018018018018\n",
            "2 31.688622754491018\n",
            "3 39.799107142857146\n"
          ],
          "name": "stdout"
        }
      ]
    },
    {
      "cell_type": "code",
      "metadata": {
        "colab": {
          "base_uri": "https://localhost:8080/"
        },
        "id": "9U5SkQ60CrlD",
        "outputId": "c0d7d0ef-cd4e-4ead-b8bf-948d4b713914"
      },
      "source": [
        "#ques7\n",
        "np.where(sachin > rahul, 'Sachin', 'Rahul')"
      ],
      "execution_count": null,
      "outputs": [
        {
          "output_type": "execute_result",
          "data": {
            "text/plain": [
              "array(['Sachin', 'Rahul', 'Rahul', 'Sachin', 'Sachin', 'Rahul', 'Rahul',\n",
              "       'Sachin', 'Rahul', 'Sachin', 'Rahul', 'Rahul', 'Rahul', 'Sachin',\n",
              "       'Sachin', 'Rahul', 'Rahul', 'Rahul', 'Rahul', 'Rahul', 'Sachin',\n",
              "       'Rahul', 'Sachin', 'Sachin', 'Rahul', 'Sachin', 'Sachin', 'Rahul',\n",
              "       'Sachin', 'Sachin', 'Sachin', 'Sachin', 'Rahul', 'Rahul', 'Sachin',\n",
              "       'Rahul', 'Rahul', 'Sachin', 'Rahul', 'Sachin', 'Sachin', 'Sachin',\n",
              "       'Sachin', 'Rahul', 'Sachin', 'Rahul', 'Rahul', 'Sachin', 'Rahul',\n",
              "       'Sachin', 'Rahul', 'Rahul', 'Rahul', 'Rahul', 'Sachin', 'Rahul',\n",
              "       'Sachin', 'Sachin', 'Rahul', 'Rahul', 'Rahul', 'Sachin', 'Rahul',\n",
              "       'Sachin', 'Sachin', 'Sachin', 'Sachin', 'Rahul', 'Sachin', 'Rahul',\n",
              "       'Rahul', 'Sachin', 'Sachin', 'Rahul', 'Rahul', 'Sachin', 'Rahul',\n",
              "       'Rahul', 'Sachin', 'Rahul', 'Rahul', 'Rahul', 'Rahul', 'Rahul',\n",
              "       'Rahul', 'Sachin', 'Sachin', 'Sachin', 'Rahul', 'Sachin', 'Sachin',\n",
              "       'Sachin', 'Rahul', 'Sachin', 'Sachin', 'Rahul', 'Rahul', 'Sachin',\n",
              "       'Rahul', 'Sachin', 'Rahul', 'Rahul', 'Rahul', 'Rahul', 'Rahul',\n",
              "       'Sachin', 'Rahul', 'Rahul', 'Sachin', 'Rahul', 'Rahul', 'Sachin',\n",
              "       'Rahul', 'Sachin', 'Rahul', 'Sachin', 'Sachin', 'Sachin', 'Rahul',\n",
              "       'Sachin', 'Rahul', 'Sachin', 'Sachin', 'Sachin', 'Sachin', 'Rahul',\n",
              "       'Sachin', 'Rahul', 'Rahul', 'Sachin', 'Sachin', 'Rahul', 'Sachin',\n",
              "       'Rahul', 'Sachin', 'Sachin', 'Sachin', 'Rahul', 'Sachin', 'Sachin',\n",
              "       'Rahul', 'Rahul', 'Rahul', 'Sachin', 'Sachin', 'Sachin', 'Sachin',\n",
              "       'Rahul', 'Sachin', 'Rahul', 'Sachin', 'Sachin', 'Sachin', 'Sachin',\n",
              "       'Rahul', 'Rahul', 'Rahul', 'Sachin', 'Rahul', 'Sachin', 'Rahul',\n",
              "       'Sachin', 'Rahul', 'Sachin', 'Sachin', 'Rahul', 'Sachin', 'Rahul',\n",
              "       'Rahul', 'Sachin', 'Sachin', 'Rahul', 'Sachin', 'Sachin', 'Sachin',\n",
              "       'Sachin', 'Rahul', 'Sachin', 'Rahul', 'Rahul', 'Sachin', 'Sachin',\n",
              "       'Sachin', 'Sachin', 'Rahul', 'Rahul', 'Rahul', 'Sachin', 'Rahul',\n",
              "       'Rahul', 'Rahul', 'Rahul', 'Sachin', 'Rahul', 'Rahul', 'Sachin',\n",
              "       'Rahul', 'Rahul', 'Sachin', 'Rahul', 'Sachin', 'Sachin', 'Rahul',\n",
              "       'Rahul', 'Sachin', 'Rahul', 'Rahul', 'Rahul', 'Sachin', 'Sachin',\n",
              "       'Sachin', 'Rahul', 'Rahul', 'Sachin', 'Rahul', 'Sachin', 'Rahul',\n",
              "       'Rahul', 'Rahul', 'Rahul', 'Sachin', 'Sachin', 'Rahul', 'Sachin',\n",
              "       'Sachin'], dtype='<U6')"
            ]
          },
          "metadata": {
            "tags": []
          },
          "execution_count": 98
        }
      ]
    },
    {
      "cell_type": "code",
      "metadata": {
        "id": "2asL35QlC_DO"
      },
      "source": [
        "#ques8\n",
        "x_arr = np.arange(0, 101, 5)  #values of x for which we want to check"
      ],
      "execution_count": null,
      "outputs": []
    },
    {
      "cell_type": "code",
      "metadata": {
        "id": "6xgGIbw7HEGU"
      },
      "source": [
        "x_arr = x_arr.reshape(x_arr.shape[0], 1)"
      ],
      "execution_count": null,
      "outputs": []
    },
    {
      "cell_type": "code",
      "metadata": {
        "id": "yGO7NBZVHT5B"
      },
      "source": [
        "indices = (sachin >= x_arr) "
      ],
      "execution_count": null,
      "outputs": []
    },
    {
      "cell_type": "code",
      "metadata": {
        "colab": {
          "base_uri": "https://localhost:8080/"
        },
        "id": "Rqo82ab6HgDe",
        "outputId": "920a0bd6-55e7-4ec6-8cea-c781598e8f72"
      },
      "source": [
        "indices.shape"
      ],
      "execution_count": null,
      "outputs": [
        {
          "output_type": "execute_result",
          "data": {
            "text/plain": [
              "(21, 225)"
            ]
          },
          "metadata": {
            "tags": []
          },
          "execution_count": 110
        }
      ]
    },
    {
      "cell_type": "code",
      "metadata": {
        "colab": {
          "base_uri": "https://localhost:8080/"
        },
        "id": "UY0KFc34Hi8f",
        "outputId": "1772d5aa-1242-4117-b9e3-12265f8474cb"
      },
      "source": [
        "sachin[indices[1, :]]  #run of Sachin > 5"
      ],
      "execution_count": null,
      "outputs": [
        {
          "output_type": "execute_result",
          "data": {
            "text/plain": [
              "array([100.,  11.,   8.,  71., 104.,  18.,   8.,  86.,  12.,  85.,  18.,\n",
              "         7.,  37.,  14.,  21.,  62., 138.,  38.,  46.,  65.,  39.,  48.,\n",
              "       141.,  62.,  12.,  41.,  11., 186.,  11.,  27.,  27.,  51.,  18.,\n",
              "        32., 146.,   5.,  45., 141.,  12.,  65.,  27.,   7.,  16.,  28.,\n",
              "         6., 123., 120.,   7.,  81.,  54., 122.,  14., 100.,  15.,  57.,\n",
              "        99.,  37.,  38.,  32.,  21.,  32.,  40.,   5.,   8.,   5.,  50.,\n",
              "        30.,  37.,  89.,  98.,  83.,  93.,  52., 152.,   8.,  93.,  45.,\n",
              "        26.,  16.,  47.,  89.,  53.,  16.,  81.,  14.,  78.,   6., 105.,\n",
              "       122.,   9.,   8.,  28.,  35.,  69.,  13.,  97.,  93.,  36.,  39.,\n",
              "        29.,  12.,  19.,  34., 100.,  44.,  82.,  79.,   6.,   9.,   8.,\n",
              "        23.,  93.,  35.,  63.,  74.,   8., 117.,  39.,  49.,  64.,  43.,\n",
              "        72.,   5.,  17.,  65.,  20., 141.,  28.,  44.,  27.,  60.,  68.,\n",
              "       139.,  31.,  44.,  47.,   6.,  17.,  35.,  88., 114.,   7., 127.,\n",
              "        45.,  33., 110., 146.,   7.,  25.,   9.,  11.,  17.,  14.,  45.,\n",
              "        94.,  28.,  62.,   9.,  67.,  10.,  99.,  55., 101.,  16., 140.,\n",
              "        23., 113.,  10.,  41.,  28.,  22.,  29.,  25., 102.,  27.,  40.])"
            ]
          },
          "metadata": {
            "tags": []
          },
          "execution_count": 111
        }
      ]
    },
    {
      "cell_type": "code",
      "metadata": {
        "colab": {
          "base_uri": "https://localhost:8080/"
        },
        "id": "lCKtI492H0RM",
        "outputId": "cca19463-fa5b-41fe-e9e6-4c7d35f621b6"
      },
      "source": [
        "for i in range(x_arr.shape[0]):\n",
        "  print(x_arr[i, 0], np.mean(sachin[indices[i, :]]) - x_arr[i, 0])   \n",
        "  #subtracted x_arr[i] from mean to find MORE runs instead of TOTAL runs"
      ],
      "execution_count": null,
      "outputs": [
        {
          "output_type": "stream",
          "text": [
            "0 39.87555555555556\n",
            "5 45.61363636363637\n",
            "10 47.48026315789474\n",
            "15 47.45255474452555\n",
            "20 46.824\n",
            "25 44.10084033613445\n",
            "30 45.13461538461539\n",
            "35 43.24742268041237\n",
            "40 44.05882352941177\n",
            "45 43.41558441558442\n",
            "50 43.98529411764706\n",
            "55 42.317460317460316\n",
            "60 38.67213114754098\n",
            "65 37.654545454545456\n",
            "70 37.08163265306122\n",
            "75 34.347826086956516\n",
            "80 30.75\n",
            "85 28.650000000000006\n",
            "90 27.400000000000006\n",
            "95 26.433333333333337\n",
            "100 25.0\n"
          ],
          "name": "stdout"
        }
      ]
    },
    {
      "cell_type": "code",
      "metadata": {
        "colab": {
          "base_uri": "https://localhost:8080/"
        },
        "id": "vmfYkP0DIRNl",
        "outputId": "f76d1680-f7be-48cb-848f-25cfe8b040b7"
      },
      "source": [
        "#ques9\n",
        "s_cumsum = np.cumsum(sachin)\n",
        "s_cumsum"
      ],
      "execution_count": null,
      "outputs": [
        {
          "output_type": "execute_result",
          "data": {
            "text/plain": [
              "array([ 100.,  111.,  119.,  190.,  294.,  312.,  320.,  406.,  418.,\n",
              "        503.,  521.,  525.,  532.,  569.,  583.,  583.,  587.,  587.,\n",
              "        608.,  609.,  671.,  671.,  809.,  847.,  849.,  895.,  960.,\n",
              "        960.,  999., 1047., 1188., 1250., 1262., 1263., 1304., 1315.,\n",
              "       1318., 1504., 1515., 1542., 1569., 1620., 1638., 1670., 1816.,\n",
              "       1821., 1866., 2007., 2019., 2084., 2111., 2118., 2134., 2136.,\n",
              "       2164., 2170., 2293., 2413., 2420., 2423., 2423., 2504., 2506.,\n",
              "       2560., 2682., 2686., 2700., 2700., 2800., 2815., 2815., 2872.,\n",
              "       2971., 3008., 3046., 3078., 3099., 3131., 3171., 3171., 3176.,\n",
              "       3184., 3189., 3189., 3239., 3269., 3306., 3395., 3399., 3497.,\n",
              "       3580., 3673., 3673., 3725., 3877., 3878., 3886., 3979., 4024.,\n",
              "       4050., 4050., 4051., 4051., 4067., 4114., 4203., 4206., 4207.,\n",
              "       4260., 4276., 4276., 4357., 4371., 4449., 4455., 4560., 4682.,\n",
              "       4691., 4699., 4727., 4762., 4831., 4844., 4941., 5034., 5036.,\n",
              "       5072., 5111., 5113., 5142., 5154., 5173., 5207., 5209., 5309.,\n",
              "       5353., 5435., 5435., 5514., 5520., 5529., 5537., 5560., 5653.,\n",
              "       5688., 5751., 5825., 5833., 5950., 5989., 6038., 6102., 6145.,\n",
              "       6217., 6222., 6239., 6239., 6304., 6324., 6465., 6493., 6537.,\n",
              "       6564., 6624., 6692., 6695., 6834., 6865., 6867., 6911., 6958.,\n",
              "       6964., 6981., 7016., 7104., 7218., 7225., 7352., 7352., 7397.,\n",
              "       7430., 7540., 7686., 7693., 7718., 7727., 7729., 7740., 7757.,\n",
              "       7771., 7772., 7817., 7911., 7939., 7943., 8005., 8006., 8015.,\n",
              "       8082., 8092., 8191., 8246., 8246., 8247., 8348., 8350., 8351.,\n",
              "       8367., 8507., 8530., 8643., 8653., 8654., 8695., 8696., 8724.,\n",
              "       8726., 8748., 8777., 8778., 8803., 8905., 8905., 8932., 8972.])"
            ]
          },
          "metadata": {
            "tags": []
          },
          "execution_count": 114
        }
      ]
    },
    {
      "cell_type": "code",
      "metadata": {
        "colab": {
          "base_uri": "https://localhost:8080/"
        },
        "id": "eHbXr9b9N37j",
        "outputId": "5cc172ce-8f3b-48c3-fae4-bbf5b49c6c8c"
      },
      "source": [
        "np.histogram(s_cumsum, bins=np.arange(0, 10000, 1000))  #bins of 1000 range\n",
        "#first array gives no of matches"
      ],
      "execution_count": null,
      "outputs": [
        {
          "output_type": "execute_result",
          "data": {
            "text/plain": [
              "(array([29, 18, 26, 25, 26, 26, 23, 22, 30]),\n",
              " array([   0, 1000, 2000, 3000, 4000, 5000, 6000, 7000, 8000, 9000]))"
            ]
          },
          "metadata": {
            "tags": []
          },
          "execution_count": 115
        }
      ]
    }
  ]
}