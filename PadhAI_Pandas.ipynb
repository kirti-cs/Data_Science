{
  "nbformat": 4,
  "nbformat_minor": 0,
  "metadata": {
    "colab": {
      "name": "PadhAI_Pandas.ipynb",
      "provenance": [],
      "authorship_tag": "ABX9TyPqVPaZPFbOn5Cz/L4nvzvm"
    },
    "kernelspec": {
      "name": "python3",
      "display_name": "Python 3"
    },
    "language_info": {
      "name": "python"
    }
  },
  "cells": [
    {
      "cell_type": "markdown",
      "metadata": {
        "id": "pKMz50iK_ULA"
      },
      "source": [
        "#Pandas\n",
        "\n",
        "NumPy is *missing features* to enable data analysis on relational data like:\n",
        "\n",
        "\n",
        "1.   No way to attach **labels** to data\n",
        "2.   No pre-built methods to **fill missing values**\n",
        "3.   No way to **group data**\n",
        "4.   No way to **pivot data**\n",
        "\n",
        "Pandas is built on top of NumPy to make data processing on relational data easier.\n"
      ]
    },
    {
      "cell_type": "code",
      "metadata": {
        "id": "8YBd2DTO-Ytm"
      },
      "source": [
        "import numpy as np\n",
        "import pandas as pd"
      ],
      "execution_count": null,
      "outputs": []
    },
    {
      "cell_type": "markdown",
      "metadata": {
        "id": "95a3mYfzBbEd"
      },
      "source": [
        "#Creating Series Object"
      ]
    },
    {
      "cell_type": "code",
      "metadata": {
        "colab": {
          "base_uri": "https://localhost:8080/"
        },
        "id": "x9FMbTimBaZi",
        "outputId": "3c259429-6122-4583-d646-4b9fe299b3ca"
      },
      "source": [
        "s = pd.Series([0, 1, 1, 2, 3, 5, 8])\n",
        "print(s)   #first col is automatically implicitly created index"
      ],
      "execution_count": null,
      "outputs": [
        {
          "output_type": "stream",
          "text": [
            "0    0\n",
            "1    1\n",
            "2    1\n",
            "3    2\n",
            "4    3\n",
            "5    5\n",
            "6    8\n",
            "dtype: int64\n"
          ],
          "name": "stdout"
        }
      ]
    },
    {
      "cell_type": "code",
      "metadata": {
        "colab": {
          "base_uri": "https://localhost:8080/"
        },
        "id": "WGmJsl95Bn55",
        "outputId": "3a014686-4a83-4e62-d77a-da85e574f342"
      },
      "source": [
        " s = pd.Series([0.0, 1, 1, 2, 3, 5, 8])  #making it float type\n",
        " s"
      ],
      "execution_count": null,
      "outputs": [
        {
          "output_type": "execute_result",
          "data": {
            "text/plain": [
              "0    0.0\n",
              "1    1.0\n",
              "2    1.0\n",
              "3    2.0\n",
              "4    3.0\n",
              "5    5.0\n",
              "6    8.0\n",
              "dtype: float64"
            ]
          },
          "metadata": {
            "tags": []
          },
          "execution_count": 3
        }
      ]
    },
    {
      "cell_type": "code",
      "metadata": {
        "colab": {
          "base_uri": "https://localhost:8080/"
        },
        "id": "i6-6OIYSB6dC",
        "outputId": "a5e3c5bc-f24c-463b-b52c-91019a17dff9"
      },
      "source": [
        "s.values"
      ],
      "execution_count": null,
      "outputs": [
        {
          "output_type": "execute_result",
          "data": {
            "text/plain": [
              "array([0., 1., 1., 2., 3., 5., 8.])"
            ]
          },
          "metadata": {
            "tags": []
          },
          "execution_count": 4
        }
      ]
    },
    {
      "cell_type": "code",
      "metadata": {
        "colab": {
          "base_uri": "https://localhost:8080/"
        },
        "id": "hc8A8aC2B-8e",
        "outputId": "d6d31a83-11c5-41ce-de9f-a49bcd4dab7f"
      },
      "source": [
        "s.index"
      ],
      "execution_count": null,
      "outputs": [
        {
          "output_type": "execute_result",
          "data": {
            "text/plain": [
              "RangeIndex(start=0, stop=7, step=1)"
            ]
          },
          "metadata": {
            "tags": []
          },
          "execution_count": 5
        }
      ]
    },
    {
      "cell_type": "code",
      "metadata": {
        "colab": {
          "base_uri": "https://localhost:8080/"
        },
        "id": "SSjrO7RhCAAl",
        "outputId": "9e946c78-4b76-4d90-c428-f6224df1c20f"
      },
      "source": [
        "for v in s.values:\n",
        "  print(v)"
      ],
      "execution_count": null,
      "outputs": [
        {
          "output_type": "stream",
          "text": [
            "0.0\n",
            "1.0\n",
            "1.0\n",
            "2.0\n",
            "3.0\n",
            "5.0\n",
            "8.0\n"
          ],
          "name": "stdout"
        }
      ]
    },
    {
      "cell_type": "code",
      "metadata": {
        "colab": {
          "base_uri": "https://localhost:8080/"
        },
        "id": "aj7D4OSuCGXZ",
        "outputId": "c8074628-780e-47df-e607-a55ebe10ec1f"
      },
      "source": [
        "for i in s.index:\n",
        "  print(i)"
      ],
      "execution_count": null,
      "outputs": [
        {
          "output_type": "stream",
          "text": [
            "0\n",
            "1\n",
            "2\n",
            "3\n",
            "4\n",
            "5\n",
            "6\n"
          ],
          "name": "stdout"
        }
      ]
    },
    {
      "cell_type": "code",
      "metadata": {
        "colab": {
          "base_uri": "https://localhost:8080/"
        },
        "id": "X0P1GfsCCMl5",
        "outputId": "ee7fb971-70d3-4587-d326-dbb25d45f25e"
      },
      "source": [
        "for item in zip(s.index, s.values):\n",
        "  print(item)"
      ],
      "execution_count": null,
      "outputs": [
        {
          "output_type": "stream",
          "text": [
            "(0, 0.0)\n",
            "(1, 1.0)\n",
            "(2, 1.0)\n",
            "(3, 2.0)\n",
            "(4, 3.0)\n",
            "(5, 5.0)\n",
            "(6, 8.0)\n"
          ],
          "name": "stdout"
        }
      ]
    },
    {
      "cell_type": "code",
      "metadata": {
        "colab": {
          "base_uri": "https://localhost:8080/"
        },
        "id": "aBAd4k0-CS3k",
        "outputId": "dea877a8-3369-4a9b-d939-55b2f702e611"
      },
      "source": [
        "s[4]"
      ],
      "execution_count": null,
      "outputs": [
        {
          "output_type": "execute_result",
          "data": {
            "text/plain": [
              "3.0"
            ]
          },
          "metadata": {
            "tags": []
          },
          "execution_count": 10
        }
      ]
    },
    {
      "cell_type": "code",
      "metadata": {
        "colab": {
          "base_uri": "https://localhost:8080/"
        },
        "id": "c64WEOtjCVH6",
        "outputId": "0b9c06ea-0689-4871-84ad-da5ad175fd23"
      },
      "source": [
        "mars = pd.Series([0.33, 57.9, 4222.6], index= ['Mass', 'Diameter', 'DayLength'])   #explicit indexing\n",
        "#there is a mistake, it is all of mercury than mars\n",
        "mars"
      ],
      "execution_count": null,
      "outputs": [
        {
          "output_type": "execute_result",
          "data": {
            "text/plain": [
              "Mass            0.33\n",
              "Diameter       57.90\n",
              "DayLength    4222.60\n",
              "dtype: float64"
            ]
          },
          "metadata": {
            "tags": []
          },
          "execution_count": 11
        }
      ]
    },
    {
      "cell_type": "code",
      "metadata": {
        "colab": {
          "base_uri": "https://localhost:8080/"
        },
        "id": "gsIeLGdVCqgU",
        "outputId": "f3e0fb02-5f41-42fa-8030-428c10a0a99b"
      },
      "source": [
        "mars['Mass']     #not a good way"
      ],
      "execution_count": null,
      "outputs": [
        {
          "output_type": "execute_result",
          "data": {
            "text/plain": [
              "0.33"
            ]
          },
          "metadata": {
            "tags": []
          },
          "execution_count": 12
        }
      ]
    },
    {
      "cell_type": "code",
      "metadata": {
        "colab": {
          "base_uri": "https://localhost:8080/"
        },
        "id": "NNoh6sRVC0Df",
        "outputId": "682a088c-806a-416c-c286-e049a06ecce6"
      },
      "source": [
        "mars.Mass    #not a good way either"
      ],
      "execution_count": null,
      "outputs": [
        {
          "output_type": "execute_result",
          "data": {
            "text/plain": [
              "0.33"
            ]
          },
          "metadata": {
            "tags": []
          },
          "execution_count": 13
        }
      ]
    },
    {
      "cell_type": "code",
      "metadata": {
        "colab": {
          "base_uri": "https://localhost:8080/"
        },
        "id": "ZFw_C47zC2tK",
        "outputId": "a9d20066-0960-4cad-80f5-1dc88185f44e"
      },
      "source": [
        "arr = np.random.randint(0, 10, 10)\n",
        "arr"
      ],
      "execution_count": null,
      "outputs": [
        {
          "output_type": "execute_result",
          "data": {
            "text/plain": [
              "array([4, 9, 0, 8, 0, 0, 2, 5, 5, 8])"
            ]
          },
          "metadata": {
            "tags": []
          },
          "execution_count": 14
        }
      ]
    },
    {
      "cell_type": "code",
      "metadata": {
        "id": "2Js-Gy-2DHd-"
      },
      "source": [
        "ind = np.arange(10, 20)"
      ],
      "execution_count": null,
      "outputs": []
    },
    {
      "cell_type": "code",
      "metadata": {
        "colab": {
          "base_uri": "https://localhost:8080/"
        },
        "id": "IUkqK7dgDBEH",
        "outputId": "9b618a44-2d28-4b2d-930a-4576e1cc48aa"
      },
      "source": [
        "rand_series = pd.Series(arr, index= ind)\n",
        "rand_series"
      ],
      "execution_count": null,
      "outputs": [
        {
          "output_type": "execute_result",
          "data": {
            "text/plain": [
              "10    4\n",
              "11    9\n",
              "12    0\n",
              "13    8\n",
              "14    0\n",
              "15    0\n",
              "16    2\n",
              "17    5\n",
              "18    5\n",
              "19    8\n",
              "dtype: int64"
            ]
          },
          "metadata": {
            "tags": []
          },
          "execution_count": 17
        }
      ]
    },
    {
      "cell_type": "code",
      "metadata": {
        "colab": {
          "base_uri": "https://localhost:8080/"
        },
        "id": "CAJTpnZiDUki",
        "outputId": "c51fce1e-b1a5-40ab-ada7-91fa2ac22901"
      },
      "source": [
        "d= {}\n",
        "d['Mass'] = 0.33\n",
        "d['Diameter'] = 57.9\n",
        "d['DayLight'] = 4222.6\n",
        "d"
      ],
      "execution_count": null,
      "outputs": [
        {
          "output_type": "execute_result",
          "data": {
            "text/plain": [
              "{'DayLight': 4222.6, 'Diameter': 57.9, 'Mass': 0.33}"
            ]
          },
          "metadata": {
            "tags": []
          },
          "execution_count": 18
        }
      ]
    },
    {
      "cell_type": "code",
      "metadata": {
        "colab": {
          "base_uri": "https://localhost:8080/"
        },
        "id": "MfspUqqvDne-",
        "outputId": "284dd009-b763-445e-e118-b9aa0bc57a19"
      },
      "source": [
        "mars = pd.Series(d)\n",
        "mars"
      ],
      "execution_count": null,
      "outputs": [
        {
          "output_type": "execute_result",
          "data": {
            "text/plain": [
              "Mass           0.33\n",
              "Diameter      57.90\n",
              "DayLight    4222.60\n",
              "dtype: float64"
            ]
          },
          "metadata": {
            "tags": []
          },
          "execution_count": 19
        }
      ]
    },
    {
      "cell_type": "code",
      "metadata": {
        "colab": {
          "base_uri": "https://localhost:8080/"
        },
        "id": "hWNF2nleD3br",
        "outputId": "115ebbb0-604d-4d94-c36b-ea36b5e876c8"
      },
      "source": [
        "mars = pd.Series(d, index= ['Mass', 'Diameter']) #it will filter only those index from the dict which are mentioned here\n",
        "mars"
      ],
      "execution_count": null,
      "outputs": [
        {
          "output_type": "execute_result",
          "data": {
            "text/plain": [
              "Mass         0.33\n",
              "Diameter    57.90\n",
              "dtype: float64"
            ]
          },
          "metadata": {
            "tags": []
          },
          "execution_count": 20
        }
      ]
    },
    {
      "cell_type": "markdown",
      "metadata": {
        "id": "gWShQfu5EsM1"
      },
      "source": [
        "##iLoc and Loc"
      ]
    },
    {
      "cell_type": "code",
      "metadata": {
        "colab": {
          "base_uri": "https://localhost:8080/"
        },
        "id": "ETEKDoVsEOgx",
        "outputId": "d4551a44-4107-4187-a676-97471bdfdbbc"
      },
      "source": [
        "s = pd.Series([0, 1, 1, 2, 3, 5, 8], index = [1, 2, 3, 4, 5, 6, 7])\n",
        "s"
      ],
      "execution_count": null,
      "outputs": [
        {
          "output_type": "execute_result",
          "data": {
            "text/plain": [
              "1    0\n",
              "2    1\n",
              "3    1\n",
              "4    2\n",
              "5    3\n",
              "6    5\n",
              "7    8\n",
              "dtype: int64"
            ]
          },
          "metadata": {
            "tags": []
          },
          "execution_count": 21
        }
      ]
    },
    {
      "cell_type": "code",
      "metadata": {
        "colab": {
          "base_uri": "https://localhost:8080/"
        },
        "id": "wURyF-YwE4v-",
        "outputId": "810abdd7-1036-4d24-d106-a3a3f9a74c49"
      },
      "source": [
        "s.loc[4]  #it will return value from explicit indexing"
      ],
      "execution_count": null,
      "outputs": [
        {
          "output_type": "execute_result",
          "data": {
            "text/plain": [
              "2"
            ]
          },
          "metadata": {
            "tags": []
          },
          "execution_count": 22
        }
      ]
    },
    {
      "cell_type": "code",
      "metadata": {
        "colab": {
          "base_uri": "https://localhost:8080/"
        },
        "id": "2Ink32OiKoaV",
        "outputId": "bf5f7be5-6956-4834-a8a5-5a22281d5bb3"
      },
      "source": [
        "s.iloc[4]  #it will return value from implicit indexing\n",
        "\n",
        "#loc/iloc is better way than using s[i] or s.i"
      ],
      "execution_count": null,
      "outputs": [
        {
          "output_type": "execute_result",
          "data": {
            "text/plain": [
              "3"
            ]
          },
          "metadata": {
            "tags": []
          },
          "execution_count": 23
        }
      ]
    },
    {
      "cell_type": "code",
      "metadata": {
        "colab": {
          "base_uri": "https://localhost:8080/"
        },
        "id": "LtHkAKP9Kum5",
        "outputId": "e06f39b6-c1c8-4156-8393-b28a14d3f7b6"
      },
      "source": [
        "mars.loc['Mass']"
      ],
      "execution_count": null,
      "outputs": [
        {
          "output_type": "execute_result",
          "data": {
            "text/plain": [
              "0.33"
            ]
          },
          "metadata": {
            "tags": []
          },
          "execution_count": 24
        }
      ]
    },
    {
      "cell_type": "code",
      "metadata": {
        "colab": {
          "base_uri": "https://localhost:8080/"
        },
        "id": "A11LiOtELg24",
        "outputId": "e75fa683-9a4d-449e-fc7d-ea9471685f6f"
      },
      "source": [
        "mars.iloc[0]"
      ],
      "execution_count": null,
      "outputs": [
        {
          "output_type": "execute_result",
          "data": {
            "text/plain": [
              "0.33"
            ]
          },
          "metadata": {
            "tags": []
          },
          "execution_count": 25
        }
      ]
    },
    {
      "cell_type": "code",
      "metadata": {
        "colab": {
          "base_uri": "https://localhost:8080/"
        },
        "id": "yHBmASC_LjYm",
        "outputId": "1a67c095-3bd7-46e7-cc76-77dde0834e5e"
      },
      "source": [
        "mars.iloc[-1]"
      ],
      "execution_count": null,
      "outputs": [
        {
          "output_type": "execute_result",
          "data": {
            "text/plain": [
              "57.9"
            ]
          },
          "metadata": {
            "tags": []
          },
          "execution_count": 26
        }
      ]
    },
    {
      "cell_type": "code",
      "metadata": {
        "colab": {
          "base_uri": "https://localhost:8080/"
        },
        "id": "rxhI6NPDLlYv",
        "outputId": "a009d6e3-6c9f-449a-d2ec-17a31d91668d"
      },
      "source": [
        "mars.iloc[:]"
      ],
      "execution_count": null,
      "outputs": [
        {
          "output_type": "execute_result",
          "data": {
            "text/plain": [
              "Mass         0.33\n",
              "Diameter    57.90\n",
              "dtype: float64"
            ]
          },
          "metadata": {
            "tags": []
          },
          "execution_count": 27
        }
      ]
    },
    {
      "cell_type": "code",
      "metadata": {
        "colab": {
          "base_uri": "https://localhost:8080/"
        },
        "id": "ivzVr0KQLpUy",
        "outputId": "d66b3085-3216-479e-e0b7-baa7a5eabe0d"
      },
      "source": [
        "mars.iloc[0:1]   #1 is not included"
      ],
      "execution_count": null,
      "outputs": [
        {
          "output_type": "execute_result",
          "data": {
            "text/plain": [
              "Mass    0.33\n",
              "dtype: float64"
            ]
          },
          "metadata": {
            "tags": []
          },
          "execution_count": 28
        }
      ]
    },
    {
      "cell_type": "code",
      "metadata": {
        "colab": {
          "base_uri": "https://localhost:8080/"
        },
        "id": "lYxRcFGFLy99",
        "outputId": "73b4bef9-4f79-4d9b-c127-b06523549b27"
      },
      "source": [
        "mars.loc['Mass':'Diameter']   #it will include Diameter too"
      ],
      "execution_count": null,
      "outputs": [
        {
          "output_type": "execute_result",
          "data": {
            "text/plain": [
              "Mass         0.33\n",
              "Diameter    57.90\n",
              "dtype: float64"
            ]
          },
          "metadata": {
            "tags": []
          },
          "execution_count": 30
        }
      ]
    },
    {
      "cell_type": "markdown",
      "metadata": {
        "id": "PNWrDq0OMSrK"
      },
      "source": [
        "##Simple Operations"
      ]
    },
    {
      "cell_type": "code",
      "metadata": {
        "id": "VeH4NAZqL6K4"
      },
      "source": [
        "mass = pd.Series([0.33, 4.87, 5.97, 0.642, 1898, 568, 86.8, 102, 0.0146], \n",
        "                 index= ['Mercury', 'Venus', 'Earth', 'Mars', 'Jupiter', 'Saturn', 'Uranus', 'Neptune', 'Pluto'])"
      ],
      "execution_count": null,
      "outputs": []
    },
    {
      "cell_type": "code",
      "metadata": {
        "colab": {
          "base_uri": "https://localhost:8080/"
        },
        "id": "-z_qFLgTNAYM",
        "outputId": "c79b90f5-18e8-498e-d3d1-c96e7727708c"
      },
      "source": [
        "print(mass)"
      ],
      "execution_count": null,
      "outputs": [
        {
          "output_type": "stream",
          "text": [
            "Mercury       0.3300\n",
            "Venus         4.8700\n",
            "Earth         5.9700\n",
            "Mars          0.6420\n",
            "Jupiter    1898.0000\n",
            "Saturn      568.0000\n",
            "Uranus       86.8000\n",
            "Neptune     102.0000\n",
            "Pluto         0.0146\n",
            "dtype: float64\n"
          ],
          "name": "stdout"
        }
      ]
    },
    {
      "cell_type": "code",
      "metadata": {
        "colab": {
          "base_uri": "https://localhost:8080/"
        },
        "id": "U8wY4lekNElV",
        "outputId": "146b95ec-f64f-40b8-9544-ffea5f718e80"
      },
      "source": [
        "mass.iloc[1]"
      ],
      "execution_count": null,
      "outputs": [
        {
          "output_type": "execute_result",
          "data": {
            "text/plain": [
              "4.87"
            ]
          },
          "metadata": {
            "tags": []
          },
          "execution_count": 33
        }
      ]
    },
    {
      "cell_type": "code",
      "metadata": {
        "colab": {
          "base_uri": "https://localhost:8080/"
        },
        "id": "choaQdBcNK5T",
        "outputId": "7e4f482f-f7d5-4e5c-9def-b04f44f10aab"
      },
      "source": [
        "mass.loc['Earth']"
      ],
      "execution_count": null,
      "outputs": [
        {
          "output_type": "execute_result",
          "data": {
            "text/plain": [
              "5.97"
            ]
          },
          "metadata": {
            "tags": []
          },
          "execution_count": 34
        }
      ]
    },
    {
      "cell_type": "code",
      "metadata": {
        "colab": {
          "base_uri": "https://localhost:8080/"
        },
        "id": "7doD0ietNN9X",
        "outputId": "b6938fac-a536-4d74-a506-30865fcf9358"
      },
      "source": [
        "mass > 100"
      ],
      "execution_count": null,
      "outputs": [
        {
          "output_type": "execute_result",
          "data": {
            "text/plain": [
              "Mercury    False\n",
              "Venus      False\n",
              "Earth      False\n",
              "Mars       False\n",
              "Jupiter     True\n",
              "Saturn      True\n",
              "Uranus     False\n",
              "Neptune     True\n",
              "Pluto      False\n",
              "dtype: bool"
            ]
          },
          "metadata": {
            "tags": []
          },
          "execution_count": 35
        }
      ]
    },
    {
      "cell_type": "code",
      "metadata": {
        "colab": {
          "base_uri": "https://localhost:8080/"
        },
        "id": "uz700uv9Nc46",
        "outputId": "88515e90-9b07-4282-a3b0-31ad045abdf4"
      },
      "source": [
        "mass[mass > 100]"
      ],
      "execution_count": null,
      "outputs": [
        {
          "output_type": "execute_result",
          "data": {
            "text/plain": [
              "Jupiter    1898.0\n",
              "Saturn      568.0\n",
              "Neptune     102.0\n",
              "dtype: float64"
            ]
          },
          "metadata": {
            "tags": []
          },
          "execution_count": 36
        }
      ]
    },
    {
      "cell_type": "code",
      "metadata": {
        "colab": {
          "base_uri": "https://localhost:8080/"
        },
        "id": "KQUOTSLkNe3l",
        "outputId": "a1c5516c-2717-468a-c29c-1ee7a07e83a8"
      },
      "source": [
        "mass[(mass > 100) & (mass < 600)]"
      ],
      "execution_count": null,
      "outputs": [
        {
          "output_type": "execute_result",
          "data": {
            "text/plain": [
              "Saturn     568.0\n",
              "Neptune    102.0\n",
              "dtype: float64"
            ]
          },
          "metadata": {
            "tags": []
          },
          "execution_count": 37
        }
      ]
    },
    {
      "cell_type": "code",
      "metadata": {
        "colab": {
          "base_uri": "https://localhost:8080/"
        },
        "id": "KAqetbPPNojq",
        "outputId": "3a337387-6973-45f0-d38f-dc7601e02c28"
      },
      "source": [
        "mass * 2    #broadcasting like in numpy"
      ],
      "execution_count": null,
      "outputs": [
        {
          "output_type": "execute_result",
          "data": {
            "text/plain": [
              "Mercury       0.6600\n",
              "Venus         9.7400\n",
              "Earth        11.9400\n",
              "Mars          1.2840\n",
              "Jupiter    3796.0000\n",
              "Saturn     1136.0000\n",
              "Uranus      173.6000\n",
              "Neptune     204.0000\n",
              "Pluto         0.0292\n",
              "dtype: float64"
            ]
          },
          "metadata": {
            "tags": []
          },
          "execution_count": 38
        }
      ]
    },
    {
      "cell_type": "code",
      "metadata": {
        "colab": {
          "base_uri": "https://localhost:8080/"
        },
        "id": "2XScqGQJNufK",
        "outputId": "650583fd-f604-46dc-8c54-a3d62156321b"
      },
      "source": [
        "mass /  10"
      ],
      "execution_count": null,
      "outputs": [
        {
          "output_type": "execute_result",
          "data": {
            "text/plain": [
              "Mercury      0.03300\n",
              "Venus        0.48700\n",
              "Earth        0.59700\n",
              "Mars         0.06420\n",
              "Jupiter    189.80000\n",
              "Saturn      56.80000\n",
              "Uranus       8.68000\n",
              "Neptune     10.20000\n",
              "Pluto        0.00146\n",
              "dtype: float64"
            ]
          },
          "metadata": {
            "tags": []
          },
          "execution_count": 39
        }
      ]
    },
    {
      "cell_type": "code",
      "metadata": {
        "colab": {
          "base_uri": "https://localhost:8080/"
        },
        "id": "V5TE2yKyNv_B",
        "outputId": "122e3dbb-1e6d-4b24-9652-0c74f8875f2b"
      },
      "source": [
        "np.mean(mass)  #as pandas is layer over numpy, so all numpy operations works"
      ],
      "execution_count": null,
      "outputs": [
        {
          "output_type": "execute_result",
          "data": {
            "text/plain": [
              "296.29184444444445"
            ]
          },
          "metadata": {
            "tags": []
          },
          "execution_count": 40
        }
      ]
    },
    {
      "cell_type": "code",
      "metadata": {
        "colab": {
          "base_uri": "https://localhost:8080/"
        },
        "id": "GN7EHadfN2L2",
        "outputId": "59abb988-b55c-425b-c142-307bfccb7b93"
      },
      "source": [
        "mass - mass    #index will preserve"
      ],
      "execution_count": null,
      "outputs": [
        {
          "output_type": "execute_result",
          "data": {
            "text/plain": [
              "Mercury    0.0\n",
              "Venus      0.0\n",
              "Earth      0.0\n",
              "Mars       0.0\n",
              "Jupiter    0.0\n",
              "Saturn     0.0\n",
              "Uranus     0.0\n",
              "Neptune    0.0\n",
              "Pluto      0.0\n",
              "dtype: float64"
            ]
          },
          "metadata": {
            "tags": []
          },
          "execution_count": 41
        }
      ]
    },
    {
      "cell_type": "code",
      "metadata": {
        "colab": {
          "base_uri": "https://localhost:8080/"
        },
        "id": "Gzt40JV9OXXQ",
        "outputId": "43f8af80-a3e1-4346-b7d0-b4844fa7aed2"
      },
      "source": [
        "big_mass = mass[mass > 100]\n",
        "big_mass"
      ],
      "execution_count": null,
      "outputs": [
        {
          "output_type": "execute_result",
          "data": {
            "text/plain": [
              "Jupiter    1898.0\n",
              "Saturn      568.0\n",
              "Neptune     102.0\n",
              "dtype: float64"
            ]
          },
          "metadata": {
            "tags": []
          },
          "execution_count": 42
        }
      ]
    },
    {
      "cell_type": "code",
      "metadata": {
        "colab": {
          "base_uri": "https://localhost:8080/"
        },
        "id": "Fqb6vKjvOiiw",
        "outputId": "7a374cae-52e6-495d-c405-7dabb073385d"
      },
      "source": [
        "new_mass = mass + big_mass    #index is union of index of both series\n",
        "new_mass                      #values will give NaN (Not a Number) for index which are absent in any of the series\n",
        "#in series, we have to first reorder the indices, and then add; unlike in array"
      ],
      "execution_count": null,
      "outputs": [
        {
          "output_type": "execute_result",
          "data": {
            "text/plain": [
              "Earth         NaN\n",
              "Jupiter    3796.0\n",
              "Mars          NaN\n",
              "Mercury       NaN\n",
              "Neptune     204.0\n",
              "Pluto         NaN\n",
              "Saturn     1136.0\n",
              "Uranus        NaN\n",
              "Venus         NaN\n",
              "dtype: float64"
            ]
          },
          "metadata": {
            "tags": []
          },
          "execution_count": 43
        }
      ]
    },
    {
      "cell_type": "code",
      "metadata": {
        "colab": {
          "base_uri": "https://localhost:8080/"
        },
        "id": "j_iNijgrOoOB",
        "outputId": "3350b31e-5c63-4419-ffcd-be6adc538d95"
      },
      "source": [
        "pd.isnull(new_mass)"
      ],
      "execution_count": null,
      "outputs": [
        {
          "output_type": "execute_result",
          "data": {
            "text/plain": [
              "Earth       True\n",
              "Jupiter    False\n",
              "Mars        True\n",
              "Mercury     True\n",
              "Neptune    False\n",
              "Pluto       True\n",
              "Saturn     False\n",
              "Uranus      True\n",
              "Venus       True\n",
              "dtype: bool"
            ]
          },
          "metadata": {
            "tags": []
          },
          "execution_count": 44
        }
      ]
    },
    {
      "cell_type": "code",
      "metadata": {
        "colab": {
          "base_uri": "https://localhost:8080/"
        },
        "id": "MZBrsPF8Pgd_",
        "outputId": "23a5e3e3-130e-4274-aec4-48e3d9502a10"
      },
      "source": [
        "new_mass[-pd.isnull(new_mass)]"
      ],
      "execution_count": null,
      "outputs": [
        {
          "output_type": "execute_result",
          "data": {
            "text/plain": [
              "Jupiter    3796.0\n",
              "Neptune     204.0\n",
              "Saturn     1136.0\n",
              "dtype: float64"
            ]
          },
          "metadata": {
            "tags": []
          },
          "execution_count": 45
        }
      ]
    },
    {
      "cell_type": "code",
      "metadata": {
        "colab": {
          "base_uri": "https://localhost:8080/"
        },
        "id": "8xYxhyTUPm6o",
        "outputId": "db5fef9d-0b73-44f0-9f1e-8d50f04122c6"
      },
      "source": [
        "mass"
      ],
      "execution_count": null,
      "outputs": [
        {
          "output_type": "execute_result",
          "data": {
            "text/plain": [
              "Mercury       0.3300\n",
              "Venus         4.8700\n",
              "Earth         5.9700\n",
              "Mars          0.6420\n",
              "Jupiter    1898.0000\n",
              "Saturn      568.0000\n",
              "Uranus       86.8000\n",
              "Neptune     102.0000\n",
              "Pluto         0.0146\n",
              "dtype: float64"
            ]
          },
          "metadata": {
            "tags": []
          },
          "execution_count": 46
        }
      ]
    },
    {
      "cell_type": "code",
      "metadata": {
        "colab": {
          "base_uri": "https://localhost:8080/"
        },
        "id": "fWqMaYbWPpCh",
        "outputId": "afb9c834-30d4-4fb6-a967-2d29e8779745"
      },
      "source": [
        "mass['Moon'] = 0.7346\n",
        "mass"
      ],
      "execution_count": null,
      "outputs": [
        {
          "output_type": "execute_result",
          "data": {
            "text/plain": [
              "Mercury       0.3300\n",
              "Venus         4.8700\n",
              "Earth         5.9700\n",
              "Mars          0.6420\n",
              "Jupiter    1898.0000\n",
              "Saturn      568.0000\n",
              "Uranus       86.8000\n",
              "Neptune     102.0000\n",
              "Pluto         0.0146\n",
              "Moon          0.7346\n",
              "dtype: float64"
            ]
          },
          "metadata": {
            "tags": []
          },
          "execution_count": 47
        }
      ]
    },
    {
      "cell_type": "code",
      "metadata": {
        "colab": {
          "base_uri": "https://localhost:8080/"
        },
        "id": "ZdpdFZ3CPt9R",
        "outputId": "2578a75d-03e0-4b6f-b091-9c46663879a8"
      },
      "source": [
        "mass.drop(['Pluto'])"
      ],
      "execution_count": null,
      "outputs": [
        {
          "output_type": "execute_result",
          "data": {
            "text/plain": [
              "Mercury       0.3300\n",
              "Venus         4.8700\n",
              "Earth         5.9700\n",
              "Mars          0.6420\n",
              "Jupiter    1898.0000\n",
              "Saturn      568.0000\n",
              "Uranus       86.8000\n",
              "Neptune     102.0000\n",
              "Moon          0.7346\n",
              "dtype: float64"
            ]
          },
          "metadata": {
            "tags": []
          },
          "execution_count": 49
        }
      ]
    },
    {
      "cell_type": "markdown",
      "metadata": {
        "id": "lgtM2LXsP9iK"
      },
      "source": [
        "##Task \n",
        "\n",
        "**Task - 1**\n",
        "\n",
        "Collect numbers for the diameters of these planets (heavenly bodies) and store it as a Series object. Then given these two Series objects mass and diameter, compute the density of each planet."
      ]
    },
    {
      "cell_type": "code",
      "metadata": {
        "id": "K4z_CzhKPxxA"
      },
      "source": [
        "diameter = pd.Series([4878, 12104, 12756, 3475, 6792, 142984, 120536, 51118, 49528, 2370],\n",
        "                     index= ['Mercury', 'Venus', 'Earth', 'Moon', 'Mars', 'Jupiter', 'Saturn', 'Uranus', 'Neptune', 'Pluto'])"
      ],
      "execution_count": null,
      "outputs": []
    },
    {
      "cell_type": "code",
      "metadata": {
        "id": "PPJFGBTPRZxX"
      },
      "source": [
        "mass = pd.Series([0.33, 4.87, 5.97, 0.7346, 0.642, 1898, 568, 86.8, 102, 0.0146], \n",
        "                 index= ['Mercury', 'Venus', 'Earth', 'Moon', 'Mars', 'Jupiter', 'Saturn', 'Uranus', 'Neptune', 'Pluto'])"
      ],
      "execution_count": null,
      "outputs": []
    },
    {
      "cell_type": "code",
      "metadata": {
        "colab": {
          "base_uri": "https://localhost:8080/"
        },
        "id": "zV4Lyz-IRtDO",
        "outputId": "e820fdd9-1e92-4fed-8b12-cf9ca4a3da3c"
      },
      "source": [
        "density = mass /  (4 * np.pi * ((diameter/2)**3) / 3)      #density = mass / volume, volume = 4*(pi*r^3)/3\n",
        "density          #densities are almost same for all, even with varying weight"
      ],
      "execution_count": null,
      "outputs": [
        {
          "output_type": "execute_result",
          "data": {
            "text/plain": [
              "Mercury    5.429876e-12\n",
              "Venus      5.244977e-12\n",
              "Earth      5.493286e-12\n",
              "Moon       3.343396e-11\n",
              "Mars       3.913302e-12\n",
              "Jupiter    1.240039e-12\n",
              "Saturn     6.194402e-13\n",
              "Uranus     1.241079e-12\n",
              "Neptune    1.603427e-12\n",
              "Pluto      2.094639e-12\n",
              "dtype: float64"
            ]
          },
          "metadata": {
            "tags": []
          },
          "execution_count": 53
        }
      ]
    },
    {
      "cell_type": "markdown",
      "metadata": {
        "id": "H-ZRbXQwUzTQ"
      },
      "source": [
        "**Task 2**\n",
        "\n",
        "Given this density Series, replace all values with NaNs with the mean density of all planets."
      ]
    },
    {
      "cell_type": "code",
      "metadata": {
        "colab": {
          "base_uri": "https://localhost:8080/"
        },
        "id": "d5iL1s8MV1KU",
        "outputId": "2d527ba1-6169-4259-ad10-fab75144bcda"
      },
      "source": [
        "mass['PlanetX'] = 6\n",
        "mass"
      ],
      "execution_count": null,
      "outputs": [
        {
          "output_type": "execute_result",
          "data": {
            "text/plain": [
              "Mercury       0.3300\n",
              "Venus         4.8700\n",
              "Earth         5.9700\n",
              "Moon          0.7346\n",
              "Mars          0.6420\n",
              "Jupiter    1898.0000\n",
              "Saturn      568.0000\n",
              "Uranus       86.8000\n",
              "Neptune     102.0000\n",
              "Pluto         0.0146\n",
              "PlanetX       6.0000\n",
              "dtype: float64"
            ]
          },
          "metadata": {
            "tags": []
          },
          "execution_count": 54
        }
      ]
    },
    {
      "cell_type": "code",
      "metadata": {
        "colab": {
          "base_uri": "https://localhost:8080/"
        },
        "id": "HYskyDdWV7u5",
        "outputId": "847c4c67-67be-485a-d308-875788798588"
      },
      "source": [
        "density = mass /  (4 * np.pi * ((diameter/2)**3) / 3) \n",
        "density"
      ],
      "execution_count": null,
      "outputs": [
        {
          "output_type": "execute_result",
          "data": {
            "text/plain": [
              "Earth      5.493286e-12\n",
              "Jupiter    1.240039e-12\n",
              "Mars       3.913302e-12\n",
              "Mercury    5.429876e-12\n",
              "Moon       3.343396e-11\n",
              "Neptune    1.603427e-12\n",
              "PlanetX             NaN\n",
              "Pluto      2.094639e-12\n",
              "Saturn     6.194402e-13\n",
              "Uranus     1.241079e-12\n",
              "Venus      5.244977e-12\n",
              "dtype: float64"
            ]
          },
          "metadata": {
            "tags": []
          },
          "execution_count": 55
        }
      ]
    },
    {
      "cell_type": "code",
      "metadata": {
        "colab": {
          "base_uri": "https://localhost:8080/"
        },
        "id": "JjHx4cMbWDpk",
        "outputId": "f89fe90b-c049-4b26-ea87-37d9155dfe7f"
      },
      "source": [
        "density[pd.isnull(density)] = np.mean(density)\n",
        "density"
      ],
      "execution_count": null,
      "outputs": [
        {
          "output_type": "execute_result",
          "data": {
            "text/plain": [
              "Earth      5.493286e-12\n",
              "Jupiter    1.240039e-12\n",
              "Mars       3.913302e-12\n",
              "Mercury    5.429876e-12\n",
              "Moon       3.343396e-11\n",
              "Neptune    1.603427e-12\n",
              "PlanetX    6.031403e-12\n",
              "Pluto      2.094639e-12\n",
              "Saturn     6.194402e-13\n",
              "Uranus     1.241079e-12\n",
              "Venus      5.244977e-12\n",
              "dtype: float64"
            ]
          },
          "metadata": {
            "tags": []
          },
          "execution_count": 58
        }
      ]
    },
    {
      "cell_type": "markdown",
      "metadata": {
        "id": "3LbWBQApVQXl"
      },
      "source": [
        "**Task 3**\n",
        "\n",
        "Compare the Series wrt dictionaries:\n",
        "\n",
        "1.   Checking if some keys is present\n",
        "2.   Summing values\n",
        "3.   Computing std\n",
        "\n"
      ]
    },
    {
      "cell_type": "code",
      "metadata": {
        "id": "ZXRmsE5TSUwd"
      },
      "source": [
        "my_dict = {}\n",
        "N = 1000000\n",
        "for i in range(N):\n",
        "  my_dict[i] = i%10"
      ],
      "execution_count": null,
      "outputs": []
    },
    {
      "cell_type": "code",
      "metadata": {
        "id": "9g-K9DrFXiLY"
      },
      "source": [
        "my_series = pd.Series(my_dict)"
      ],
      "execution_count": null,
      "outputs": []
    },
    {
      "cell_type": "code",
      "metadata": {
        "id": "0x3RXBnbXmqO"
      },
      "source": [
        "M = 10000"
      ],
      "execution_count": null,
      "outputs": []
    },
    {
      "cell_type": "code",
      "metadata": {
        "id": "cM3a_DC5XpYn"
      },
      "source": [
        "arr = np.random.randint(0, N, M)"
      ],
      "execution_count": null,
      "outputs": []
    },
    {
      "cell_type": "code",
      "metadata": {
        "colab": {
          "base_uri": "https://localhost:8080/"
        },
        "id": "kdA4pmuYXtgB",
        "outputId": "0c86cf47-c07b-43f9-b537-3115138b6d17"
      },
      "source": [
        "10 in my_dict"
      ],
      "execution_count": null,
      "outputs": [
        {
          "output_type": "execute_result",
          "data": {
            "text/plain": [
              "True"
            ]
          },
          "metadata": {
            "tags": []
          },
          "execution_count": 63
        }
      ]
    },
    {
      "cell_type": "code",
      "metadata": {
        "colab": {
          "base_uri": "https://localhost:8080/"
        },
        "id": "w_E4DCf9X3Yn",
        "outputId": "2e6e1dfc-b4eb-4fe7-a20e-03709bb8c02f"
      },
      "source": [
        "%%timeit\n",
        "for i in arr:\n",
        "  i in my_dict"
      ],
      "execution_count": null,
      "outputs": [
        {
          "output_type": "stream",
          "text": [
            "100 loops, best of 5: 6.79 ms per loop\n"
          ],
          "name": "stdout"
        }
      ]
    },
    {
      "cell_type": "code",
      "metadata": {
        "colab": {
          "base_uri": "https://localhost:8080/"
        },
        "id": "ZxSbcCBWX93J",
        "outputId": "0a4b9ea4-5deb-4023-9a7a-c8618095d1c7"
      },
      "source": [
        "%%timeit\n",
        "for i in arr:\n",
        "  i in my_series\n",
        "\n",
        "#so series is  slower than dict when chcecking for a key"
      ],
      "execution_count": null,
      "outputs": [
        {
          "output_type": "stream",
          "text": [
            "The slowest run took 5.04 times longer than the fastest. This could mean that an intermediate result is being cached.\n",
            "100 loops, best of 5: 11.3 ms per loop\n"
          ],
          "name": "stdout"
        }
      ]
    },
    {
      "cell_type": "code",
      "metadata": {
        "colab": {
          "base_uri": "https://localhost:8080/"
        },
        "id": "cokr2Qn1YC5l",
        "outputId": "8a8ecbe3-6bdc-460e-9cd1-a854e1916ece"
      },
      "source": [
        "%%timeit\n",
        "sum(my_dict.values())"
      ],
      "execution_count": null,
      "outputs": [
        {
          "output_type": "stream",
          "text": [
            "100 loops, best of 5: 10.8 ms per loop\n"
          ],
          "name": "stdout"
        }
      ]
    },
    {
      "cell_type": "code",
      "metadata": {
        "colab": {
          "base_uri": "https://localhost:8080/"
        },
        "id": "QiMlo9YVYfcG",
        "outputId": "ca380e2e-65f7-4667-b562-87240e6b0aa1"
      },
      "source": [
        "%%timeit\n",
        "np.sum(my_series)\n",
        "\n",
        "#series is faster than dict in summing"
      ],
      "execution_count": null,
      "outputs": [
        {
          "output_type": "stream",
          "text": [
            "The slowest run took 7.02 times longer than the fastest. This could mean that an intermediate result is being cached.\n",
            "1000 loops, best of 5: 852 µs per loop\n"
          ],
          "name": "stdout"
        }
      ]
    },
    {
      "cell_type": "code",
      "metadata": {
        "colab": {
          "base_uri": "https://localhost:8080/"
        },
        "id": "6FkDQgXSYnEp",
        "outputId": "c0559c12-44b2-4981-a2ed-45bbab4a2151"
      },
      "source": [
        "%%timeit\n",
        "mean = sum(my_dict.values()) / N\n",
        "variance = sum([(x - mean)**2 for x in my_dict.values()])\n",
        "std = variance ** 0.5"
      ],
      "execution_count": null,
      "outputs": [
        {
          "output_type": "stream",
          "text": [
            "10 loops, best of 5: 181 ms per loop\n"
          ],
          "name": "stdout"
        }
      ]
    },
    {
      "cell_type": "code",
      "metadata": {
        "colab": {
          "base_uri": "https://localhost:8080/"
        },
        "id": "cL0teAwFdiu-",
        "outputId": "c06f09be-ee48-4795-e27d-720cc83c5e20"
      },
      "source": [
        "%%timeit\n",
        "np.std(my_series)\n",
        "\n",
        "#series is faster in finding std than dict"
      ],
      "execution_count": null,
      "outputs": [
        {
          "output_type": "stream",
          "text": [
            "100 loops, best of 5: 3.37 ms per loop\n"
          ],
          "name": "stdout"
        }
      ]
    },
    {
      "cell_type": "markdown",
      "metadata": {
        "id": "VWVUOBm3eLHE"
      },
      "source": [
        "#NIFTY Case Study"
      ]
    },
    {
      "cell_type": "code",
      "metadata": {
        "id": "EJAvDWUUeOdT"
      },
      "source": [
        "nifty = pd.read_csv('nifty-200623-235920.csv', index_col= 0).iloc[:, 0]\n",
        "#It will read csv file as dataframe object, to make it Series object, we are using iloc\n",
        "#index_col will make 0th column of the file as index"
      ],
      "execution_count": null,
      "outputs": []
    },
    {
      "cell_type": "code",
      "metadata": {
        "colab": {
          "base_uri": "https://localhost:8080/"
        },
        "id": "kYo_ItSef-xH",
        "outputId": "6e8e4c2a-d062-4a4e-8f64-22257315d791"
      },
      "source": [
        "nifty"
      ],
      "execution_count": null,
      "outputs": [
        {
          "output_type": "execute_result",
          "data": {
            "text/plain": [
              "Date\n",
              "01-Jan-2019    10910.10\n",
              "02-Jan-2019    10792.50\n",
              "03-Jan-2019    10672.25\n",
              "04-Jan-2019    10727.35\n",
              "07-Jan-2019    10771.80\n",
              "                 ...   \n",
              "24-Dec-2019    12214.55\n",
              "26-Dec-2019    12126.55\n",
              "27-Dec-2019    12245.80\n",
              "30-Dec-2019    12255.85\n",
              "31-Dec-2019    12168.45\n",
              "Name: Close, Length: 245, dtype: float64"
            ]
          },
          "metadata": {
            "tags": []
          },
          "execution_count": 3
        }
      ]
    },
    {
      "cell_type": "code",
      "metadata": {
        "colab": {
          "base_uri": "https://localhost:8080/"
        },
        "id": "zndCJLk-gArs",
        "outputId": "4e5a40c2-7849-4a53-f1b6-414004d9ec42"
      },
      "source": [
        "nifty.head(25)   #give top 25 values"
      ],
      "execution_count": null,
      "outputs": [
        {
          "output_type": "execute_result",
          "data": {
            "text/plain": [
              "Date\n",
              "01-Jan-2019    10910.10\n",
              "02-Jan-2019    10792.50\n",
              "03-Jan-2019    10672.25\n",
              "04-Jan-2019    10727.35\n",
              "07-Jan-2019    10771.80\n",
              "08-Jan-2019    10802.15\n",
              "09-Jan-2019    10855.15\n",
              "10-Jan-2019    10821.60\n",
              "11-Jan-2019    10794.95\n",
              "14-Jan-2019    10737.60\n",
              "15-Jan-2019    10886.80\n",
              "16-Jan-2019    10890.30\n",
              "17-Jan-2019    10905.20\n",
              "18-Jan-2019    10906.95\n",
              "21-Jan-2019    10961.85\n",
              "22-Jan-2019    10922.75\n",
              "23-Jan-2019    10831.50\n",
              "24-Jan-2019    10849.80\n",
              "25-Jan-2019    10780.55\n",
              "28-Jan-2019    10661.55\n",
              "29-Jan-2019    10652.20\n",
              "30-Jan-2019    10651.80\n",
              "31-Jan-2019    10830.95\n",
              "01-Feb-2019    10893.65\n",
              "04-Feb-2019    10912.25\n",
              "Name: Close, dtype: float64"
            ]
          },
          "metadata": {
            "tags": []
          },
          "execution_count": 4
        }
      ]
    },
    {
      "cell_type": "code",
      "metadata": {
        "colab": {
          "base_uri": "https://localhost:8080/"
        },
        "id": "71KvhLURgIsm",
        "outputId": "e70fc375-0de2-4a56-e277-e71b815b5187"
      },
      "source": [
        "nifty.tail(25)   #gives bottom 25 values"
      ],
      "execution_count": null,
      "outputs": [
        {
          "output_type": "execute_result",
          "data": {
            "text/plain": [
              "Date\n",
              "26-Nov-2019    12037.70\n",
              "27-Nov-2019    12100.70\n",
              "28-Nov-2019    12151.15\n",
              "29-Nov-2019    12056.05\n",
              "02-Dec-2019    12048.20\n",
              "03-Dec-2019    11994.20\n",
              "04-Dec-2019    12043.20\n",
              "05-Dec-2019    12018.40\n",
              "06-Dec-2019    11921.50\n",
              "09-Dec-2019    11937.50\n",
              "10-Dec-2019    11856.80\n",
              "11-Dec-2019    11910.15\n",
              "12-Dec-2019    11971.80\n",
              "13-Dec-2019    12086.70\n",
              "16-Dec-2019    12053.95\n",
              "17-Dec-2019    12165.00\n",
              "18-Dec-2019    12221.65\n",
              "19-Dec-2019    12259.70\n",
              "20-Dec-2019    12271.80\n",
              "23-Dec-2019    12262.75\n",
              "24-Dec-2019    12214.55\n",
              "26-Dec-2019    12126.55\n",
              "27-Dec-2019    12245.80\n",
              "30-Dec-2019    12255.85\n",
              "31-Dec-2019    12168.45\n",
              "Name: Close, dtype: float64"
            ]
          },
          "metadata": {
            "tags": []
          },
          "execution_count": 5
        }
      ]
    },
    {
      "cell_type": "code",
      "metadata": {
        "colab": {
          "base_uri": "https://localhost:8080/"
        },
        "id": "4THd3D-QgNPt",
        "outputId": "7ea34c3e-d60e-4b63-d805-be77e9d429ed"
      },
      "source": [
        "np.mean(nifty)"
      ],
      "execution_count": null,
      "outputs": [
        {
          "output_type": "execute_result",
          "data": {
            "text/plain": [
              "11432.632244897959"
            ]
          },
          "metadata": {
            "tags": []
          },
          "execution_count": 6
        }
      ]
    },
    {
      "cell_type": "code",
      "metadata": {
        "colab": {
          "base_uri": "https://localhost:8080/"
        },
        "id": "DH4SU7ipgUFy",
        "outputId": "8edc22d1-6385-40a5-95e1-83126f579173"
      },
      "source": [
        "np.median(nifty)  #similar as mean, so no outliers"
      ],
      "execution_count": null,
      "outputs": [
        {
          "output_type": "execute_result",
          "data": {
            "text/plain": [
              "11512.4"
            ]
          },
          "metadata": {
            "tags": []
          },
          "execution_count": 7
        }
      ]
    },
    {
      "cell_type": "code",
      "metadata": {
        "colab": {
          "base_uri": "https://localhost:8080/"
        },
        "id": "W3Gn50gPgYSl",
        "outputId": "49d31d6f-cd58-475e-f294-5b21ab297f2a"
      },
      "source": [
        "np.std(nifty)"
      ],
      "execution_count": null,
      "outputs": [
        {
          "output_type": "execute_result",
          "data": {
            "text/plain": [
              "453.2866947459807"
            ]
          },
          "metadata": {
            "tags": []
          },
          "execution_count": 8
        }
      ]
    },
    {
      "cell_type": "markdown",
      "metadata": {
        "id": "2F-_JWrUgfCv"
      },
      "source": [
        "**Task 1**\n",
        "\n",
        "What fraction of days did the markets close higher than the previous day's close."
      ]
    },
    {
      "cell_type": "code",
      "metadata": {
        "colab": {
          "base_uri": "https://localhost:8080/"
        },
        "id": "SSkmi5ZhgZw2",
        "outputId": "d8a145b5-2084-4da0-a482-1b6f18146a3a"
      },
      "source": [
        "nifty[0]"
      ],
      "execution_count": null,
      "outputs": [
        {
          "output_type": "execute_result",
          "data": {
            "text/plain": [
              "10910.1"
            ]
          },
          "metadata": {
            "tags": []
          },
          "execution_count": 9
        }
      ]
    },
    {
      "cell_type": "code",
      "metadata": {
        "colab": {
          "base_uri": "https://localhost:8080/"
        },
        "id": "Bz7dRONqgzCO",
        "outputId": "0e505e0b-f969-4c00-c31a-7cecfffa74e4"
      },
      "source": [
        "nifty[1]"
      ],
      "execution_count": null,
      "outputs": [
        {
          "output_type": "execute_result",
          "data": {
            "text/plain": [
              "10792.5"
            ]
          },
          "metadata": {
            "tags": []
          },
          "execution_count": 10
        }
      ]
    },
    {
      "cell_type": "code",
      "metadata": {
        "colab": {
          "base_uri": "https://localhost:8080/"
        },
        "id": "y-1ZuIkEg0LO",
        "outputId": "0cc0521f-fa3f-4d93-e35f-ad8a44011489"
      },
      "source": [
        "nifty[1] - nifty[0]   #if this value is +ve, then add 1 to no of days"
      ],
      "execution_count": null,
      "outputs": [
        {
          "output_type": "execute_result",
          "data": {
            "text/plain": [
              "-117.60000000000036"
            ]
          },
          "metadata": {
            "tags": []
          },
          "execution_count": 11
        }
      ]
    },
    {
      "cell_type": "code",
      "metadata": {
        "colab": {
          "base_uri": "https://localhost:8080/"
        },
        "id": "ecZvqUS5g80v",
        "outputId": "bbe4d8ae-e735-4fea-f54d-6fa8b1236a3e"
      },
      "source": [
        "nifty[1:]    #all values of nifty except the first one"
      ],
      "execution_count": null,
      "outputs": [
        {
          "output_type": "execute_result",
          "data": {
            "text/plain": [
              "Date\n",
              "02-Jan-2019    10792.50\n",
              "03-Jan-2019    10672.25\n",
              "04-Jan-2019    10727.35\n",
              "07-Jan-2019    10771.80\n",
              "08-Jan-2019    10802.15\n",
              "                 ...   \n",
              "24-Dec-2019    12214.55\n",
              "26-Dec-2019    12126.55\n",
              "27-Dec-2019    12245.80\n",
              "30-Dec-2019    12255.85\n",
              "31-Dec-2019    12168.45\n",
              "Name: Close, Length: 244, dtype: float64"
            ]
          },
          "metadata": {
            "tags": []
          },
          "execution_count": 12
        }
      ]
    },
    {
      "cell_type": "code",
      "metadata": {
        "colab": {
          "base_uri": "https://localhost:8080/"
        },
        "id": "OyWlUJ2dhPMu",
        "outputId": "e84b77b3-6d9c-4fdd-fdf5-f329f7e6ed26"
      },
      "source": [
        "nifty[: -1]    #all values of nifty except the last one"
      ],
      "execution_count": null,
      "outputs": [
        {
          "output_type": "execute_result",
          "data": {
            "text/plain": [
              "Date\n",
              "01-Jan-2019    10910.10\n",
              "02-Jan-2019    10792.50\n",
              "03-Jan-2019    10672.25\n",
              "04-Jan-2019    10727.35\n",
              "07-Jan-2019    10771.80\n",
              "                 ...   \n",
              "23-Dec-2019    12262.75\n",
              "24-Dec-2019    12214.55\n",
              "26-Dec-2019    12126.55\n",
              "27-Dec-2019    12245.80\n",
              "30-Dec-2019    12255.85\n",
              "Name: Close, Length: 244, dtype: float64"
            ]
          },
          "metadata": {
            "tags": []
          },
          "execution_count": 13
        }
      ]
    },
    {
      "cell_type": "code",
      "metadata": {
        "colab": {
          "base_uri": "https://localhost:8080/"
        },
        "id": "qPMDIzW6hUpo",
        "outputId": "54a551bf-3bdf-489a-e7f3-2b477df10367"
      },
      "source": [
        "nifty[1:] - nifty[:-1]    #as its Series obj, it will first align the indices of the series, and then subtract\n",
        "#instead of directly subtracting the values serially"
      ],
      "execution_count": null,
      "outputs": [
        {
          "output_type": "execute_result",
          "data": {
            "text/plain": [
              "Date\n",
              "01-Apr-2019    0.0\n",
              "01-Aug-2019    0.0\n",
              "01-Feb-2019    0.0\n",
              "01-Jan-2019    NaN\n",
              "01-Jul-2019    0.0\n",
              "              ... \n",
              "31-Dec-2019    NaN\n",
              "31-Jan-2019    0.0\n",
              "31-Jul-2019    0.0\n",
              "31-May-2019    0.0\n",
              "31-Oct-2019    0.0\n",
              "Name: Close, Length: 245, dtype: float64"
            ]
          },
          "metadata": {
            "tags": []
          },
          "execution_count": 14
        }
      ]
    },
    {
      "cell_type": "code",
      "metadata": {
        "colab": {
          "base_uri": "https://localhost:8080/"
        },
        "id": "7_Pv3KXiiBmR",
        "outputId": "f11d1052-93a1-4918-8da7-0295a521fc1b"
      },
      "source": [
        "nifty.values[1:] - nifty.values[:-1]   #now we are taking numpy array of same size"
      ],
      "execution_count": null,
      "outputs": [
        {
          "output_type": "execute_result",
          "data": {
            "text/plain": [
              "array([-1.1760e+02, -1.2025e+02,  5.5100e+01,  4.4450e+01,  3.0350e+01,\n",
              "        5.3000e+01, -3.3550e+01, -2.6650e+01, -5.7350e+01,  1.4920e+02,\n",
              "        3.5000e+00,  1.4900e+01,  1.7500e+00,  5.4900e+01, -3.9100e+01,\n",
              "       -9.1250e+01,  1.8300e+01, -6.9250e+01, -1.1900e+02, -9.3500e+00,\n",
              "       -4.0000e-01,  1.7915e+02,  6.2700e+01,  1.8600e+01,  2.2100e+01,\n",
              "        1.2810e+02,  6.9500e+00, -1.2580e+02, -5.4800e+01, -5.7400e+01,\n",
              "       -3.7750e+01, -4.7600e+01, -2.1650e+01, -8.3450e+01, -3.6600e+01,\n",
              "        1.3110e+02,  5.4400e+01,  1.8000e+00,  8.8450e+01, -4.4800e+01,\n",
              "       -2.8650e+01, -1.4150e+01,  7.1000e+01,  1.2395e+02,  6.5550e+01,\n",
              "        5.2000e+00, -2.2800e+01,  1.3265e+02,  1.3315e+02,  4.0500e+01,\n",
              "        1.5500e+00,  8.3600e+01,  3.5350e+01,  7.0200e+01, -1.1350e+01,\n",
              "       -6.4150e+01, -1.0265e+02,  1.2900e+02, -3.8200e+01,  1.2495e+02,\n",
              "        5.3900e+01,  4.5250e+01,  4.4050e+01, -6.9250e+01, -4.5950e+01,\n",
              "        6.7950e+01, -6.1450e+01,  6.7450e+01, -8.7650e+01,  1.2400e+01,\n",
              "        4.6750e+01,  4.6900e+01,  9.6800e+01, -3.4350e+01, -1.5835e+02,\n",
              "       -1.8500e+01,  1.5020e+02, -8.4350e+01,  1.1285e+02, -6.5000e+00,\n",
              "       -2.3400e+01, -1.2500e+01, -1.1400e+02, -1.0035e+02, -1.3845e+02,\n",
              "       -5.7650e+01, -2.2900e+01, -1.3070e+02,  7.3850e+01, -6.5050e+01,\n",
              "        1.0010e+02,  1.5005e+02,  4.2110e+02, -1.1915e+02,  2.8800e+01,\n",
              "       -8.0850e+01,  1.8705e+02,  8.0650e+01,  4.0000e+00, -6.7650e+01,\n",
              "        8.4800e+01, -2.3100e+01,  1.6575e+02, -6.6900e+01, -1.7790e+02,\n",
              "        2.6900e+01,  5.2050e+01,  4.2900e+01, -5.9400e+01,  7.8500e+00,\n",
              "       -9.0750e+01, -1.5115e+02,  1.9350e+01, -5.0000e-02,  1.4030e+02,\n",
              "       -1.0765e+02, -2.4450e+01,  9.6800e+01,  5.1100e+01, -6.0000e+00,\n",
              "       -5.2700e+01,  7.6750e+01,  4.4700e+01,  6.4500e+00,  3.0000e+01,\n",
              "       -1.3560e+02, -2.5255e+02, -2.7000e+00, -5.7000e+01,  8.4000e+01,\n",
              "       -3.0400e+01,  3.5850e+01,  7.4250e+01,  2.4900e+01, -9.0600e+01,\n",
              "       -1.7765e+02, -7.3050e+01, -1.5150e+01, -5.9750e+01, -1.9150e+01,\n",
              "        3.2150e+01, -9.5100e+01, -1.0380e+02,  3.2600e+01, -1.3800e+02,\n",
              "        1.7350e+01, -1.3475e+02,  8.5650e+01, -9.2750e+01,  1.7695e+02,\n",
              "        7.7200e+01, -1.8380e+02,  1.0355e+02,  1.8400e+01,  6.1000e+00,\n",
              "       -3.6900e+01, -9.8300e+01, -1.7735e+02,  8.8000e+01,  2.2850e+02,\n",
              "        4.7500e+01, -5.9250e+01, -9.7800e+01,  7.4950e+01, -2.2535e+02,\n",
              "        4.6750e+01,  3.2500e+00,  9.8300e+01,  5.6850e+01,  3.2650e+01,\n",
              "       -5.2900e+01,  9.3100e+01, -7.2400e+01, -1.8590e+02,  2.3050e+01,\n",
              "       -1.3585e+02,  5.6940e+02,  3.2600e+02, -1.2000e+01, -1.4800e+02,\n",
              "        1.3100e+02, -5.8800e+01, -3.7950e+01, -1.1455e+02, -4.5900e+01,\n",
              "       -1.3925e+02, -4.8350e+01,  1.8690e+02, -7.8750e+01,  7.0500e+01,\n",
              "        3.6100e+01,  8.7150e+01,  3.5700e+01,  1.2235e+02,  7.5500e+01,\n",
              "       -7.3500e+01,  1.5750e+01, -2.1500e+01,  1.3000e+00,  4.3250e+01,\n",
              "        1.5970e+02,  5.7250e+01,  3.3350e+01,  1.3150e+01,  5.0700e+01,\n",
              "       -2.4100e+01,  4.8850e+01,  4.6000e+01, -1.0390e+02,  5.3000e+00,\n",
              "       -7.3000e+01,  3.1650e+01,  2.3350e+01, -1.0950e+01,  5.5600e+01,\n",
              "        5.9000e+01, -3.0700e+01, -5.4000e+01,  1.5935e+02, -3.6050e+01,\n",
              "        6.3000e+01,  5.0450e+01, -9.5100e+01, -7.8500e+00, -5.4000e+01,\n",
              "        4.9000e+01, -2.4800e+01, -9.6900e+01,  1.6000e+01, -8.0700e+01,\n",
              "        5.3350e+01,  6.1650e+01,  1.1490e+02, -3.2750e+01,  1.1105e+02,\n",
              "        5.6650e+01,  3.8050e+01,  1.2100e+01, -9.0500e+00, -4.8200e+01,\n",
              "       -8.8000e+01,  1.1925e+02,  1.0050e+01, -8.7400e+01])"
            ]
          },
          "metadata": {
            "tags": []
          },
          "execution_count": 15
        }
      ]
    },
    {
      "cell_type": "code",
      "metadata": {
        "colab": {
          "base_uri": "https://localhost:8080/"
        },
        "id": "PB3Sj6kniT9y",
        "outputId": "b94f0f7a-7024-42e8-dd30-0d295eb5411f"
      },
      "source": [
        "np.sum((nifty.values[1:] - nifty.values[:-1]) > 0) / len(nifty)"
      ],
      "execution_count": null,
      "outputs": [
        {
          "output_type": "execute_result",
          "data": {
            "text/plain": [
              "0.5265306122448979"
            ]
          },
          "metadata": {
            "tags": []
          },
          "execution_count": 16
        }
      ]
    },
    {
      "cell_type": "markdown",
      "metadata": {
        "id": "1SeDxH3Dim8n"
      },
      "source": [
        "**Task 2**\n",
        "\n",
        "1. Compute moving average of the last 5 days.\n",
        "\n",
        "2. Subset the data to include only data for Fridays.\n"
      ]
    },
    {
      "cell_type": "code",
      "metadata": {
        "colab": {
          "base_uri": "https://localhost:8080/",
          "height": 35
        },
        "id": "JgzVkVFSiiO5",
        "outputId": "13e1271d-08e3-4e7e-c2ce-10953d6bb109"
      },
      "source": [
        "nifty.index[0]        #it is a string, so we will convert it to timestamp, to calculate 5 values"
      ],
      "execution_count": null,
      "outputs": [
        {
          "output_type": "execute_result",
          "data": {
            "application/vnd.google.colaboratory.intrinsic+json": {
              "type": "string"
            },
            "text/plain": [
              "'01-Jan-2019'"
            ]
          },
          "metadata": {
            "tags": []
          },
          "execution_count": 25
        }
      ]
    },
    {
      "cell_type": "code",
      "metadata": {
        "colab": {
          "base_uri": "https://localhost:8080/"
        },
        "id": "O_4QyN6AlCHS",
        "outputId": "5a67e75b-ff60-4034-bcc2-bdc31b8f67e4"
      },
      "source": [
        "pd.Timestamp(nifty.index[0])"
      ],
      "execution_count": null,
      "outputs": [
        {
          "output_type": "execute_result",
          "data": {
            "text/plain": [
              "Timestamp('2019-01-01 00:00:00')"
            ]
          },
          "metadata": {
            "tags": []
          },
          "execution_count": 26
        }
      ]
    },
    {
      "cell_type": "code",
      "metadata": {
        "colab": {
          "base_uri": "https://localhost:8080/"
        },
        "id": "TnfEdMIrlD1V",
        "outputId": "77106e79-cfcd-4aaf-c8c7-936fd611d185"
      },
      "source": [
        "d = pd.Timestamp(nifty.index[0])\n",
        "d.dayofweek           #advantage of using timestamp, monday is first day, so its tuesday"
      ],
      "execution_count": null,
      "outputs": [
        {
          "output_type": "execute_result",
          "data": {
            "text/plain": [
              "1"
            ]
          },
          "metadata": {
            "tags": []
          },
          "execution_count": 27
        }
      ]
    },
    {
      "cell_type": "code",
      "metadata": {
        "id": "jk_ueV9anO0X"
      },
      "source": [
        "new_index = map(pd.Timestamp, nifty.index)"
      ],
      "execution_count": null,
      "outputs": []
    },
    {
      "cell_type": "code",
      "metadata": {
        "colab": {
          "base_uri": "https://localhost:8080/"
        },
        "id": "FD2fVPCVni2U",
        "outputId": "8f8cf344-bf8d-4588-c0fb-953d201513c5"
      },
      "source": [
        "new_nifty = pd.Series(nifty, index= new_index)\n",
        "new_nifty"
      ],
      "execution_count": null,
      "outputs": [
        {
          "output_type": "execute_result",
          "data": {
            "text/plain": [
              "2019-01-01    10910.10\n",
              "2019-01-02    10792.50\n",
              "2019-01-03    10672.25\n",
              "2019-01-04    10727.35\n",
              "2019-01-07    10771.80\n",
              "                ...   \n",
              "2019-12-24    12214.55\n",
              "2019-12-26    12126.55\n",
              "2019-12-27    12245.80\n",
              "2019-12-30    12255.85\n",
              "2019-12-31    12168.45\n",
              "Name: Close, Length: 245, dtype: float64"
            ]
          },
          "metadata": {
            "tags": []
          },
          "execution_count": 33
        }
      ]
    },
    {
      "cell_type": "code",
      "metadata": {
        "colab": {
          "base_uri": "https://localhost:8080/"
        },
        "id": "DnINLBaKnsgO",
        "outputId": "f256ee10-0ff6-496c-b742-772018960c3c"
      },
      "source": [
        "#ques 1\n",
        "\n",
        "#A moving average, also called a rolling or running average, is used to analyze the time-series data \n",
        "#by calculating averages of different subsets of the complete dataset. \n",
        "#Since it involves taking the average of the dataset over time, it is also called a moving mean (MM) or rolling mean.\n",
        "\n",
        "#The moving average is mostly used with time series data to capture the short-term fluctuations while focusing on longer trends.\n",
        "\n",
        "new_nifty.rolling('5d').mean()"
      ],
      "execution_count": null,
      "outputs": [
        {
          "output_type": "execute_result",
          "data": {
            "text/plain": [
              "2019-01-01    10910.100000\n",
              "2019-01-02    10851.300000\n",
              "2019-01-03    10791.616667\n",
              "2019-01-04    10775.550000\n",
              "2019-01-07    10723.800000\n",
              "                  ...     \n",
              "2019-12-24    12249.700000\n",
              "2019-12-26    12201.283333\n",
              "2019-12-27    12212.412500\n",
              "2019-12-30    12209.400000\n",
              "2019-12-31    12223.366667\n",
              "Name: Close, Length: 245, dtype: float64"
            ]
          },
          "metadata": {
            "tags": []
          },
          "execution_count": 34
        }
      ]
    },
    {
      "cell_type": "code",
      "metadata": {
        "colab": {
          "base_uri": "https://localhost:8080/"
        },
        "id": "w9IO5Dqlp4Eu",
        "outputId": "a274f6b5-aba9-43df-c003-55c292352dc3"
      },
      "source": [
        "nifty.rolling(window= 5).mean()"
      ],
      "execution_count": null,
      "outputs": [
        {
          "output_type": "execute_result",
          "data": {
            "text/plain": [
              "Date\n",
              "01-Jan-2019         NaN\n",
              "02-Jan-2019         NaN\n",
              "03-Jan-2019         NaN\n",
              "04-Jan-2019         NaN\n",
              "07-Jan-2019    10774.80\n",
              "                 ...   \n",
              "24-Dec-2019    12246.09\n",
              "26-Dec-2019    12227.07\n",
              "27-Dec-2019    12224.29\n",
              "30-Dec-2019    12221.10\n",
              "31-Dec-2019    12202.24\n",
              "Name: Close, Length: 245, dtype: float64"
            ]
          },
          "metadata": {
            "tags": []
          },
          "execution_count": 35
        }
      ]
    },
    {
      "cell_type": "code",
      "metadata": {
        "id": "ZMHSSS0AqK8h"
      },
      "source": [
        "#ques 2\n",
        "\n",
        "dow = new_nifty.copy()\n",
        "for i in dow.index:\n",
        "  dow[i] = i.dayofweek"
      ],
      "execution_count": null,
      "outputs": []
    },
    {
      "cell_type": "code",
      "metadata": {
        "colab": {
          "base_uri": "https://localhost:8080/"
        },
        "id": "MFMVC-APqVr1",
        "outputId": "1975dd90-540d-4658-b993-e6ada9580703"
      },
      "source": [
        "dow"
      ],
      "execution_count": null,
      "outputs": [
        {
          "output_type": "execute_result",
          "data": {
            "text/plain": [
              "2019-01-01    1.0\n",
              "2019-01-02    2.0\n",
              "2019-01-03    3.0\n",
              "2019-01-04    4.0\n",
              "2019-01-07    0.0\n",
              "             ... \n",
              "2019-12-24    1.0\n",
              "2019-12-26    3.0\n",
              "2019-12-27    4.0\n",
              "2019-12-30    0.0\n",
              "2019-12-31    1.0\n",
              "Name: Close, Length: 245, dtype: float64"
            ]
          },
          "metadata": {
            "tags": []
          },
          "execution_count": 38
        }
      ]
    },
    {
      "cell_type": "code",
      "metadata": {
        "colab": {
          "base_uri": "https://localhost:8080/"
        },
        "id": "TmfFye6Qqpu0",
        "outputId": "6576b973-9c5b-4929-9225-71bde8f5ce20"
      },
      "source": [
        "new_nifty[dow == 4]   #for friday"
      ],
      "execution_count": null,
      "outputs": [
        {
          "output_type": "execute_result",
          "data": {
            "text/plain": [
              "2019-01-04    10727.35\n",
              "2019-01-11    10794.95\n",
              "2019-01-18    10906.95\n",
              "2019-01-25    10780.55\n",
              "2019-02-01    10893.65\n",
              "2019-02-08    10943.60\n",
              "2019-02-15    10724.40\n",
              "2019-02-22    10791.65\n",
              "2019-03-01    10863.50\n",
              "2019-03-08    11035.40\n",
              "2019-03-15    11426.85\n",
              "2019-03-22    11456.90\n",
              "2019-03-29    11623.90\n",
              "2019-04-05    11665.95\n",
              "2019-04-12    11643.45\n",
              "2019-04-26    11754.65\n",
              "2019-05-03    11712.25\n",
              "2019-05-10    11278.90\n",
              "2019-05-17    11407.15\n",
              "2019-05-24    11844.10\n",
              "2019-05-31    11922.80\n",
              "2019-06-07    11870.65\n",
              "2019-06-14    11823.30\n",
              "2019-06-21    11724.10\n",
              "2019-06-28    11788.85\n",
              "2019-07-05    11811.15\n",
              "2019-07-12    11552.50\n",
              "2019-07-19    11419.25\n",
              "2019-07-26    11284.30\n",
              "2019-08-02    10997.35\n",
              "2019-08-09    11109.65\n",
              "2019-08-16    11047.80\n",
              "2019-08-23    10829.35\n",
              "2019-08-30    11023.25\n",
              "2019-09-06    10946.20\n",
              "2019-09-13    11075.90\n",
              "2019-09-20    11274.20\n",
              "2019-09-27    11512.40\n",
              "2019-10-04    11174.75\n",
              "2019-10-11    11305.05\n",
              "2019-10-18    11661.85\n",
              "2019-10-25    11583.90\n",
              "2019-11-01    11890.60\n",
              "2019-11-08    11908.15\n",
              "2019-11-15    11895.45\n",
              "2019-11-22    11914.40\n",
              "2019-11-29    12056.05\n",
              "2019-12-06    11921.50\n",
              "2019-12-13    12086.70\n",
              "2019-12-20    12271.80\n",
              "2019-12-27    12245.80\n",
              "Name: Close, dtype: float64"
            ]
          },
          "metadata": {
            "tags": []
          },
          "execution_count": 39
        }
      ]
    }
  ]
}