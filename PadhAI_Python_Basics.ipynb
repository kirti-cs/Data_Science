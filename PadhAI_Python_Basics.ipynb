{
  "nbformat": 4,
  "nbformat_minor": 0,
  "metadata": {
    "colab": {
      "name": "PadhAI_Python_Basics.ipynb",
      "provenance": [],
      "authorship_tag": "ABX9TyNg7f5jQ8ZxcqKlWIGc8CQ/"
    },
    "kernelspec": {
      "name": "python3",
      "display_name": "Python 3"
    },
    "language_info": {
      "name": "python"
    }
  },
  "cells": [
    {
      "cell_type": "markdown",
      "metadata": {
        "id": "5Ur2BgDfuU-5"
      },
      "source": [
        "#Lists\n"
      ]
    },
    {
      "cell_type": "code",
      "metadata": {
        "id": "d694o19lrMf6"
      },
      "source": [
        "name = \"Foundation of Data Science\""
      ],
      "execution_count": null,
      "outputs": []
    },
    {
      "cell_type": "code",
      "metadata": {
        "id": "fAD677eAud8n"
      },
      "source": [
        "words = name.split()"
      ],
      "execution_count": null,
      "outputs": []
    },
    {
      "cell_type": "code",
      "metadata": {
        "colab": {
          "base_uri": "https://localhost:8080/"
        },
        "id": "uvDbd4pcuh3W",
        "outputId": "99a88a93-0873-4bd1-f9c6-5646da0d4a30"
      },
      "source": [
        "print(words)"
      ],
      "execution_count": null,
      "outputs": [
        {
          "output_type": "stream",
          "text": [
            "['Foundation', 'of', 'Data', 'Science']\n"
          ],
          "name": "stdout"
        }
      ]
    },
    {
      "cell_type": "code",
      "metadata": {
        "colab": {
          "base_uri": "https://localhost:8080/"
        },
        "id": "l6apVJqSukvt",
        "outputId": "0d30d7fc-d471-4c61-b442-fd58eb462a3c"
      },
      "source": [
        "print(type(words))\n",
        "print(words[0])\n",
        "print(words[-2])\n",
        "print(words[-2].lower())\n",
        "print(words[2:4])  #return type - list"
      ],
      "execution_count": null,
      "outputs": [
        {
          "output_type": "stream",
          "text": [
            "<class 'list'>\n",
            "Foundation\n",
            "Data\n",
            "data\n",
            "['Data', 'Science']\n"
          ],
          "name": "stdout"
        }
      ]
    },
    {
      "cell_type": "code",
      "metadata": {
        "id": "pitOUE-kuwCk"
      },
      "source": [
        "words1 = [\"Machine\", \"Learning\", 7, 6.9, True]"
      ],
      "execution_count": null,
      "outputs": []
    },
    {
      "cell_type": "code",
      "metadata": {
        "colab": {
          "base_uri": "https://localhost:8080/"
        },
        "id": "PwRjtbEkwqd8",
        "outputId": "9be7703e-afaa-43a1-d00d-42c448d5f1c2"
      },
      "source": [
        "words1[0] = \"ML\"\n",
        "words1[1] = \"AI\"   #lists are mutable \n",
        "words1.append(\"22\")  #We can append in list too\n",
        "print(words1)"
      ],
      "execution_count": null,
      "outputs": [
        {
          "output_type": "stream",
          "text": [
            "['ML', 'AI', 7, 6.9, True, '22']\n"
          ],
          "name": "stdout"
        }
      ]
    },
    {
      "cell_type": "code",
      "metadata": {
        "colab": {
          "base_uri": "https://localhost:8080/"
        },
        "id": "xyVZzooTwWGw",
        "outputId": "47c1f8b6-d045-4890-ef0b-44ecb4077c18"
      },
      "source": [
        "for items in words1:\n",
        "  print(items, type(items))"
      ],
      "execution_count": null,
      "outputs": [
        {
          "output_type": "stream",
          "text": [
            "Machine <class 'str'>\n",
            "Learning <class 'str'>\n",
            "7 <class 'int'>\n",
            "6.9 <class 'float'>\n",
            "True <class 'bool'>\n"
          ],
          "name": "stdout"
        }
      ]
    },
    {
      "cell_type": "code",
      "metadata": {
        "colab": {
          "base_uri": "https://localhost:8080/"
        },
        "id": "8xgYOn_Tva8-",
        "outputId": "74cd7726-6f1a-4e04-f046-75de9c10e9da"
      },
      "source": [
        "fib = [1,1,2,3,5,8,13,21]\n",
        "for num in fib:\n",
        "  print(num+10)"
      ],
      "execution_count": null,
      "outputs": [
        {
          "output_type": "stream",
          "text": [
            "11\n",
            "11\n",
            "12\n",
            "13\n",
            "15\n",
            "18\n",
            "23\n",
            "31\n"
          ],
          "name": "stdout"
        }
      ]
    },
    {
      "cell_type": "code",
      "metadata": {
        "colab": {
          "base_uri": "https://localhost:8080/"
        },
        "id": "rVZuDt3uvqP-",
        "outputId": "bc3e026a-e0a9-430d-d507-2db696380d2e"
      },
      "source": [
        "length = len(fib)\n",
        "print(length)"
      ],
      "execution_count": null,
      "outputs": [
        {
          "output_type": "stream",
          "text": [
            "8\n"
          ],
          "name": "stdout"
        }
      ]
    },
    {
      "cell_type": "code",
      "metadata": {
        "colab": {
          "base_uri": "https://localhost:8080/"
        },
        "id": "BRmhy6O1v27t",
        "outputId": "1567f6ad-e50d-443f-8c58-d8d83041c3f2"
      },
      "source": [
        "for i in range(length):\n",
        "  print(i, fib[i])"
      ],
      "execution_count": null,
      "outputs": [
        {
          "output_type": "stream",
          "text": [
            "0 1\n",
            "1 1\n",
            "2 2\n",
            "3 3\n",
            "4 5\n",
            "5 8\n",
            "6 13\n",
            "7 21\n"
          ],
          "name": "stdout"
        }
      ]
    },
    {
      "cell_type": "code",
      "metadata": {
        "id": "8h_iH9pBv9Wq"
      },
      "source": [
        "bmi_dataset = [\n",
        "               [\"kirti\", 58, 1.79, False],\n",
        "               [\"somu\", 75, 1.75, True]\n",
        "]"
      ],
      "execution_count": null,
      "outputs": []
    },
    {
      "cell_type": "code",
      "metadata": {
        "colab": {
          "base_uri": "https://localhost:8080/"
        },
        "id": "7R2THjzn87t8",
        "outputId": "d5125e10-8441-4b9a-f066-d13ad8c7b330"
      },
      "source": [
        "print(bmi_dataset[0][2])"
      ],
      "execution_count": null,
      "outputs": [
        {
          "output_type": "stream",
          "text": [
            "1.79\n"
          ],
          "name": "stdout"
        }
      ]
    },
    {
      "cell_type": "code",
      "metadata": {
        "id": "0Lqrirto9Ff9"
      },
      "source": [
        "A = [1, 2]\n",
        "B = A   #just a reference, not a copy"
      ],
      "execution_count": null,
      "outputs": []
    },
    {
      "cell_type": "code",
      "metadata": {
        "colab": {
          "base_uri": "https://localhost:8080/"
        },
        "id": "O9lUiY4wITEL",
        "outputId": "2bf176c3-8e9b-4814-f3d1-3b9e0497cde3"
      },
      "source": [
        "A[0] = A[0] + A[1]\n",
        "print(A)"
      ],
      "execution_count": null,
      "outputs": [
        {
          "output_type": "stream",
          "text": [
            "[3, 2]\n"
          ],
          "name": "stdout"
        }
      ]
    },
    {
      "cell_type": "code",
      "metadata": {
        "colab": {
          "base_uri": "https://localhost:8080/"
        },
        "id": "jIl4PQvTIZ_H",
        "outputId": "dd2410c7-bf31-4324-c00e-52c304b3eeb1"
      },
      "source": [
        "print(B)"
      ],
      "execution_count": null,
      "outputs": [
        {
          "output_type": "stream",
          "text": [
            "[3, 2]\n"
          ],
          "name": "stdout"
        }
      ]
    },
    {
      "cell_type": "code",
      "metadata": {
        "colab": {
          "base_uri": "https://localhost:8080/"
        },
        "id": "Ius888wOIbOM",
        "outputId": "3ce90030-0cc8-4c85-e734-36f3e905eebd"
      },
      "source": [
        "#how to make a deep copy\n",
        "\n",
        "B = [item for item in A]\n",
        "print(B)\n",
        "A.append(4)\n",
        "print(A)\n",
        "print(B)"
      ],
      "execution_count": null,
      "outputs": [
        {
          "output_type": "stream",
          "text": [
            "[3, 2]\n",
            "[3, 2, 4]\n",
            "[3, 2]\n"
          ],
          "name": "stdout"
        }
      ]
    },
    {
      "cell_type": "markdown",
      "metadata": {
        "id": "_dyDszjgJh83"
      },
      "source": [
        "##Exercise for Lists\n",
        "Given A = [\n",
        "            [1, 1],\n",
        "            [1, 0]\n",
        "          ]\n",
        "Compute A**n"
      ]
    },
    {
      "cell_type": "code",
      "metadata": {
        "id": "7Yt-PifJJe8u"
      },
      "source": [
        "A = [\n",
        "     [1, 1],\n",
        "     [1, 0]\n",
        "]\n"
      ],
      "execution_count": null,
      "outputs": []
    },
    {
      "cell_type": "code",
      "metadata": {
        "id": "v5dj5F88Kv-c"
      },
      "source": [
        ""
      ],
      "execution_count": null,
      "outputs": []
    },
    {
      "cell_type": "code",
      "metadata": {
        "id": "n6cuAMQjK5M2"
      },
      "source": [
        "def square_matrix_power (A, n):\n",
        "  \n",
        "  tmp = [\n",
        "       [1, 1],\n",
        "       [1, 0]\n",
        "  ]\n",
        "  for i in range(2, n+1):\n",
        "    result = [\n",
        "            [0, 0],\n",
        "            [0, 0]\n",
        "    ]\n",
        "    #matrirx multiply\n",
        "    for m in range(len(A)):\n",
        "      for n in range(len(A)):\n",
        "        for k in range (len(A)):\n",
        "          result[m][n] += tmp[m][k] * A[k][n]\n",
        "    tmp = [ item[:] for item in result]\n",
        "  return tmp"
      ],
      "execution_count": null,
      "outputs": []
    },
    {
      "cell_type": "code",
      "metadata": {
        "colab": {
          "base_uri": "https://localhost:8080/"
        },
        "id": "s-y0fPb2dGh2",
        "outputId": "2aff641c-d882-4130-da97-eac0a8c9d59f"
      },
      "source": [
        "print(square_matrix_power(A,7))"
      ],
      "execution_count": null,
      "outputs": [
        {
          "output_type": "stream",
          "text": [
            "[[21, 13], [13, 8]]\n"
          ],
          "name": "stdout"
        }
      ]
    },
    {
      "cell_type": "markdown",
      "metadata": {
        "id": "cOMZTCzmhjQU"
      },
      "source": [
        "#Tuples and Sets"
      ]
    },
    {
      "cell_type": "code",
      "metadata": {
        "id": "EV0T_b25dLd3"
      },
      "source": [
        "bmi_cat = (\"Normal\", \"Underweight\", \"Overweight\")\n",
        "#tuples are immutable, unlike lists "
      ],
      "execution_count": null,
      "outputs": []
    },
    {
      "cell_type": "code",
      "metadata": {
        "colab": {
          "base_uri": "https://localhost:8080/",
          "height": 35
        },
        "id": "64rlZ7TKilWc",
        "outputId": "ed92e59c-f22f-431f-bfbc-994c21ee5d7f"
      },
      "source": [
        "bmi_cat[0]"
      ],
      "execution_count": null,
      "outputs": [
        {
          "output_type": "execute_result",
          "data": {
            "application/vnd.google.colaboratory.intrinsic+json": {
              "type": "string"
            },
            "text/plain": [
              "'Normal'"
            ]
          },
          "metadata": {
            "tags": []
          },
          "execution_count": 50
        }
      ]
    },
    {
      "cell_type": "code",
      "metadata": {
        "colab": {
          "base_uri": "https://localhost:8080/"
        },
        "id": "B-afqQT7ipAn",
        "outputId": "7b5f1d7c-5194-40e8-ac6f-612792346bac"
      },
      "source": [
        "bmi_cat.index(\"Normal\")"
      ],
      "execution_count": null,
      "outputs": [
        {
          "output_type": "execute_result",
          "data": {
            "text/plain": [
              "0"
            ]
          },
          "metadata": {
            "tags": []
          },
          "execution_count": 51
        }
      ]
    },
    {
      "cell_type": "code",
      "metadata": {
        "colab": {
          "base_uri": "https://localhost:8080/"
        },
        "id": "GvC7SNKXiyHB",
        "outputId": "815921d7-fa9b-4542-ec47-2928f5c9002d"
      },
      "source": [
        "print(\"Underweight\" in bmi_cat)"
      ],
      "execution_count": null,
      "outputs": [
        {
          "output_type": "stream",
          "text": [
            "True\n"
          ],
          "name": "stdout"
        }
      ]
    },
    {
      "cell_type": "code",
      "metadata": {
        "colab": {
          "base_uri": "https://localhost:8080/"
        },
        "id": "LGOaVeRQi3jE",
        "outputId": "ee28b666-75c2-44a9-818f-1f559b13c3e4"
      },
      "source": [
        "%%timeit  -n1 -r10    \n",
        "#timeit is magic command which tells how much times it takes to execute this block\n",
        "#n tells the no of times to iterate this\n",
        "#r argument tells to repeat this 10 times, and give min of it\n",
        "\n",
        "for i in range(10000000):\n",
        "  my_list = [\"Tuples\", \"are\", \"faster\", \"than\", \"lists\"]"
      ],
      "execution_count": null,
      "outputs": [
        {
          "output_type": "stream",
          "text": [
            "1 loop, best of 10: 781 ms per loop\n"
          ],
          "name": "stdout"
        }
      ]
    },
    {
      "cell_type": "code",
      "metadata": {
        "colab": {
          "base_uri": "https://localhost:8080/"
        },
        "id": "o-q3bDYUkPFV",
        "outputId": "c9e111fc-e11c-4faa-8d2e-9d4fc08cdd13"
      },
      "source": [
        "%%timeit -n1 -r10\n",
        "\n",
        "for i in range(10000000):\n",
        "  my_tuple = (\"Tuples\", \"are\", \"faster\", \"than\", \"lists\")"
      ],
      "execution_count": null,
      "outputs": [
        {
          "output_type": "stream",
          "text": [
            "1 loop, best of 10: 304 ms per loop\n"
          ],
          "name": "stdout"
        }
      ]
    },
    {
      "cell_type": "code",
      "metadata": {
        "colab": {
          "base_uri": "https://localhost:8080/"
        },
        "id": "_wHhAUGFkjzC",
        "outputId": "297e7676-3283-4f41-a006-df24492c451b"
      },
      "source": [
        "batsmen = {\"Rohit\",\"Virat\", \"Kohli\", \"Rahul\"}\n",
        "print(type(batsmen))"
      ],
      "execution_count": null,
      "outputs": [
        {
          "output_type": "stream",
          "text": [
            "<class 'set'>\n"
          ],
          "name": "stdout"
        }
      ]
    },
    {
      "cell_type": "code",
      "metadata": {
        "colab": {
          "base_uri": "https://localhost:8080/"
        },
        "id": "uWb2wLeck2bF",
        "outputId": "4f1762b3-46a8-4d5f-dce1-05e385bf503e"
      },
      "source": [
        "print(\"Rohit\" in batsmen)"
      ],
      "execution_count": null,
      "outputs": [
        {
          "output_type": "stream",
          "text": [
            "True\n"
          ],
          "name": "stdout"
        }
      ]
    },
    {
      "cell_type": "code",
      "metadata": {
        "colab": {
          "base_uri": "https://localhost:8080/",
          "height": 174
        },
        "id": "0B2sJRc1k7XS",
        "outputId": "80d434db-71ad-4e04-e9f5-0b948cebf09a"
      },
      "source": [
        "batsmen.index(\"Rohit\")"
      ],
      "execution_count": null,
      "outputs": [
        {
          "output_type": "error",
          "ename": "AttributeError",
          "evalue": "ignored",
          "traceback": [
            "\u001b[0;31m---------------------------------------------------------------------------\u001b[0m",
            "\u001b[0;31mAttributeError\u001b[0m                            Traceback (most recent call last)",
            "\u001b[0;32m<ipython-input-57-90ac87f4e015>\u001b[0m in \u001b[0;36m<module>\u001b[0;34m()\u001b[0m\n\u001b[0;32m----> 1\u001b[0;31m \u001b[0mbatsmen\u001b[0m\u001b[0;34m.\u001b[0m\u001b[0mindex\u001b[0m\u001b[0;34m(\u001b[0m\u001b[0;34m\"Rohit\"\u001b[0m\u001b[0;34m)\u001b[0m\u001b[0;34m\u001b[0m\u001b[0;34m\u001b[0m\u001b[0m\n\u001b[0m",
            "\u001b[0;31mAttributeError\u001b[0m: 'set' object has no attribute 'index'"
          ]
        }
      ]
    },
    {
      "cell_type": "code",
      "metadata": {
        "id": "qlQCl_QKk-SI"
      },
      "source": [
        "bowler = {\"Ishant\", \"Bumrah\", \"Ravindra\", \"Kohli\"}"
      ],
      "execution_count": null,
      "outputs": []
    },
    {
      "cell_type": "code",
      "metadata": {
        "colab": {
          "base_uri": "https://localhost:8080/"
        },
        "id": "iPVxRFGjlLE5",
        "outputId": "d26a3e38-da55-4122-e67e-a9ec43ccec62"
      },
      "source": [
        "all_rounder = batsmen.intersection(bowler)\n",
        "print(all_rounder)"
      ],
      "execution_count": null,
      "outputs": [
        {
          "output_type": "stream",
          "text": [
            "{'Kohli'}\n"
          ],
          "name": "stdout"
        }
      ]
    },
    {
      "cell_type": "code",
      "metadata": {
        "id": "pBEwhl8BlY0_"
      },
      "source": [
        "players = batsmen.union(bowler)"
      ],
      "execution_count": null,
      "outputs": []
    },
    {
      "cell_type": "code",
      "metadata": {
        "colab": {
          "base_uri": "https://localhost:8080/"
        },
        "id": "JM631vyBlkMp",
        "outputId": "47e93b9f-4260-4907-fb02-477f8ac2930e"
      },
      "source": [
        "print(players) #no duplicate items"
      ],
      "execution_count": null,
      "outputs": [
        {
          "output_type": "stream",
          "text": [
            "{'Bumrah', 'Ishant', 'Rohit', 'Ravindra', 'Virat', 'Rahul', 'Kohli'}\n"
          ],
          "name": "stdout"
        }
      ]
    },
    {
      "cell_type": "code",
      "metadata": {
        "colab": {
          "base_uri": "https://localhost:8080/"
        },
        "id": "uQWQqwDWllyU",
        "outputId": "450fd53c-7e60-4b03-cdcf-7d048d41446e"
      },
      "source": [
        "%%timeit -n1 -r10\n",
        "my_lst = list(range(1000000))\n",
        "for i in range(10000):\n",
        "  b = 1947 in my_lst"
      ],
      "execution_count": null,
      "outputs": [
        {
          "output_type": "stream",
          "text": [
            "1 loop, best of 10: 297 ms per loop\n"
          ],
          "name": "stdout"
        }
      ]
    },
    {
      "cell_type": "code",
      "metadata": {
        "colab": {
          "base_uri": "https://localhost:8080/"
        },
        "id": "cXzuUIS7l-hE",
        "outputId": "d606bc2c-5512-4d4d-c8b6-647a621868e3"
      },
      "source": [
        "%%timeit -n1 -r10\n",
        "my_tup = tuple(range(1000000))\n",
        "for i in range(10000):\n",
        "  b = 1947 in my_tup"
      ],
      "execution_count": null,
      "outputs": [
        {
          "output_type": "stream",
          "text": [
            "1 loop, best of 10: 275 ms per loop\n"
          ],
          "name": "stdout"
        }
      ]
    },
    {
      "cell_type": "code",
      "metadata": {
        "colab": {
          "base_uri": "https://localhost:8080/"
        },
        "id": "jnM8oxuImIXl",
        "outputId": "e9897a73-8d1b-4fe3-ea1f-dcc376b4c19f"
      },
      "source": [
        "%%timeit -n1 -r10\n",
        "my_set = set(range(1000000))\n",
        "for i in range(10000):\n",
        "  b = 1947 in my_set\n",
        "\n",
        "#sets are very much faster than list or tuples"
      ],
      "execution_count": null,
      "outputs": [
        {
          "output_type": "stream",
          "text": [
            "1 loop, best of 10: 55.8 ms per loop\n"
          ],
          "name": "stdout"
        }
      ]
    },
    {
      "cell_type": "markdown",
      "metadata": {
        "id": "zEWHME87mmBJ"
      },
      "source": [
        "#Dictionary"
      ]
    },
    {
      "cell_type": "code",
      "metadata": {
        "id": "V2RMDKDrmNr8"
      },
      "source": [
        "bmi_dataset = [\n",
        "               [\"kirti\", 58, 1.79, False],\n",
        "               [\"somu\", 75, 1.75, True]\n",
        "]\n",
        "\n",
        "bmi_record = {\n",
        "    \"Name\": \"Kirti\",\n",
        "    \"Weight\": 58,\n",
        "    \"Height\": 1.79,\n",
        "    \"is_overweight\": False\n",
        "}"
      ],
      "execution_count": null,
      "outputs": []
    },
    {
      "cell_type": "code",
      "metadata": {
        "colab": {
          "base_uri": "https://localhost:8080/"
        },
        "id": "xzY6x32onTeF",
        "outputId": "c3b90cf5-3047-4a6b-a6b1-cd305ac1cf84"
      },
      "source": [
        "print(type(bmi_record))"
      ],
      "execution_count": null,
      "outputs": [
        {
          "output_type": "stream",
          "text": [
            "<class 'dict'>\n"
          ],
          "name": "stdout"
        }
      ]
    },
    {
      "cell_type": "code",
      "metadata": {
        "colab": {
          "base_uri": "https://localhost:8080/"
        },
        "id": "gYsE77qrnaF_",
        "outputId": "d33fbcfe-280a-401d-fee8-85093b829086"
      },
      "source": [
        "bmi_record[\"Height\"]"
      ],
      "execution_count": null,
      "outputs": [
        {
          "output_type": "execute_result",
          "data": {
            "text/plain": [
              "1.79"
            ]
          },
          "metadata": {
            "tags": []
          },
          "execution_count": 70
        }
      ]
    },
    {
      "cell_type": "code",
      "metadata": {
        "colab": {
          "base_uri": "https://localhost:8080/"
        },
        "id": "Vnm0nGr9neRT",
        "outputId": "d8a67c0b-18d0-419a-9c57-cbe160704548"
      },
      "source": [
        "bmi_record[\"Email\"] = \"hello@noidea.com\"\n",
        "print(bmi_record)"
      ],
      "execution_count": null,
      "outputs": [
        {
          "output_type": "stream",
          "text": [
            "{'Name': 'Kirti', 'Weight': 58, 'Height': 1.79, 'is_overweight': False, 'Email': 'hello@noidea.com'}\n"
          ],
          "name": "stdout"
        }
      ]
    },
    {
      "cell_type": "code",
      "metadata": {
        "colab": {
          "base_uri": "https://localhost:8080/"
        },
        "id": "_M_ajD2En0IB",
        "outputId": "8daeeb58-c23c-4b9e-cc12-d71c2465ef95"
      },
      "source": [
        "for key in bmi_record:\n",
        "  print(key, \":\", bmi_record[key])"
      ],
      "execution_count": null,
      "outputs": [
        {
          "output_type": "stream",
          "text": [
            "Name : Kirti\n",
            "Weight : 58\n",
            "Height : 1.79\n",
            "is_overweight : False\n",
            "Email : hello@noidea.com\n"
          ],
          "name": "stdout"
        }
      ]
    },
    {
      "cell_type": "code",
      "metadata": {
        "colab": {
          "base_uri": "https://localhost:8080/"
        },
        "id": "B0dEo66Fn_cN",
        "outputId": "279daf9a-ece7-4b1d-d4ca-2243aa193e3c"
      },
      "source": [
        "print(bmi_record.keys())"
      ],
      "execution_count": null,
      "outputs": [
        {
          "output_type": "stream",
          "text": [
            "dict_keys(['Name', 'Weight', 'Height', 'is_overweight', 'Email'])\n"
          ],
          "name": "stdout"
        }
      ]
    },
    {
      "cell_type": "code",
      "metadata": {
        "id": "p1XS9WVEoORR"
      },
      "source": [
        "bmi_record1 = {\n",
        "    \"Name\": \"Somu\",\n",
        "    \"Weight\": 75,\n",
        "    \"Height\": 1.73,\n",
        "    \"is_overweight\": True,\n",
        "    \"Email\": \"bye@noidea.com\"\n",
        "}"
      ],
      "execution_count": null,
      "outputs": []
    },
    {
      "cell_type": "code",
      "metadata": {
        "colab": {
          "base_uri": "https://localhost:8080/"
        },
        "id": "4caXAppyokE1",
        "outputId": "2ebc7f4a-e934-4c18-d18f-083ed3a2c5bf"
      },
      "source": [
        "bmi_data = [bmi_record, bmi_record1]\n",
        "print(bmi_data)"
      ],
      "execution_count": null,
      "outputs": [
        {
          "output_type": "stream",
          "text": [
            "[{'Name': 'Kirti', 'Weight': 58, 'Height': 1.79, 'is_overweight': False, 'Email': 'hello@noidea.com'}, {'Name': 'Somu', 'Weight': 75, 'Height': 1.73, 'is_overweight': True, 'Email': 'bye@noidea.com'}]\n"
          ],
          "name": "stdout"
        }
      ]
    },
    {
      "cell_type": "markdown",
      "metadata": {
        "id": "EAy98CqDpBja"
      },
      "source": [
        "##Exercise for Dictionary\n",
        "\n",
        "Receive the user input that says something like \"I went to Parliament\" or \"Why no to Wankhede\". Youthen substitute the POI (Point of Interest) by it's lat and long coordinates of that POI. "
      ]
    },
    {
      "cell_type": "code",
      "metadata": {
        "id": "IYW3PMmVotih"
      },
      "source": [
        "pois = {\n",
        "    \"Parliament\": \"28° 37' 2\\\" North, 77° 12' 29\\\" East\",\n",
        "    \"Wankhede\": \"18° 56' 19\\\" North, 72° 49' 31\\\" East\",\n",
        "    \"Nalanda\": \"25° 8' 12\\\" North, 85° 26' 38\\\" East\",\n",
        "    \"Mahabalipuram\": \"12° 37' 21.817\\\" North, 80° 11' 38.080\\\" East\"\n",
        "}"
      ],
      "execution_count": null,
      "outputs": []
    },
    {
      "cell_type": "code",
      "metadata": {
        "colab": {
          "base_uri": "https://localhost:8080/"
        },
        "id": "eP2F0e9OsbQf",
        "outputId": "1b1d5cbd-36bf-4316-dfc7-8a8e5ee361f8"
      },
      "source": [
        "user_txt = input(\"\")"
      ],
      "execution_count": null,
      "outputs": [
        {
          "output_type": "stream",
          "text": [
            "I went to Wankhede\n"
          ],
          "name": "stdout"
        }
      ]
    },
    {
      "cell_type": "code",
      "metadata": {
        "id": "V94T4uAbssAB"
      },
      "source": [
        "words= user_txt.split()\n",
        "out = \"\"\n",
        "for word in words:\n",
        "  if word in pois:\n",
        "    out += pois[word]\n",
        "  else:\n",
        "    out += word\n",
        "  out += \" \""
      ],
      "execution_count": null,
      "outputs": []
    },
    {
      "cell_type": "code",
      "metadata": {
        "colab": {
          "base_uri": "https://localhost:8080/"
        },
        "id": "5shSO9AktB7J",
        "outputId": "3d78105c-27e7-4a8e-b69e-66eac0b97797"
      },
      "source": [
        "print(out)"
      ],
      "execution_count": null,
      "outputs": [
        {
          "output_type": "stream",
          "text": [
            "I went to 18° 56' 19\" North, 72° 49' 31\" East \n"
          ],
          "name": "stdout"
        }
      ]
    },
    {
      "cell_type": "code",
      "metadata": {
        "colab": {
          "base_uri": "https://localhost:8080/"
        },
        "id": "echfHzVTtLX3",
        "outputId": "03ea9bb8-f263-46b9-d97a-2cd436b5fca9"
      },
      "source": [
        "#Way --2\n",
        "output =\"\"\n",
        "for word in words:\n",
        "  output += (pois.get(word, word) + \" \")   #get() returns the value for the key if available, else the default value given\n",
        "print(output)"
      ],
      "execution_count": null,
      "outputs": [
        {
          "output_type": "stream",
          "text": [
            "I went to 18° 56' 19\" North, 72° 49' 31\" East \n"
          ],
          "name": "stdout"
        }
      ]
    },
    {
      "cell_type": "markdown",
      "metadata": {
        "id": "xLDyiQCqu4PK"
      },
      "source": [
        "#Files\n",
        "\n",
        "In poem.txt, we have-\n",
        "\n",
        "Unending Love by Rabindranath Tagore\n",
        "\n",
        "I seem to have loved you in numberless forms, numberless times\n",
        "In life after life, in age after age, forever.\n",
        "My spellbound heart has made and remade the necklace of songs,\n",
        "That you take as a gift, wear round your neck in your many forms,\n",
        "In life after life, in age after age, forever.\n",
        "\n",
        "Whenever I hear old chronicles of love, its age-old pain,\n",
        "Its ancient tale of being apart or together.\n",
        "As I stare on and on into the past, in the end you emerge,\n",
        "Clad in the light of a pole-star piercing the darkness of time:\n",
        "You become an image of what is remembered forever.\n",
        "\n",
        "You and I have floated here on the stream that brings from the fount.\n",
        "At the heart of time, love of one for another.\n",
        "We have played along side millions of lovers, shared in the same\n",
        "Shy sweetness of meeting, the same distressful tears of farewell-\n",
        "Old love but in shapes that renew and renew forever.\n",
        "\n",
        "Today it is heaped at your feet, it has found its end in you\n",
        "The love of all man's days both past and forever:\n",
        "Universal joy, universal sorrow, universal life.\n",
        "The memories of all loves merging with this one love of ours'\n",
        "And the songs of every poet past and forever."
      ]
    },
    {
      "cell_type": "code",
      "metadata": {
        "id": "oppdJVAEtw9_"
      },
      "source": [
        "f = open(\"poem.txt\", \"r\")"
      ],
      "execution_count": null,
      "outputs": []
    },
    {
      "cell_type": "code",
      "metadata": {
        "colab": {
          "base_uri": "https://localhost:8080/"
        },
        "id": "euOB1e2dwbZW",
        "outputId": "2451aed4-337b-4f5f-9b43-9722f2b0b6b5"
      },
      "source": [
        "print(f)"
      ],
      "execution_count": null,
      "outputs": [
        {
          "output_type": "stream",
          "text": [
            "<_io.TextIOWrapper name='poem.txt' mode='r' encoding='UTF-8'>\n"
          ],
          "name": "stdout"
        }
      ]
    },
    {
      "cell_type": "code",
      "metadata": {
        "colab": {
          "base_uri": "https://localhost:8080/"
        },
        "id": "skqzWXuJwdrx",
        "outputId": "dba42f3f-451d-455e-b2c9-78c1345b4c50"
      },
      "source": [
        "output = f.read()\n",
        "print(output)"
      ],
      "execution_count": null,
      "outputs": [
        {
          "output_type": "stream",
          "text": [
            "Unending Love by Rabindranath Tagore\n",
            "\n",
            "I seem to have loved you in numberless forms, numberless times\n",
            "In life after life, in age after age, forever.\n",
            "My spellbound heart has made and remade the necklace of songs,\n",
            "That you take as a gift, wear round your neck in your many forms,\n",
            "In life after life, in age after age, forever.\n",
            "\n",
            "Whenever I hear old chronicles of love, its age-old pain,\n",
            "Its ancient tale of being apart or together.\n",
            "As I stare on and on into the past, in the end you emerge,\n",
            "Clad in the light of a pole-star piercing the darkness of time:\n",
            "You become an image of what is remembered forever.\n",
            "\n",
            "You and I have floated here on the stream that brings from the fount.\n",
            "At the heart of time, love of one for another.\n",
            "We have played along side millions of lovers, shared in the same\n",
            "Shy sweetness of meeting, the same distressful tears of farewell-\n",
            "Old love but in shapes that renew and renew forever.\n",
            "\n",
            "Today it is heaped at your feet, it has found its end in you\n",
            "The love of all manâ€™s days both past and forever:\n",
            "Universal joy, universal sorrow, universal life.\n",
            "The memories of all loves merging with this one love of ours â€“\n",
            "And the songs of every poet past and forever.\n"
          ],
          "name": "stdout"
        }
      ]
    },
    {
      "cell_type": "code",
      "metadata": {
        "colab": {
          "base_uri": "https://localhost:8080/"
        },
        "id": "6PtYXCpFwjGh",
        "outputId": "4c131f39-007f-417a-d78e-04e6da7e57fe"
      },
      "source": [
        "f = open(\"poem.txt\", \"r\")\n",
        "out_line = f.readline()\n",
        "print(out_line)"
      ],
      "execution_count": null,
      "outputs": [
        {
          "output_type": "stream",
          "text": [
            "Unending Love by Rabindranath Tagore\n",
            "\n"
          ],
          "name": "stdout"
        }
      ]
    },
    {
      "cell_type": "code",
      "metadata": {
        "colab": {
          "base_uri": "https://localhost:8080/"
        },
        "id": "X6qB_qATwxdD",
        "outputId": "4f1ef7fa-4127-410b-b7b0-3fe4dcb6e67e"
      },
      "source": [
        "out_lines = f.readlines()\n",
        "print(out_lines)"
      ],
      "execution_count": null,
      "outputs": [
        {
          "output_type": "stream",
          "text": [
            "['\\n', 'I seem to have loved you in numberless forms, numberless times\\n', 'In life after life, in age after age, forever.\\n', 'My spellbound heart has made and remade the necklace of songs,\\n', 'That you take as a gift, wear round your neck in your many forms,\\n', 'In life after life, in age after age, forever.\\n', '\\n', 'Whenever I hear old chronicles of love, its age-old pain,\\n', 'Its ancient tale of being apart or together.\\n', 'As I stare on and on into the past, in the end you emerge,\\n', 'Clad in the light of a pole-star piercing the darkness of time:\\n', 'You become an image of what is remembered forever.\\n', '\\n', 'You and I have floated here on the stream that brings from the fount.\\n', 'At the heart of time, love of one for another.\\n', 'We have played along side millions of lovers, shared in the same\\n', 'Shy sweetness of meeting, the same distressful tears of farewell-\\n', 'Old love but in shapes that renew and renew forever.\\n', '\\n', 'Today it is heaped at your feet, it has found its end in you\\n', \"The love of all man's days both past and forever:\\n\", 'Universal joy, universal sorrow, universal life.\\n', \"The memories of all loves merging with this one love of ours'\\n\", 'And the songs of every poet past and forever.']\n"
          ],
          "name": "stdout"
        }
      ]
    },
    {
      "cell_type": "code",
      "metadata": {
        "id": "SrW4tmOQxE8b"
      },
      "source": [
        "f.close()"
      ],
      "execution_count": null,
      "outputs": []
    },
    {
      "cell_type": "code",
      "metadata": {
        "colab": {
          "base_uri": "https://localhost:8080/"
        },
        "id": "oQ0ucjoXxI4B",
        "outputId": "b7359fb3-31de-4a98-9718-7270399f78c7"
      },
      "source": [
        "with open(\"poem.txt\", \"r\") as f:\n",
        "  out_lines = f.readlines()\n",
        "  print(out_lines)\n",
        "#This only opens file for this block only"
      ],
      "execution_count": null,
      "outputs": [
        {
          "output_type": "stream",
          "text": [
            "['Unending Love by Rabindranath Tagore\\n', '\\n', 'I seem to have loved you in numberless forms, numberless times\\n', 'In life after life, in age after age, forever.\\n', 'My spellbound heart has made and remade the necklace of songs,\\n', 'That you take as a gift, wear round your neck in your many forms,\\n', 'In life after life, in age after age, forever.\\n', '\\n', 'Whenever I hear old chronicles of love, its age-old pain,\\n', 'Its ancient tale of being apart or together.\\n', 'As I stare on and on into the past, in the end you emerge,\\n', 'Clad in the light of a pole-star piercing the darkness of time:\\n', 'You become an image of what is remembered forever.\\n', '\\n', 'You and I have floated here on the stream that brings from the fount.\\n', 'At the heart of time, love of one for another.\\n', 'We have played along side millions of lovers, shared in the same\\n', 'Shy sweetness of meeting, the same distressful tears of farewell-\\n', 'Old love but in shapes that renew and renew forever.\\n', '\\n', 'Today it is heaped at your feet, it has found its end in you\\n', \"The love of all man's days both past and forever:\\n\", 'Universal joy, universal sorrow, universal life.\\n', \"The memories of all loves merging with this one love of ours'\\n\", 'And the songs of every poet past and forever.']\n"
          ],
          "name": "stdout"
        }
      ]
    },
    {
      "cell_type": "code",
      "metadata": {
        "colab": {
          "base_uri": "https://localhost:8080/"
        },
        "id": "D57BwKDfxkb4",
        "outputId": "7b2b6d4f-e574-45a5-8f89-bf6bc270329d"
      },
      "source": [
        "i = 0\n",
        "for line in out_lines:\n",
        "  print(i, \"\\t\", line.strip())\n",
        "  i += 1"
      ],
      "execution_count": null,
      "outputs": [
        {
          "output_type": "stream",
          "text": [
            "0 \t Unending Love by Rabindranath Tagore\n",
            "1 \t \n",
            "2 \t I seem to have loved you in numberless forms, numberless times\n",
            "3 \t In life after life, in age after age, forever.\n",
            "4 \t My spellbound heart has made and remade the necklace of songs,\n",
            "5 \t That you take as a gift, wear round your neck in your many forms,\n",
            "6 \t In life after life, in age after age, forever.\n",
            "7 \t \n",
            "8 \t Whenever I hear old chronicles of love, its age-old pain,\n",
            "9 \t Its ancient tale of being apart or together.\n",
            "10 \t As I stare on and on into the past, in the end you emerge,\n",
            "11 \t Clad in the light of a pole-star piercing the darkness of time:\n",
            "12 \t You become an image of what is remembered forever.\n",
            "13 \t \n",
            "14 \t You and I have floated here on the stream that brings from the fount.\n",
            "15 \t At the heart of time, love of one for another.\n",
            "16 \t We have played along side millions of lovers, shared in the same\n",
            "17 \t Shy sweetness of meeting, the same distressful tears of farewell-\n",
            "18 \t Old love but in shapes that renew and renew forever.\n",
            "19 \t \n",
            "20 \t Today it is heaped at your feet, it has found its end in you\n",
            "21 \t The love of all man's days both past and forever:\n",
            "22 \t Universal joy, universal sorrow, universal life.\n",
            "23 \t The memories of all loves merging with this one love of ours'\n",
            "24 \t And the songs of every poet past and forever.\n"
          ],
          "name": "stdout"
        }
      ]
    },
    {
      "cell_type": "code",
      "metadata": {
        "id": "HwvtrMXoz5uS"
      },
      "source": [
        "f_out = open(\"fav.txt\", \"w\")"
      ],
      "execution_count": null,
      "outputs": []
    },
    {
      "cell_type": "code",
      "metadata": {
        "id": "yT1pawoN0ptY"
      },
      "source": [
        "f_out.writelines(out_lines[2])\n",
        "#it is only be shown when file will be closed"
      ],
      "execution_count": null,
      "outputs": []
    },
    {
      "cell_type": "code",
      "metadata": {
        "id": "-RjavdLd0yXZ"
      },
      "source": [
        "f_out.close()"
      ],
      "execution_count": null,
      "outputs": []
    },
    {
      "cell_type": "code",
      "metadata": {
        "id": "mgTd_UGB0_jC"
      },
      "source": [
        "fav_lines = [2, 22]\n",
        "with open(\"fav.txt\", \"w\") as f_out:\n",
        "  for fav_line in fav_lines:\n",
        "\n",
        "    f_out.writelines(out_lines[fav_line])"
      ],
      "execution_count": null,
      "outputs": []
    },
    {
      "cell_type": "markdown",
      "metadata": {
        "id": "H2Nj_E_U2ZOA"
      },
      "source": [
        "#Exercises\n",
        "1. Create dictionary of all words as key, and no of times they repepated as the values\n",
        "2. Give top 10 most frequent words\n",
        "3. Give top five 2-grams words"
      ]
    },
    {
      "cell_type": "code",
      "metadata": {
        "colab": {
          "base_uri": "https://localhost:8080/"
        },
        "id": "RSdJyn_a1wf5",
        "outputId": "b0844cdd-0c21-403b-95a6-d777cfc70084"
      },
      "source": [
        "#ques 1\n",
        "word_dic = {}\n",
        "# i = 0\n",
        "for line in out_lines:\n",
        "  line = line.strip().split()\n",
        "  for word in line:\n",
        "      if (word in word_dic.keys()):\n",
        "        word_dic[word] += 1\n",
        "      else:\n",
        "        word_dic[word] = 1\n",
        "\n",
        "\n",
        "\n",
        "print(word_dic)"
      ],
      "execution_count": null,
      "outputs": [
        {
          "output_type": "stream",
          "text": [
            "{'Unending': 1, 'Love': 1, 'by': 1, 'Rabindranath': 1, 'Tagore': 1, 'I': 4, 'seem': 1, 'to': 1, 'have': 3, 'loved': 1, 'you': 4, 'in': 9, 'numberless': 2, 'forms,': 2, 'times': 1, 'In': 2, 'life': 2, 'after': 4, 'life,': 2, 'age': 2, 'age,': 2, 'forever.': 5, 'My': 1, 'spellbound': 1, 'heart': 2, 'has': 2, 'made': 1, 'and': 6, 'remade': 1, 'the': 11, 'necklace': 1, 'of': 15, 'songs,': 1, 'That': 1, 'take': 1, 'as': 1, 'a': 2, 'gift,': 1, 'wear': 1, 'round': 1, 'your': 3, 'neck': 1, 'many': 1, 'Whenever': 1, 'hear': 1, 'old': 1, 'chronicles': 1, 'love,': 1, 'its': 2, 'age-old': 1, 'pain,': 1, 'Its': 1, 'ancient': 1, 'tale': 1, 'being': 1, 'apart': 1, 'or': 1, 'together.': 1, 'As': 1, 'stare': 1, 'on': 3, 'into': 1, 'past,': 1, 'end': 2, 'emerge,': 1, 'Clad': 1, 'light': 1, 'pole-star': 1, 'piercing': 1, 'darkness': 1, 'time:': 1, 'You': 2, 'become': 1, 'an': 1, 'image': 1, 'what': 1, 'is': 2, 'remembered': 1, 'floated': 1, 'here': 1, 'stream': 1, 'that': 2, 'brings': 1, 'from': 1, 'fount.': 1, 'At': 1, 'time,': 1, 'love': 4, 'one': 2, 'for': 1, 'another.': 1, 'We': 1, 'played': 1, 'along': 1, 'side': 1, 'millions': 1, 'lovers,': 1, 'shared': 1, 'same': 2, 'Shy': 1, 'sweetness': 1, 'meeting,': 1, 'distressful': 1, 'tears': 1, 'farewell-': 1, 'Old': 1, 'but': 1, 'shapes': 1, 'renew': 2, 'Today': 1, 'it': 2, 'heaped': 1, 'at': 1, 'feet,': 1, 'found': 1, 'The': 2, 'all': 2, \"man's\": 1, 'days': 1, 'both': 1, 'past': 2, 'forever:': 1, 'Universal': 1, 'joy,': 1, 'universal': 2, 'sorrow,': 1, 'life.': 1, 'memories': 1, 'loves': 1, 'merging': 1, 'with': 1, 'this': 1, \"ours'\": 1, 'And': 1, 'songs': 1, 'every': 1, 'poet': 1}\n"
          ],
          "name": "stdout"
        }
      ]
    },
    {
      "cell_type": "code",
      "metadata": {
        "colab": {
          "base_uri": "https://localhost:8080/"
        },
        "id": "KX4K8r0_qgmj",
        "outputId": "4a524203-57a0-495b-c1f5-108d1ab2edfd"
      },
      "source": [
        "#ques 2\n",
        "frequency = dict(sorted(word_dic.items(), key = lambda x: x[1], reverse = True)[:10])\n",
        "print(frequency)"
      ],
      "execution_count": null,
      "outputs": [
        {
          "output_type": "stream",
          "text": [
            "{'of': 15, 'the': 11, 'in': 9, 'and': 6, 'forever.': 5, 'I': 4, 'you': 4, 'after': 4, 'love': 4, 'have': 3}\n"
          ],
          "name": "stdout"
        }
      ]
    },
    {
      "cell_type": "code",
      "metadata": {
        "colab": {
          "base_uri": "https://localhost:8080/"
        },
        "id": "lEW0kphewHxE",
        "outputId": "25d642d6-761e-4993-8cc7-33203cfae307"
      },
      "source": [
        "#ques 3\n",
        "two_grams ={}\n",
        "\n",
        "for line in out_lines:\n",
        "  line = line.strip().split()\n",
        "  n = len(line)\n",
        "  for i in range(n-1):\n",
        "      two_g = line[i] + \" \" + line[i+1]\n",
        "      if (two_g in two_grams.keys()):\n",
        "        two_grams[two_g] += 1\n",
        "      else:\n",
        "        two_grams[two_g] = 1\n",
        "\n",
        "print(two_grams)"
      ],
      "execution_count": null,
      "outputs": [
        {
          "output_type": "stream",
          "text": [
            "{'Unending Love': 1, 'Love by': 1, 'by Rabindranath': 1, 'Rabindranath Tagore': 1, 'I seem': 1, 'seem to': 1, 'to have': 1, 'have loved': 1, 'loved you': 1, 'you in': 1, 'in numberless': 1, 'numberless forms,': 1, 'forms, numberless': 1, 'numberless times': 1, 'In life': 2, 'life after': 2, 'after life,': 2, 'life, in': 2, 'in age': 2, 'age after': 2, 'after age,': 2, 'age, forever.': 2, 'My spellbound': 1, 'spellbound heart': 1, 'heart has': 1, 'has made': 1, 'made and': 1, 'and remade': 1, 'remade the': 1, 'the necklace': 1, 'necklace of': 1, 'of songs,': 1, 'That you': 1, 'you take': 1, 'take as': 1, 'as a': 1, 'a gift,': 1, 'gift, wear': 1, 'wear round': 1, 'round your': 1, 'your neck': 1, 'neck in': 1, 'in your': 1, 'your many': 1, 'many forms,': 1, 'Whenever I': 1, 'I hear': 1, 'hear old': 1, 'old chronicles': 1, 'chronicles of': 1, 'of love,': 1, 'love, its': 1, 'its age-old': 1, 'age-old pain,': 1, 'Its ancient': 1, 'ancient tale': 1, 'tale of': 1, 'of being': 1, 'being apart': 1, 'apart or': 1, 'or together.': 1, 'As I': 1, 'I stare': 1, 'stare on': 1, 'on and': 1, 'and on': 1, 'on into': 1, 'into the': 1, 'the past,': 1, 'past, in': 1, 'in the': 3, 'the end': 1, 'end you': 1, 'you emerge,': 1, 'Clad in': 1, 'the light': 1, 'light of': 1, 'of a': 1, 'a pole-star': 1, 'pole-star piercing': 1, 'piercing the': 1, 'the darkness': 1, 'darkness of': 1, 'of time:': 1, 'You become': 1, 'become an': 1, 'an image': 1, 'image of': 1, 'of what': 1, 'what is': 1, 'is remembered': 1, 'remembered forever.': 1, 'You and': 1, 'and I': 1, 'I have': 1, 'have floated': 1, 'floated here': 1, 'here on': 1, 'on the': 1, 'the stream': 1, 'stream that': 1, 'that brings': 1, 'brings from': 1, 'from the': 1, 'the fount.': 1, 'At the': 1, 'the heart': 1, 'heart of': 1, 'of time,': 1, 'time, love': 1, 'love of': 3, 'of one': 1, 'one for': 1, 'for another.': 1, 'We have': 1, 'have played': 1, 'played along': 1, 'along side': 1, 'side millions': 1, 'millions of': 1, 'of lovers,': 1, 'lovers, shared': 1, 'shared in': 1, 'the same': 2, 'Shy sweetness': 1, 'sweetness of': 1, 'of meeting,': 1, 'meeting, the': 1, 'same distressful': 1, 'distressful tears': 1, 'tears of': 1, 'of farewell-': 1, 'Old love': 1, 'love but': 1, 'but in': 1, 'in shapes': 1, 'shapes that': 1, 'that renew': 1, 'renew and': 1, 'and renew': 1, 'renew forever.': 1, 'Today it': 1, 'it is': 1, 'is heaped': 1, 'heaped at': 1, 'at your': 1, 'your feet,': 1, 'feet, it': 1, 'it has': 1, 'has found': 1, 'found its': 1, 'its end': 1, 'end in': 1, 'in you': 1, 'The love': 1, 'of all': 2, \"all man's\": 1, \"man's days\": 1, 'days both': 1, 'both past': 1, 'past and': 2, 'and forever:': 1, 'Universal joy,': 1, 'joy, universal': 1, 'universal sorrow,': 1, 'sorrow, universal': 1, 'universal life.': 1, 'The memories': 1, 'memories of': 1, 'all loves': 1, 'loves merging': 1, 'merging with': 1, 'with this': 1, 'this one': 1, 'one love': 1, \"of ours'\": 1, 'And the': 1, 'the songs': 1, 'songs of': 1, 'of every': 1, 'every poet': 1, 'poet past': 1, 'and forever.': 1}\n"
          ],
          "name": "stdout"
        }
      ]
    },
    {
      "cell_type": "code",
      "metadata": {
        "colab": {
          "base_uri": "https://localhost:8080/"
        },
        "id": "9ONKIk1rwibk",
        "outputId": "37f4b053-219f-4c75-c7a0-4b058b6cf14b"
      },
      "source": [
        "frequency_ = dict(sorted(two_grams.items(), key = lambda x: x[1], reverse = True)[:5])\n",
        "print(frequency_)"
      ],
      "execution_count": null,
      "outputs": [
        {
          "output_type": "stream",
          "text": [
            "{'in the': 3, 'love of': 3, 'In life': 2, 'life after': 2, 'after life,': 2}\n"
          ],
          "name": "stdout"
        }
      ]
    },
    {
      "cell_type": "code",
      "metadata": {
        "id": "2uLr9HX-7GCB"
      },
      "source": [
        ""
      ],
      "execution_count": null,
      "outputs": []
    }
  ]
}